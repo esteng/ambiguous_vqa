{
 "cells": [
  {
   "cell_type": "code",
   "execution_count": 16,
   "metadata": {},
   "outputs": [],
   "source": [
    "from collections import defaultdict\n",
    "import csv \n",
    "from csv import reader\n",
    "from scipy.optimize import linear_sum_assignment\n",
    "#from PIL import Image as im\n",
    "from IPython.core.display import Image, display\n",
    "import requests\n",
    "from io import BytesIO\n",
    "import json \n",
    "\n",
    "'''\n",
    "Ambiguity\n",
    "    Multiple Options > A/M\n",
    "    Definition, Location > A/L\n",
    "    Definition, Destination/Intention > A/D\n",
    "    Definition, Kind/Type > A/K\n",
    "    Definition, Time > A/T\n",
    "    Gouping > A/G\n",
    "\n",
    "Uncertainty > U\n",
    "\n",
    "Mistakes/Bad Data\n",
    "    Annotator mistakes > M/A\n",
    "    Bad question/bad images > M/B\n",
    "\n",
    "Misc/need reclassifying > ~\n",
    "\n",
    "Question with multiple classification will have '.' between the classificiations\n",
    "ex: A/M.A/L.M/B)\n",
    "'''\n",
    "\n",
    "input_csv = \"csv_results_ambiguity.csv\"\n",
    "data = []\n",
    "with open(input_csv) as read_obj:\n",
    "    csv_reader = csv.DictReader(read_obj)\n",
    "    for row in csv_reader:\n",
    "        data.append(row)\n"
   ]
  },
  {
   "cell_type": "code",
   "execution_count": null,
   "metadata": {},
   "outputs": [],
   "source": [
    "'''\n",
    "Display by classification\n",
    "'''\n",
    "search_item = 'A/L'\n",
    "\n",
    "for row in data:\n",
    "    temp = row['Answer.skip_reason'].strip('\"')\n",
    "    labels = temp.split('.')\n",
    "    \n",
    "    if search_item in labels:\n",
    "        groups = []\n",
    "\n",
    "        new_questions = json.loads(row['Answer.answer_questions'])\n",
    "        for i, g in enumerate(json.loads(row['Answer.answer_groups'])):\n",
    "            group = []\n",
    "            new_question = new_questions[i]\n",
    "            for x in g:\n",
    "                group.append(x['content'])\n",
    "            groups.append({new_question: group})\n",
    "        print(row['Input.questionStr'])\n",
    "        print(row['Input.imgUrl'])\n",
    "        print(labels)\n",
    "\n",
    "        image_url = row['Input.imgUrl'].strip('\"')\n",
    "        display(Image(url=image_url))\n",
    "       "
   ]
  },
  {
   "cell_type": "code",
   "execution_count": null,
   "metadata": {},
   "outputs": [],
   "source": []
  },
  {
   "cell_type": "code",
   "execution_count": null,
   "metadata": {},
   "outputs": [],
   "source": [
    "'''\n",
    "Display by number of classifications\n",
    "'''\n",
    "search_num = 3\n",
    "\n",
    "for row in data:\n",
    "    temp = row['Answer.skip_reason'].strip('\"')\n",
    "    labels = temp.split('.')\n",
    "    \n",
    "    if len(labels) >= search_num:\n",
    "        groups = []\n",
    "\n",
    "        new_questions = json.loads(row['Answer.answer_questions'])\n",
    "        for i, g in enumerate(json.loads(row['Answer.answer_groups'])):\n",
    "            group = []\n",
    "            new_question = new_questions[i]\n",
    "            for x in g:\n",
    "                group.append(x['content'])\n",
    "            groups.append({new_question: group})\n",
    "        print(row['Input.questionStr'])\n",
    "        print(row['Input.imgUrl'])\n",
    "        print(groups)\n",
    "        print(labels)\n",
    "\n",
    "        image_url = row['Input.imgUrl'].strip('\"')\n",
    "        display(Image(url=image_url))"
   ]
  },
  {
   "cell_type": "code",
   "execution_count": 8,
   "metadata": {},
   "outputs": [
    {
     "name": "stdout",
     "output_type": "stream",
     "text": [
      "There are 295 examples, with 179 good ones and 116 bad ones.\n"
     ]
    },
    {
     "data": {
      "image/png": "[encoded data removed]",
      "text/plain": [
       "<Figure size 432x288 with 1 Axes>"
      ]
     },
     "metadata": {
      "needs_background": "light"
     },
     "output_type": "display_data"
    }
   ],
   "source": [
    "import seaborn as sns \n",
    "from matplotlib import pyplot as plt \n",
    "import numpy as np \n",
    "\n",
    "# Histogram\n",
    "num_mistakes_other = 0\n",
    "num_to_keep = 0\n",
    "total = 0\n",
    "# histogram \n",
    "acceptable = ['A/M', 'A/G', 'A/D', 'A/K', 'A/T', 'U', 'M/A', 'M/B', 'skip', '~']\n",
    "to_keep = ['A/M', 'A/G', 'A/D', 'A/K', 'A/T',  '~']\n",
    "all_labels = []\n",
    "for row in data:\n",
    "    temp = row['Answer.skip_reason'].strip('\"')\n",
    "    labels = temp.split('.')\n",
    "    for lab in labels:\n",
    "        if lab in acceptable:\n",
    "            all_labels.append(lab)\n",
    "    total += 1\n",
    "    for lab in labels:\n",
    "        if lab in to_keep: \n",
    "            num_to_keep += 1 \n",
    "            break\n",
    "        else:\n",
    "            num_mistakes_other  += 1\n",
    "            break\n",
    "\n",
    "\n",
    "\n",
    "g = sns.histplot(all_labels)\n",
    "\n",
    "plt.xticks(rotation=90)\n",
    "\n",
    "\n",
    "print(f\"There are {total} examples, with {num_to_keep} good ones and {num_mistakes_other} bad ones.\")"
   ]
  },
  {
   "cell_type": "code",
   "execution_count": 35,
   "metadata": {},
   "outputs": [
    {
     "name": "stdout",
     "output_type": "stream",
     "text": [
      "{'A/M': [0, 2, 0, 2, 0, 0, 0, 0, 0, 1, 1], 'A/G': [0, 0, 0, 0, 0, 0, 0, 0, 0, 0, 0], 'A/D': [0, 0, 0, 0, 0, 0, 0, 0, 0, 0, 0], 'A/K': [0, 0, 0, 0, 0, 0, 0, 0, 0, 0, 0], '~': [0, 0, 0, 0, 0, 0, 0, 0, 0, 0, 0], 'U': [0, 0, 0, 0, 0, 0, 2, 4, 0, 0, 0], 'M/A': [0, 0, 0, 0, 0, 0, 0, 0, 0, 0, 0], 'M/B': [0, 0, 0, 0, 0, 0, 0, 0, 0, 0, 0], 'skip': [0, 0, 0, 0, 0, 0, 0, 0, 0, 0, 0], 'A/T': [0, 0, 0, 0, 0, 0, 0, 0, 0, 0, 0], 'A/L': [0, 0, 0, 0, 0, 0, 0, 0, 0, 0, 0]}\n",
      "[[0, 2, 0, 2, 0, 0, 0, 0, 0, 1, 1], [0, 0, 0, 0, 0, 0, 0, 0, 0, 0, 0], [0, 0, 0, 0, 0, 0, 0, 0, 0, 0, 0], [0, 0, 0, 0, 0, 0, 0, 0, 0, 0, 0], [0, 0, 0, 0, 0, 0, 0, 0, 0, 0, 0], [0, 0, 0, 0, 0, 0, 2, 4, 0, 0, 0], [0, 0, 0, 0, 0, 0, 0, 0, 0, 0, 0], [0, 0, 0, 0, 0, 0, 0, 0, 0, 0, 0], [0, 0, 0, 0, 0, 0, 0, 0, 0, 0, 0], [0, 0, 0, 0, 0, 0, 0, 0, 0, 0, 0], [0, 0, 0, 0, 0, 0, 0, 0, 0, 0, 0]]\n"
     ]
    },
    {
     "data": {
      "image/png": "[encoded data removed]",
      "text/plain": [
       "<Figure size 432x288 with 2 Axes>"
      ]
     },
     "metadata": {
      "needs_background": "light"
     },
     "output_type": "display_data"
    }
   ],
   "source": [
    "import numpy as np\n",
    "import pandas as pd\n",
    "import seaborn  as sns\n",
    "from matplotlib import pyplot as plt\n",
    "\n",
    "'A/M 0 , A/G 1, A/D 2, A/K 3, ~ 4, U 5, M/A 6, M/B 7, skip 8, A/T 9'\n",
    "intersection_dict = {'A/M': [0,0,0,0,0,0,0,0,0,0,0], \n",
    "                    'A/G': [0,0,0,0,0,0,0,0,0,0,0], \n",
    "                    'A/D': [0,0,0,0,0,0,0,0,0,0,0], \n",
    "                    'A/K': [0,0,0,0,0,0,0,0,0,0,0], \n",
    "                    '~': [0,0,0,0,0,0,0,0,0,0,0], \n",
    "                    'U': [0,0,0,0,0,0,0,0,0,0,0], \n",
    "                    'M/A': [0,0,0,0,0,0,0,0,0,0,0], \n",
    "                    'M/B': [0,0,0,0,0,0,0,0,0,0,0], \n",
    "                    'skip': [0,0,0,0,0,0,0,0,0,0,0], \n",
    "                    'A/T': [0,0,0,0,0,0,0,0,0,0,0],\n",
    "                    'A/L': [0,0,0,0,0,0,0,0,0,0,0]}\n",
    "\n",
    "# Heatmap\n",
    "for row in data:\n",
    "    temp = row['Answer.skip_reason'].strip('\"')\n",
    "    labels = temp.split('.')\n",
    "    #print(labels)\n",
    "    nlabels = len(labels)\n",
    "    if nlabels > 1:\n",
    "        for lab in range(1, nlabels-1):\n",
    "            if labels[lab] == 'A/M':\n",
    "                intersection_dict[labels[0]][0] += 1\n",
    "            if labels[lab] == 'A/G':\n",
    "                intersection_dict[labels[0]][1] += 1\n",
    "            if labels[lab] == 'A/D':\n",
    "                intersection_dict[labels[0]][2] += 1\n",
    "            if labels[lab] == 'A/K':\n",
    "                intersection_dict[labels[0]][3] += 1\n",
    "            if labels[lab] == '~':\n",
    "                intersection_dict[labels[0]][4] += 1\n",
    "            if labels[lab] == 'U':\n",
    "                intersection_dict[labels[0]][5] += 1\n",
    "            if labels[lab] == 'M/A':\n",
    "                intersection_dict[labels[0]][6] += 1\n",
    "            if labels[lab] == 'M/B':\n",
    "                intersection_dict[labels[0]][7] += 1\n",
    "            if labels[lab] == 'skip':\n",
    "                intersection_dict[labels[0]][8] += 1\n",
    "            if labels[lab] == 'A/T':\n",
    "                intersection_dict[labels[0]][9] += 1\n",
    "            if labels[lab] == 'A/L':\n",
    "                intersection_dict[labels[0]][10] += 1\n",
    "    \n",
    "print(intersection_dict)\n",
    "\n",
    "Yrows = ['A/M', 'A/G', 'A/D', 'A/K', '~', 'U', 'M/A', 'M/B', 'skip', 'A/T']\n",
    "Xrows = ['A/M', 'A/G', 'A/D', 'A/K', '~', 'U', 'M/A', 'M/B', 'skip', 'A/T']\n",
    "\n",
    "intersection_2d_array = []\n",
    "for types in intersection_dict: \n",
    "    intersection_2d_array.append(intersection_dict[types])\n",
    "\n",
    "print(intersection_2d_array)\n",
    "ax = sns.heatmap(intersection_2d_array, yticklabels=Yrows, xticklabels = Xrows)\n",
    "#ax.set_yticks(Yrows)\n",
    "plt.show()\n",
    "\n",
    "                \n",
    "        "
   ]
  }
 ],
 "metadata": {
  "kernelspec": {
   "display_name": "Python 3.8.10 64-bit (windows store)",
   "language": "python",
   "name": "python3"
  },
  "language_info": {
   "codemirror_mode": {
    "name": "ipython",
    "version": 3
   },
   "file_extension": ".py",
   "mimetype": "text/x-python",
   "name": "python",
   "nbconvert_exporter": "python",
   "pygments_lexer": "ipython3",
   "version": "3.8.10"
  },
  "orig_nbformat": 4,
  "vscode": {
   "interpreter": {
    "hash": "cacd3390d2a8d6fc4ec6456c90ddb2483db8c2f7d1c08ee5462b8750cc80ce66"
   }
  }
 },
 "nbformat": 4,
 "nbformat_minor": 2
}
