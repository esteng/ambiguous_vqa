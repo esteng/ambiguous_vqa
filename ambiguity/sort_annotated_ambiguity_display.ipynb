{
 "cells": [
  {
   "cell_type": "code",
   "execution_count": 10,
   "metadata": {},
   "outputs": [],
   "source": [
    "from collections import defaultdict\n",
    "import csv \n",
    "from csv import reader\n",
    "from scipy.optimize import linear_sum_assignment\n",
    "#from PIL import Image as im\n",
    "from IPython.core.display import Image, display\n",
    "import requests\n",
    "from io import BytesIO\n",
    "import json \n",
    "\n",
    "'''\n",
    "Ambiguity\n",
    "    Multiple Options > A/M\n",
    "    Definition, Location > A/L\n",
    "    Definition, Destination/Intention > A/D\n",
    "    Definition, Kind/Type > A/K\n",
    "    Definition, Time > A/T\n",
    "    Gouping > A/G\n",
    "\n",
    "Uncertainty > U\n",
    "\n",
    "Mistakes/Bad Data\n",
    "    Annotator mistakes > M/A\n",
    "    Bad question/bad images > M/B\n",
    "\n",
    "Misc/need reclassifying > ~\n",
    "\n",
    "Question with multiple classification will have '.' between the classificiations\n",
    "ex: A/M.A/L.M/B)\n",
    "'''\n",
    "\n",
    "input_csv = \"csv_results_ambiguity.csv\"\n",
    "data = []\n",
    "with open(input_csv) as read_obj:\n",
    "    csv_reader = csv.DictReader(read_obj)\n",
    "    for row in csv_reader:\n",
    "        data.append(row)\n"
   ]
  },
  {
   "cell_type": "code",
   "execution_count": null,
   "metadata": {},
   "outputs": [],
   "source": [
    "'''\n",
    "Display by classification\n",
    "'''\n",
    "search_item = 'A/L'\n",
    "\n",
    "for row in data:\n",
    "    temp = row['Answer.skip_reason'].strip('\"')\n",
    "    labels = temp.split('.')\n",
    "    \n",
    "    if search_item in labels:\n",
    "        groups = []\n",
    "\n",
    "        new_questions = json.loads(row['Answer.answer_questions'])\n",
    "        for i, g in enumerate(json.loads(row['Answer.answer_groups'])):\n",
    "            group = []\n",
    "            new_question = new_questions[i]\n",
    "            for x in g:\n",
    "                group.append(x['content'])\n",
    "            groups.append({new_question: group})\n",
    "        print(row['Input.questionStr'])\n",
    "        print(row['Input.imgUrl'])\n",
    "        print(labels)\n",
    "\n",
    "        image_url = row['Input.imgUrl'].strip('\"')\n",
    "        display(Image(url=image_url))\n",
    "       "
   ]
  },
  {
   "cell_type": "code",
   "execution_count": null,
   "metadata": {},
   "outputs": [],
   "source": []
  },
  {
   "cell_type": "code",
   "execution_count": null,
   "metadata": {},
   "outputs": [],
   "source": [
    "'''\n",
    "Display by number of classifications\n",
    "'''\n",
    "search_num = 3\n",
    "\n",
    "for row in data:\n",
    "    temp = row['Answer.skip_reason'].strip('\"')\n",
    "    labels = temp.split('.')\n",
    "    \n",
    "    if len(labels) >= search_num:\n",
    "        groups = []\n",
    "\n",
    "        new_questions = json.loads(row['Answer.answer_questions'])\n",
    "        for i, g in enumerate(json.loads(row['Answer.answer_groups'])):\n",
    "            group = []\n",
    "            new_question = new_questions[i]\n",
    "            for x in g:\n",
    "                group.append(x['content'])\n",
    "            groups.append({new_question: group})\n",
    "        print(row['Input.questionStr'])\n",
    "        print(row['Input.imgUrl'])\n",
    "        print(groups)\n",
    "        print(labels)\n",
    "\n",
    "        image_url = row['Input.imgUrl'].strip('\"')\n",
    "        display(Image(url=image_url))"
   ]
  },
  {
   "cell_type": "code",
   "execution_count": 89,
   "metadata": {},
   "outputs": [
    {
     "name": "stdout",
     "output_type": "stream",
     "text": [
      "[58, 48, 46, 6, 19, 20, 15, 2, 1, 6]\n"
     ]
    },
    {
     "data": {
      "image/png": "[encoded data removed]",
      "text/plain": [
       "<Figure size 432x288 with 1 Axes>"
      ]
     },
     "metadata": {
      "needs_background": "light"
     },
     "output_type": "display_data"
    },
    {
     "name": "stdout",
     "output_type": "stream",
     "text": [
      "There are 206 examples, with 184 good ones and 22 bad ones.\n"
     ]
    }
   ],
   "source": [
    "import seaborn as sns \n",
    "from matplotlib import pyplot as plt \n",
    "import numpy as np \n",
    "\n",
    "# Histogram\n",
    "num_mistakes_other = 0\n",
    "num_to_keep = 0\n",
    "total = 0\n",
    "# histogram \n",
    "\n",
    "histogram_data = []\n",
    "\n",
    "for line in open('../jimena_work/consolidate_data_1.josnl', 'r'):\n",
    "    histogram_data.append(json.loads(line))\n",
    "\n",
    "\n",
    "acceptable = ['A/L', 'A/K', 'A/M', 'A/D', 'A/G', 'A/C', 'A/P', 'A/N', 'misc', 'U']\n",
    "acceptable_count = [0, 0, 0, 0, 0, 0, 0, 0, 0, 0]\n",
    "\n",
    "to_keep = ['A/M', 'A/G', 'A/D', 'A/K', 'A/T', 'A/C', 'A/P', 'A/N', 'A/L']\n",
    "all_labels = []\n",
    "for row in data:\n",
    "    temp = row['ambiguity_type'].strip('\"').strip(\"\\\\\").strip('\"').strip(' ')\n",
    "    labels = temp.split('.')\n",
    "    for lab in labels:\n",
    "        if lab == 'A/L':\n",
    "            acceptable_count[0] += 1\n",
    "        if lab == 'A/K':\n",
    "             acceptable_count[1] += 1\n",
    "        if lab == 'A/M':\n",
    "             acceptable_count[2] += 1\n",
    "        if lab == 'A/D':\n",
    "             acceptable_count[3] += 1\n",
    "        if lab == 'A/G':\n",
    "             acceptable_count[4] += 1\n",
    "        if lab == 'A/C':\n",
    "             acceptable_count[5] += 1\n",
    "        if lab == 'A/P':\n",
    "             acceptable_count[6] += 1\n",
    "        if lab == 'A/N':\n",
    "             acceptable_count[7] += 1\n",
    "        if lab == 'misc':\n",
    "             acceptable_count[8] += 1\n",
    "        if lab == 'U':\n",
    "             acceptable_count[9] += 1\n",
    "            \n",
    "        if lab in acceptable:\n",
    "            all_labels.append(lab)\n",
    "    total += 1\n",
    "    for lab in labels:\n",
    "        if lab in to_keep: \n",
    "            num_to_keep += 1 \n",
    "            break\n",
    "        else:\n",
    "            num_mistakes_other  += 1\n",
    "            break\n",
    "\n",
    "print(acceptable_count)\n",
    "df = pd.DataFrame({\"Labels\": acceptable,\n",
    "                    \"LabelCount\": acceptable_count})\n",
    "g = sns.barplot(x=acceptable, y=acceptable_count, data=df, order=df.sort_values(\"LabelCount\", ascending=False).Labels)\n",
    "\n",
    "#plt.xticks(rotation=90)\n",
    "plt.show()\n",
    "\n",
    "print(f\"There are {total} examples, with {num_to_keep} good ones and {num_mistakes_other} bad ones.\")"
   ]
  },
  {
   "cell_type": "code",
   "execution_count": 44,
   "metadata": {},
   "outputs": [
    {
     "data": {
      "image/png": "[encoded data removed]",
      "text/plain": [
       "<Figure size 432x288 with 2 Axes>"
      ]
     },
     "metadata": {
      "needs_background": "light"
     },
     "output_type": "display_data"
    }
   ],
   "source": [
    "import numpy as np\n",
    "import pandas as pd\n",
    "import seaborn  as sns\n",
    "from matplotlib import pyplot as plt\n",
    "import json\n",
    "\n",
    "data_1 = []\n",
    "\n",
    "for line in open('../jimena_work/consolidate_data_1.josnl', 'r'):\n",
    "    data_1.append(json.loads(line))\n",
    "\n",
    "intersection_dict = {'A/M': [0,0,0,0,0,0,0,0,0,0], \n",
    "                    'A/G': [0,0,0,0,0,0,0,0,0,0], \n",
    "                    'A/D': [0,0,0,0,0,0,0,0,0,0], \n",
    "                    'A/K': [0,0,0,0,0,0,0,0,0,0], \n",
    "                    'A/C': [0,0,0,0,0,0,0,0,0,0], \n",
    "                    'A/P': [0,0,0,0,0,0,0,0,0,0], \n",
    "                    'A/N': [0,0,0,0,0,0,0,0,0,0], \n",
    "                    'A/L': [0,0,0,0,0,0,0,0,0,0], \n",
    "                    'misc': [0,0,0,0,0,0,0,0,0,0], \n",
    "                    'U': [0,0,0,0,0,0,0,0,0,0]}\n",
    "                    \n",
    "# Heatmap\n",
    "for row in data_1:\n",
    "    temp = row['ambiguity_type'].strip('\"').strip(\"\\\\\").strip('\"').strip(' ')\n",
    "    labels = temp.split('.')\n",
    "    nlabels = len(labels)\n",
    "    if nlabels > 1:\n",
    "    \n",
    "        for lab in range(1, nlabels):\n",
    "            if labels[lab] == 'A/M':\n",
    "                intersection_dict[labels[0]][0] = intersection_dict[labels[0]][0] + 1\n",
    "            if labels[lab] == 'A/G':\n",
    "                intersection_dict[labels[0]][1] = intersection_dict[labels[0]][1] + 1\n",
    "            if labels[lab] == 'A/D':\n",
    "                intersection_dict[labels[0]][2] = intersection_dict[labels[0]][2] + 1\n",
    "            if labels[lab] == 'A/K':\n",
    "                intersection_dict[labels[0]][3] = intersection_dict[labels[0]][3] + 1\n",
    "            if labels[lab] == 'A/C':\n",
    "                intersection_dict[labels[0]][4] = intersection_dict[labels[0]][4] + 1\n",
    "            if labels[lab] == 'A/P':\n",
    "                intersection_dict[labels[0]][5] =intersection_dict[labels[0]][5] + 1\n",
    "            if labels[lab] == 'A/N':\n",
    "                intersection_dict[labels[0]][6] = intersection_dict[labels[0]][6] + 1\n",
    "            if labels[lab] == 'A/L':\n",
    "                intersection_dict[labels[0]][7] = intersection_dict[labels[0]][7] + 1\n",
    "            if labels[lab] == 'misc':\n",
    "                intersection_dict[labels[0]][8] = intersection_dict[labels[0]][8] + 1\n",
    "            if labels[lab] == 'U':\n",
    "                intersection_dict[labels[0]][9] = intersection_dict[labels[0]][9] + 1\n",
    "\n",
    "Yrows = ['A/M', 'A/G', 'A/D', 'A/K', 'A/C', 'A/P', 'A/N', 'A/L', 'misc', 'U']\n",
    "Xrows = ['A/M', 'A/G', 'A/D', 'A/K', 'A/C', 'A/P', 'A/N', 'A/L', 'misc', 'U']\n",
    "\n",
    "intersection_2d_array = []\n",
    "for types in intersection_dict: \n",
    "    intersection_2d_array.append(intersection_dict[types])\n",
    "\n",
    "cmap = sns.cm.rocket_r\n",
    "ax = sns.heatmap(intersection_2d_array, yticklabels=Yrows, xticklabels = Xrows, cmap=cmap)\n",
    "#ax.set_yticks(Yrows)\n",
    "plt.show()\n",
    "\n",
    "                \n",
    "        "
   ]
  }
 ],
 "metadata": {
  "kernelspec": {
   "display_name": "Python 3.8.10 64-bit (windows store)",
   "language": "python",
   "name": "python3"
  },
  "language_info": {
   "codemirror_mode": {
    "name": "ipython",
    "version": 3
   },
   "file_extension": ".py",
   "mimetype": "text/x-python",
   "name": "python",
   "nbconvert_exporter": "python",
   "pygments_lexer": "ipython3",
   "version": "3.8.10"
  },
  "orig_nbformat": 4,
  "vscode": {
   "interpreter": {
    "hash": "cacd3390d2a8d6fc4ec6456c90ddb2483db8c2f7d1c08ee5462b8750cc80ce66"
   }
  }
 },
 "nbformat": 4,
 "nbformat_minor": 2
}
