{
 "cells": [
  {
   "cell_type": "code",
   "execution_count": 3,
   "metadata": {},
   "outputs": [],
   "source": [
    "from collections import defaultdict\n",
    "import csv \n",
    "from csv import reader\n",
    "from scipy.optimize import linear_sum_assignment\n",
    "#from PIL import Image as im\n",
    "from IPython.core.display import Image, display\n",
    "import requests\n",
    "from io import BytesIO\n",
    "\n",
    "'''\n",
    "Ambiguity\n",
    "    Multiple Options > A/M\n",
    "    Definition, Location > A/L\n",
    "    Definition, Destination/Intention > A/D\n",
    "    Definition, Kind/Type > A/K\n",
    "    Definition, Time > A/T\n",
    "    Gouping > A/G\n",
    "\n",
    "Uncertainty > U\n",
    "\n",
    "Mistakes/Bad Data\n",
    "    Annotator mistakes > M/A\n",
    "    Bad question/bad images > M/B\n",
    "\n",
    "Misc/need reclassifying > ~\n",
    "\n",
    "Question with multiple classification will have '.' between the classificiations\n",
    "ex: A/M.A/L.M/B)\n",
    "'''\n",
    "\n",
    "input_csv = \"csv_results_ambiguity.csv\"\n",
    "data = []\n",
    "with open(input_csv) as read_obj:\n",
    "    csv_reader = csv.DictReader(read_obj)\n",
    "    for row in csv_reader:\n",
    "        data.append(row)\n"
   ]
  },
  {
   "cell_type": "code",
   "execution_count": 5,
   "metadata": {},
   "outputs": [
    {
     "name": "stdout",
     "output_type": "stream",
     "text": [
      "\"Where was the picture taken?\"\n",
      "\"https://cs.jhu.edu/~esteng/images_for_hit/COCO_train2014_000000238006.jpg\"\n",
      "['A/L']\n"
     ]
    },
    {
     "data": {
      "text/html": [
       "<img src=\"https://cs.jhu.edu/~esteng/images_for_hit/COCO_train2014_000000238006.jpg\"/>"
      ],
      "text/plain": [
       "<IPython.core.display.Image object>"
      ]
     },
     "metadata": {},
     "output_type": "display_data"
    },
    {
     "name": "stdout",
     "output_type": "stream",
     "text": [
      "\"Where are the pizza?\"\n",
      "\"https://cs.jhu.edu/~esteng/images_for_hit/COCO_train2014_000000448944.jpg\"\n",
      "['A/L']\n"
     ]
    },
    {
     "data": {
      "text/html": [
       "<img src=\"https://cs.jhu.edu/~esteng/images_for_hit/COCO_train2014_000000448944.jpg\"/>"
      ],
      "text/plain": [
       "<IPython.core.display.Image object>"
      ]
     },
     "metadata": {},
     "output_type": "display_data"
    },
    {
     "name": "stdout",
     "output_type": "stream",
     "text": [
      "\"Where is the fan?\"\n",
      "\"https://cs.jhu.edu/~esteng/images_for_hit/COCO_train2014_000000418141.jpg\"\n",
      "['A/L']\n"
     ]
    },
    {
     "data": {
      "text/html": [
       "<img src=\"https://cs.jhu.edu/~esteng/images_for_hit/COCO_train2014_000000418141.jpg\"/>"
      ],
      "text/plain": [
       "<IPython.core.display.Image object>"
      ]
     },
     "metadata": {},
     "output_type": "display_data"
    },
    {
     "name": "stdout",
     "output_type": "stream",
     "text": [
      "\"Where are the passengers?\"\n",
      "\"https://cs.jhu.edu/~esteng/images_for_hit/COCO_train2014_000000170857.jpg\"\n",
      "['A/M', 'A/L']\n"
     ]
    },
    {
     "data": {
      "text/html": [
       "<img src=\"https://cs.jhu.edu/~esteng/images_for_hit/COCO_train2014_000000170857.jpg\"/>"
      ],
      "text/plain": [
       "<IPython.core.display.Image object>"
      ]
     },
     "metadata": {},
     "output_type": "display_data"
    },
    {
     "name": "stdout",
     "output_type": "stream",
     "text": [
      "\"Where are the people sitting?\"\n",
      "\"https://cs.jhu.edu/~esteng/images_for_hit/COCO_train2014_000000426980.jpg\"\n",
      "['A/L']\n"
     ]
    },
    {
     "data": {
      "text/html": [
       "<img src=\"https://cs.jhu.edu/~esteng/images_for_hit/COCO_train2014_000000426980.jpg\"/>"
      ],
      "text/plain": [
       "<IPython.core.display.Image object>"
      ]
     },
     "metadata": {},
     "output_type": "display_data"
    },
    {
     "name": "stdout",
     "output_type": "stream",
     "text": [
      "\"Where is this?\"\n",
      "\"https://cs.jhu.edu/~esteng/images_for_hit/COCO_train2014_000000485180.jpg\"\n",
      "['A/L']\n"
     ]
    },
    {
     "data": {
      "text/html": [
       "<img src=\"https://cs.jhu.edu/~esteng/images_for_hit/COCO_train2014_000000485180.jpg\"/>"
      ],
      "text/plain": [
       "<IPython.core.display.Image object>"
      ]
     },
     "metadata": {},
     "output_type": "display_data"
    },
    {
     "name": "stdout",
     "output_type": "stream",
     "text": [
      "\"Where is the photographer standing?\"\n",
      "\"https://cs.jhu.edu/~esteng/images_for_hit/COCO_train2014_000000127744.jpg\"\n",
      "['A/L']\n"
     ]
    },
    {
     "data": {
      "text/html": [
       "<img src=\"https://cs.jhu.edu/~esteng/images_for_hit/COCO_train2014_000000127744.jpg\"/>"
      ],
      "text/plain": [
       "<IPython.core.display.Image object>"
      ]
     },
     "metadata": {},
     "output_type": "display_data"
    },
    {
     "name": "stdout",
     "output_type": "stream",
     "text": [
      "\"Where is this bus likely to be located?\"\n",
      "\"https://cs.jhu.edu/~esteng/images_for_hit/COCO_train2014_000000150546.jpg\"\n",
      "['A/L']\n"
     ]
    },
    {
     "data": {
      "text/html": [
       "<img src=\"https://cs.jhu.edu/~esteng/images_for_hit/COCO_train2014_000000150546.jpg\"/>"
      ],
      "text/plain": [
       "<IPython.core.display.Image object>"
      ]
     },
     "metadata": {},
     "output_type": "display_data"
    },
    {
     "name": "stdout",
     "output_type": "stream",
     "text": [
      "\"Where is the stop sign?\"\n",
      "\"https://cs.jhu.edu/~esteng/images_for_hit/COCO_train2014_000000124992.jpg\"\n",
      "['A/L']\n"
     ]
    },
    {
     "data": {
      "text/html": [
       "<img src=\"https://cs.jhu.edu/~esteng/images_for_hit/COCO_train2014_000000124992.jpg\"/>"
      ],
      "text/plain": [
       "<IPython.core.display.Image object>"
      ]
     },
     "metadata": {},
     "output_type": "display_data"
    },
    {
     "name": "stdout",
     "output_type": "stream",
     "text": [
      "\"Where is the motorcycle parked?\"\n",
      "\"https://cs.jhu.edu/~esteng/images_for_hit/COCO_train2014_000000421383.jpg\"\n",
      "['A/L']\n"
     ]
    },
    {
     "data": {
      "text/html": [
       "<img src=\"https://cs.jhu.edu/~esteng/images_for_hit/COCO_train2014_000000421383.jpg\"/>"
      ],
      "text/plain": [
       "<IPython.core.display.Image object>"
      ]
     },
     "metadata": {},
     "output_type": "display_data"
    },
    {
     "name": "stdout",
     "output_type": "stream",
     "text": [
      "\"Where would you look in the picture for the local newspaper?\"\n",
      "\"https://cs.jhu.edu/~esteng/images_for_hit/COCO_train2014_000000387543.jpg\"\n",
      "['A/L']\n"
     ]
    },
    {
     "data": {
      "text/html": [
       "<img src=\"https://cs.jhu.edu/~esteng/images_for_hit/COCO_train2014_000000387543.jpg\"/>"
      ],
      "text/plain": [
       "<IPython.core.display.Image object>"
      ]
     },
     "metadata": {},
     "output_type": "display_data"
    },
    {
     "name": "stdout",
     "output_type": "stream",
     "text": [
      "\"Where is the skateboard?\"\n",
      "\"https://cs.jhu.edu/~esteng/images_for_hit/COCO_train2014_000000140204.jpg\"\n",
      "['A/L']\n"
     ]
    },
    {
     "data": {
      "text/html": [
       "<img src=\"https://cs.jhu.edu/~esteng/images_for_hit/COCO_train2014_000000140204.jpg\"/>"
      ],
      "text/plain": [
       "<IPython.core.display.Image object>"
      ]
     },
     "metadata": {},
     "output_type": "display_data"
    },
    {
     "name": "stdout",
     "output_type": "stream",
     "text": [
      "\"What are the ducks standing behind?\"\n",
      "\"https://cs.jhu.edu/~esteng/images_for_hit/COCO_train2014_000000145366.jpg\"\n",
      "['A/L']\n"
     ]
    },
    {
     "data": {
      "text/html": [
       "<img src=\"https://cs.jhu.edu/~esteng/images_for_hit/COCO_train2014_000000145366.jpg\"/>"
      ],
      "text/plain": [
       "<IPython.core.display.Image object>"
      ]
     },
     "metadata": {},
     "output_type": "display_data"
    },
    {
     "name": "stdout",
     "output_type": "stream",
     "text": [
      "\"Where are they at?\"\n",
      "\"https://cs.jhu.edu/~esteng/images_for_hit/COCO_train2014_000000259717.jpg\"\n",
      "['A/L']\n"
     ]
    },
    {
     "data": {
      "text/html": [
       "<img src=\"https://cs.jhu.edu/~esteng/images_for_hit/COCO_train2014_000000259717.jpg\"/>"
      ],
      "text/plain": [
       "<IPython.core.display.Image object>"
      ]
     },
     "metadata": {},
     "output_type": "display_data"
    },
    {
     "name": "stdout",
     "output_type": "stream",
     "text": [
      "\"Where is the pizza at?\"\n",
      "\"https://cs.jhu.edu/~esteng/images_for_hit/COCO_train2014_000000286673.jpg\"\n",
      "['A/L']\n"
     ]
    },
    {
     "data": {
      "text/html": [
       "<img src=\"https://cs.jhu.edu/~esteng/images_for_hit/COCO_train2014_000000286673.jpg\"/>"
      ],
      "text/plain": [
       "<IPython.core.display.Image object>"
      ]
     },
     "metadata": {},
     "output_type": "display_data"
    },
    {
     "name": "stdout",
     "output_type": "stream",
     "text": [
      "\"Where was the picture taken of the people?\"\n",
      "\"https://cs.jhu.edu/~esteng/images_for_hit/COCO_train2014_000000250194.jpg\"\n",
      "['A/L']\n"
     ]
    },
    {
     "data": {
      "text/html": [
       "<img src=\"https://cs.jhu.edu/~esteng/images_for_hit/COCO_train2014_000000250194.jpg\"/>"
      ],
      "text/plain": [
       "<IPython.core.display.Image object>"
      ]
     },
     "metadata": {},
     "output_type": "display_data"
    },
    {
     "name": "stdout",
     "output_type": "stream",
     "text": [
      "\"What are they on?\"\n",
      "\"https://cs.jhu.edu/~esteng/images_for_hit/COCO_train2014_000000237333.jpg\"\n",
      "['A/L']\n"
     ]
    },
    {
     "data": {
      "text/html": [
       "<img src=\"https://cs.jhu.edu/~esteng/images_for_hit/COCO_train2014_000000237333.jpg\"/>"
      ],
      "text/plain": [
       "<IPython.core.display.Image object>"
      ]
     },
     "metadata": {},
     "output_type": "display_data"
    },
    {
     "name": "stdout",
     "output_type": "stream",
     "text": [
      "\"Where is the big teddy bear?\"\n",
      "\"https://cs.jhu.edu/~esteng/images_for_hit/COCO_train2014_000000404406.jpg\"\n",
      "['A/L']\n"
     ]
    },
    {
     "data": {
      "text/html": [
       "<img src=\"https://cs.jhu.edu/~esteng/images_for_hit/COCO_train2014_000000404406.jpg\"/>"
      ],
      "text/plain": [
       "<IPython.core.display.Image object>"
      ]
     },
     "metadata": {},
     "output_type": "display_data"
    },
    {
     "name": "stdout",
     "output_type": "stream",
     "text": [
      "\"Where is this body of water?\"\n",
      "\"https://cs.jhu.edu/~esteng/images_for_hit/COCO_train2014_000000223458.jpg\"\n",
      "['A/L']\n"
     ]
    },
    {
     "data": {
      "text/html": [
       "<img src=\"https://cs.jhu.edu/~esteng/images_for_hit/COCO_train2014_000000223458.jpg\"/>"
      ],
      "text/plain": [
       "<IPython.core.display.Image object>"
      ]
     },
     "metadata": {},
     "output_type": "display_data"
    },
    {
     "name": "stdout",
     "output_type": "stream",
     "text": [
      "\"Where is the water bottle?\"\n",
      "\"https://cs.jhu.edu/~esteng/images_for_hit/COCO_train2014_000000389775.jpg\"\n",
      "['A/L']\n"
     ]
    },
    {
     "data": {
      "text/html": [
       "<img src=\"https://cs.jhu.edu/~esteng/images_for_hit/COCO_train2014_000000389775.jpg\"/>"
      ],
      "text/plain": [
       "<IPython.core.display.Image object>"
      ]
     },
     "metadata": {},
     "output_type": "display_data"
    },
    {
     "name": "stdout",
     "output_type": "stream",
     "text": [
      "\"Where is the surfer in the picture?\"\n",
      "\"https://cs.jhu.edu/~esteng/images_for_hit/COCO_train2014_000000250777.jpg\"\n",
      "['A/L']\n"
     ]
    },
    {
     "data": {
      "text/html": [
       "<img src=\"https://cs.jhu.edu/~esteng/images_for_hit/COCO_train2014_000000250777.jpg\"/>"
      ],
      "text/plain": [
       "<IPython.core.display.Image object>"
      ]
     },
     "metadata": {},
     "output_type": "display_data"
    },
    {
     "name": "stdout",
     "output_type": "stream",
     "text": [
      "\"Where is the baby looking?\"\n",
      "\"https://cs.jhu.edu/~esteng/images_for_hit/COCO_train2014_000000240862.jpg\"\n",
      "['A/L']\n"
     ]
    },
    {
     "data": {
      "text/html": [
       "<img src=\"https://cs.jhu.edu/~esteng/images_for_hit/COCO_train2014_000000240862.jpg\"/>"
      ],
      "text/plain": [
       "<IPython.core.display.Image object>"
      ]
     },
     "metadata": {},
     "output_type": "display_data"
    },
    {
     "name": "stdout",
     "output_type": "stream",
     "text": [
      "\"Where are the flowers?\"\n",
      "\"https://cs.jhu.edu/~esteng/images_for_hit/COCO_train2014_000000432486.jpg\"\n",
      "['A/L']\n"
     ]
    },
    {
     "data": {
      "text/html": [
       "<img src=\"https://cs.jhu.edu/~esteng/images_for_hit/COCO_train2014_000000432486.jpg\"/>"
      ],
      "text/plain": [
       "<IPython.core.display.Image object>"
      ]
     },
     "metadata": {},
     "output_type": "display_data"
    },
    {
     "name": "stdout",
     "output_type": "stream",
     "text": [
      "\"Where are the boxcars?\"\n",
      "\"https://cs.jhu.edu/~esteng/images_for_hit/COCO_train2014_000000100483.jpg\"\n",
      "['A/L']\n"
     ]
    },
    {
     "data": {
      "text/html": [
       "<img src=\"https://cs.jhu.edu/~esteng/images_for_hit/COCO_train2014_000000100483.jpg\"/>"
      ],
      "text/plain": [
       "<IPython.core.display.Image object>"
      ]
     },
     "metadata": {},
     "output_type": "display_data"
    },
    {
     "name": "stdout",
     "output_type": "stream",
     "text": [
      "\"Where is the shrubbery?\"\n",
      "\"https://cs.jhu.edu/~esteng/images_for_hit/COCO_train2014_000000340185.jpg\"\n",
      "['A/L']\n"
     ]
    },
    {
     "data": {
      "text/html": [
       "<img src=\"https://cs.jhu.edu/~esteng/images_for_hit/COCO_train2014_000000340185.jpg\"/>"
      ],
      "text/plain": [
       "<IPython.core.display.Image object>"
      ]
     },
     "metadata": {},
     "output_type": "display_data"
    },
    {
     "name": "stdout",
     "output_type": "stream",
     "text": [
      "\"What are the pizzas sitting on?\"\n",
      "\"https://cs.jhu.edu/~esteng/images_for_hit/COCO_train2014_000000156859.jpg\"\n",
      "['A/L']\n"
     ]
    },
    {
     "data": {
      "text/html": [
       "<img src=\"https://cs.jhu.edu/~esteng/images_for_hit/COCO_train2014_000000156859.jpg\"/>"
      ],
      "text/plain": [
       "<IPython.core.display.Image object>"
      ]
     },
     "metadata": {},
     "output_type": "display_data"
    },
    {
     "name": "stdout",
     "output_type": "stream",
     "text": [
      "\"Where are the umbrellas?\"\n",
      "\"https://cs.jhu.edu/~esteng/images_for_hit/COCO_train2014_000000456109.jpg\"\n",
      "['A/L']\n"
     ]
    },
    {
     "data": {
      "text/html": [
       "<img src=\"https://cs.jhu.edu/~esteng/images_for_hit/COCO_train2014_000000456109.jpg\"/>"
      ],
      "text/plain": [
       "<IPython.core.display.Image object>"
      ]
     },
     "metadata": {},
     "output_type": "display_data"
    },
    {
     "name": "stdout",
     "output_type": "stream",
     "text": [
      "\"Where is the bus?\"\n",
      "\"https://cs.jhu.edu/~esteng/images_for_hit/COCO_train2014_000000139390.jpg\"\n",
      "['A/L']\n"
     ]
    },
    {
     "data": {
      "text/html": [
       "<img src=\"https://cs.jhu.edu/~esteng/images_for_hit/COCO_train2014_000000139390.jpg\"/>"
      ],
      "text/plain": [
       "<IPython.core.display.Image object>"
      ]
     },
     "metadata": {},
     "output_type": "display_data"
    },
    {
     "name": "stdout",
     "output_type": "stream",
     "text": [
      "\"Where is a spoon?\"\n",
      "\"https://cs.jhu.edu/~esteng/images_for_hit/COCO_train2014_000000170107.jpg\"\n",
      "['A/L']\n"
     ]
    },
    {
     "data": {
      "text/html": [
       "<img src=\"https://cs.jhu.edu/~esteng/images_for_hit/COCO_train2014_000000170107.jpg\"/>"
      ],
      "text/plain": [
       "<IPython.core.display.Image object>"
      ]
     },
     "metadata": {},
     "output_type": "display_data"
    },
    {
     "name": "stdout",
     "output_type": "stream",
     "text": [
      "\"Where is a silver ladder?\"\n",
      "\"https://cs.jhu.edu/~esteng/images_for_hit/COCO_train2014_000000176087.jpg\"\n",
      "['A/L']\n"
     ]
    },
    {
     "data": {
      "text/html": [
       "<img src=\"https://cs.jhu.edu/~esteng/images_for_hit/COCO_train2014_000000176087.jpg\"/>"
      ],
      "text/plain": [
       "<IPython.core.display.Image object>"
      ]
     },
     "metadata": {},
     "output_type": "display_data"
    },
    {
     "name": "stdout",
     "output_type": "stream",
     "text": [
      "\"Where is the phone?\"\n",
      "\"https://cs.jhu.edu/~esteng/images_for_hit/COCO_train2014_000000321960.jpg\"\n",
      "['A/L', 'M/A']\n"
     ]
    },
    {
     "data": {
      "text/html": [
       "<img src=\"https://cs.jhu.edu/~esteng/images_for_hit/COCO_train2014_000000321960.jpg\"/>"
      ],
      "text/plain": [
       "<IPython.core.display.Image object>"
      ]
     },
     "metadata": {},
     "output_type": "display_data"
    },
    {
     "name": "stdout",
     "output_type": "stream",
     "text": [
      "\"Where is the knife?\"\n",
      "\"https://cs.jhu.edu/~esteng/images_for_hit/COCO_train2014_000000385276.jpg\"\n",
      "['M/A', 'A/L']\n"
     ]
    },
    {
     "data": {
      "text/html": [
       "<img src=\"https://cs.jhu.edu/~esteng/images_for_hit/COCO_train2014_000000385276.jpg\"/>"
      ],
      "text/plain": [
       "<IPython.core.display.Image object>"
      ]
     },
     "metadata": {},
     "output_type": "display_data"
    },
    {
     "name": "stdout",
     "output_type": "stream",
     "text": [
      "\"Where is the electrical outlet?\"\n",
      "\"https://cs.jhu.edu/~esteng/images_for_hit/COCO_train2014_000000025515.jpg\"\n",
      "['A/L']\n"
     ]
    },
    {
     "data": {
      "text/html": [
       "<img src=\"https://cs.jhu.edu/~esteng/images_for_hit/COCO_train2014_000000025515.jpg\"/>"
      ],
      "text/plain": [
       "<IPython.core.display.Image object>"
      ]
     },
     "metadata": {},
     "output_type": "display_data"
    },
    {
     "name": "stdout",
     "output_type": "stream",
     "text": [
      "\"Where is the train?\"\n",
      "\"https://cs.jhu.edu/~esteng/images_for_hit/COCO_train2014_000000459848.jpg\"\n",
      "['A/L']\n"
     ]
    },
    {
     "data": {
      "text/html": [
       "<img src=\"https://cs.jhu.edu/~esteng/images_for_hit/COCO_train2014_000000459848.jpg\"/>"
      ],
      "text/plain": [
       "<IPython.core.display.Image object>"
      ]
     },
     "metadata": {},
     "output_type": "display_data"
    },
    {
     "name": "stdout",
     "output_type": "stream",
     "text": [
      "\"Where is the woman staring?\"\n",
      "\"https://cs.jhu.edu/~esteng/images_for_hit/COCO_train2014_000000297043.jpg\"\n",
      "['D', 'A/L']\n"
     ]
    },
    {
     "data": {
      "text/html": [
       "<img src=\"https://cs.jhu.edu/~esteng/images_for_hit/COCO_train2014_000000297043.jpg\"/>"
      ],
      "text/plain": [
       "<IPython.core.display.Image object>"
      ]
     },
     "metadata": {},
     "output_type": "display_data"
    },
    {
     "name": "stdout",
     "output_type": "stream",
     "text": [
      "\"Where is the luggage?\"\n",
      "\"https://cs.jhu.edu/~esteng/images_for_hit/COCO_train2014_000000405041.jpg\"\n",
      "['A/L']\n"
     ]
    },
    {
     "data": {
      "text/html": [
       "<img src=\"https://cs.jhu.edu/~esteng/images_for_hit/COCO_train2014_000000405041.jpg\"/>"
      ],
      "text/plain": [
       "<IPython.core.display.Image object>"
      ]
     },
     "metadata": {},
     "output_type": "display_data"
    },
    {
     "name": "stdout",
     "output_type": "stream",
     "text": [
      "\"Where are the traffic lights?\"\n",
      "\"https://cs.jhu.edu/~esteng/images_for_hit/COCO_train2014_000000128503.jpg\"\n",
      "['A/L']\n"
     ]
    },
    {
     "data": {
      "text/html": [
       "<img src=\"https://cs.jhu.edu/~esteng/images_for_hit/COCO_train2014_000000128503.jpg\"/>"
      ],
      "text/plain": [
       "<IPython.core.display.Image object>"
      ]
     },
     "metadata": {},
     "output_type": "display_data"
    },
    {
     "name": "stdout",
     "output_type": "stream",
     "text": [
      "\"Where is a man holding a gun?\"\n",
      "\"https://cs.jhu.edu/~esteng/images_for_hit/COCO_train2014_000000325981.jpg\"\n",
      "['A/L']\n"
     ]
    },
    {
     "data": {
      "text/html": [
       "<img src=\"https://cs.jhu.edu/~esteng/images_for_hit/COCO_train2014_000000325981.jpg\"/>"
      ],
      "text/plain": [
       "<IPython.core.display.Image object>"
      ]
     },
     "metadata": {},
     "output_type": "display_data"
    },
    {
     "name": "stdout",
     "output_type": "stream",
     "text": [
      "\"Where is her right hand?\"\n",
      "\"https://cs.jhu.edu/~esteng/images_for_hit/COCO_train2014_000000172806.jpg\"\n",
      "['A/L']\n"
     ]
    },
    {
     "data": {
      "text/html": [
       "<img src=\"https://cs.jhu.edu/~esteng/images_for_hit/COCO_train2014_000000172806.jpg\"/>"
      ],
      "text/plain": [
       "<IPython.core.display.Image object>"
      ]
     },
     "metadata": {},
     "output_type": "display_data"
    },
    {
     "name": "stdout",
     "output_type": "stream",
     "text": [
      "\"What is the laptop's screen facing?\"\n",
      "\"https://cs.jhu.edu/~esteng/images_for_hit/COCO_train2014_000000363464.jpg\"\n",
      "['A/M', 'A/L', 'U']\n"
     ]
    },
    {
     "data": {
      "text/html": [
       "<img src=\"https://cs.jhu.edu/~esteng/images_for_hit/COCO_train2014_000000363464.jpg\"/>"
      ],
      "text/plain": [
       "<IPython.core.display.Image object>"
      ]
     },
     "metadata": {},
     "output_type": "display_data"
    },
    {
     "name": "stdout",
     "output_type": "stream",
     "text": [
      "\"Where is the sign board placed?\"\n",
      "\"https://cs.jhu.edu/~esteng/images_for_hit/COCO_train2014_000000044463.jpg\"\n",
      "['A/L']\n"
     ]
    },
    {
     "data": {
      "text/html": [
       "<img src=\"https://cs.jhu.edu/~esteng/images_for_hit/COCO_train2014_000000044463.jpg\"/>"
      ],
      "text/plain": [
       "<IPython.core.display.Image object>"
      ]
     },
     "metadata": {},
     "output_type": "display_data"
    },
    {
     "name": "stdout",
     "output_type": "stream",
     "text": [
      "\"Where is the animal looking?\"\n",
      "\"https://cs.jhu.edu/~esteng/images_for_hit/COCO_train2014_000000446470.jpg\"\n",
      "['A/L']\n"
     ]
    },
    {
     "data": {
      "text/html": [
       "<img src=\"https://cs.jhu.edu/~esteng/images_for_hit/COCO_train2014_000000446470.jpg\"/>"
      ],
      "text/plain": [
       "<IPython.core.display.Image object>"
      ]
     },
     "metadata": {},
     "output_type": "display_data"
    },
    {
     "name": "stdout",
     "output_type": "stream",
     "text": [
      "\"Where is a snow drift?\"\n",
      "\"https://cs.jhu.edu/~esteng/images_for_hit/COCO_train2014_000000447773.jpg\"\n",
      "['A/L']\n"
     ]
    },
    {
     "data": {
      "text/html": [
       "<img src=\"https://cs.jhu.edu/~esteng/images_for_hit/COCO_train2014_000000447773.jpg\"/>"
      ],
      "text/plain": [
       "<IPython.core.display.Image object>"
      ]
     },
     "metadata": {},
     "output_type": "display_data"
    },
    {
     "name": "stdout",
     "output_type": "stream",
     "text": [
      "\"What direction is the arrow pointing?\"\n",
      "\"https://cs.jhu.edu/~esteng/images_for_hit/COCO_train2014_000000438755.jpg\"\n",
      "['A/L']\n"
     ]
    },
    {
     "data": {
      "text/html": [
       "<img src=\"https://cs.jhu.edu/~esteng/images_for_hit/COCO_train2014_000000438755.jpg\"/>"
      ],
      "text/plain": [
       "<IPython.core.display.Image object>"
      ]
     },
     "metadata": {},
     "output_type": "display_data"
    },
    {
     "name": "stdout",
     "output_type": "stream",
     "text": [
      "\"Where is the traffic light?\"\n",
      "\"https://cs.jhu.edu/~esteng/images_for_hit/COCO_train2014_000000026943.jpg\"\n",
      "['A/L']\n"
     ]
    },
    {
     "data": {
      "text/html": [
       "<img src=\"https://cs.jhu.edu/~esteng/images_for_hit/COCO_train2014_000000026943.jpg\"/>"
      ],
      "text/plain": [
       "<IPython.core.display.Image object>"
      ]
     },
     "metadata": {},
     "output_type": "display_data"
    },
    {
     "name": "stdout",
     "output_type": "stream",
     "text": [
      "\"Where is the car parked?\"\n",
      "\"https://cs.jhu.edu/~esteng/images_for_hit/COCO_train2014_000000480685.jpg\"\n",
      "['A/L']\n"
     ]
    },
    {
     "data": {
      "text/html": [
       "<img src=\"https://cs.jhu.edu/~esteng/images_for_hit/COCO_train2014_000000480685.jpg\"/>"
      ],
      "text/plain": [
       "<IPython.core.display.Image object>"
      ]
     },
     "metadata": {},
     "output_type": "display_data"
    },
    {
     "name": "stdout",
     "output_type": "stream",
     "text": [
      "\"What location was this photo taken in?\"\n",
      "\"https://cs.jhu.edu/~esteng/images_for_hit/COCO_train2014_000000358088.jpg\"\n",
      "['A/L']\n"
     ]
    },
    {
     "data": {
      "text/html": [
       "<img src=\"https://cs.jhu.edu/~esteng/images_for_hit/COCO_train2014_000000358088.jpg\"/>"
      ],
      "text/plain": [
       "<IPython.core.display.Image object>"
      ]
     },
     "metadata": {},
     "output_type": "display_data"
    },
    {
     "name": "stdout",
     "output_type": "stream",
     "text": [
      "\"Where are the bananas?\"\n",
      "\"https://cs.jhu.edu/~esteng/images_for_hit/COCO_train2014_000000306255.jpg\"\n",
      "['A/L']\n"
     ]
    },
    {
     "data": {
      "text/html": [
       "<img src=\"https://cs.jhu.edu/~esteng/images_for_hit/COCO_train2014_000000306255.jpg\"/>"
      ],
      "text/plain": [
       "<IPython.core.display.Image object>"
      ]
     },
     "metadata": {},
     "output_type": "display_data"
    },
    {
     "name": "stdout",
     "output_type": "stream",
     "text": [
      "\"Where was this picture taken?\"\n",
      "\"https://cs.jhu.edu/~esteng/images_for_hit/COCO_train2014_000000491733.jpg\"\n",
      "['A/L']\n"
     ]
    },
    {
     "data": {
      "text/html": [
       "<img src=\"https://cs.jhu.edu/~esteng/images_for_hit/COCO_train2014_000000491733.jpg\"/>"
      ],
      "text/plain": [
       "<IPython.core.display.Image object>"
      ]
     },
     "metadata": {},
     "output_type": "display_data"
    },
    {
     "name": "stdout",
     "output_type": "stream",
     "text": [
      "\"Where is the flower at?\"\n",
      "\"https://cs.jhu.edu/~esteng/images_for_hit/COCO_train2014_000000217407.jpg\"\n",
      "['A/L']\n"
     ]
    },
    {
     "data": {
      "text/html": [
       "<img src=\"https://cs.jhu.edu/~esteng/images_for_hit/COCO_train2014_000000217407.jpg\"/>"
      ],
      "text/plain": [
       "<IPython.core.display.Image object>"
      ]
     },
     "metadata": {},
     "output_type": "display_data"
    },
    {
     "name": "stdout",
     "output_type": "stream",
     "text": [
      "\"Where is a butter knife?\"\n",
      "\"https://cs.jhu.edu/~esteng/images_for_hit/COCO_train2014_000000475336.jpg\"\n",
      "['A/L']\n"
     ]
    },
    {
     "data": {
      "text/html": [
       "<img src=\"https://cs.jhu.edu/~esteng/images_for_hit/COCO_train2014_000000475336.jpg\"/>"
      ],
      "text/plain": [
       "<IPython.core.display.Image object>"
      ]
     },
     "metadata": {},
     "output_type": "display_data"
    },
    {
     "name": "stdout",
     "output_type": "stream",
     "text": [
      "\"Where is the skateboard?\"\n",
      "\"https://cs.jhu.edu/~esteng/images_for_hit/COCO_train2014_000000247360.jpg\"\n",
      "['A/L']\n"
     ]
    },
    {
     "data": {
      "text/html": [
       "<img src=\"https://cs.jhu.edu/~esteng/images_for_hit/COCO_train2014_000000247360.jpg\"/>"
      ],
      "text/plain": [
       "<IPython.core.display.Image object>"
      ]
     },
     "metadata": {},
     "output_type": "display_data"
    },
    {
     "name": "stdout",
     "output_type": "stream",
     "text": [
      "\"Where are the cows located?\"\n",
      "\"https://cs.jhu.edu/~esteng/images_for_hit/COCO_train2014_000000108223.jpg\"\n",
      "['A/L']\n"
     ]
    },
    {
     "data": {
      "text/html": [
       "<img src=\"https://cs.jhu.edu/~esteng/images_for_hit/COCO_train2014_000000108223.jpg\"/>"
      ],
      "text/plain": [
       "<IPython.core.display.Image object>"
      ]
     },
     "metadata": {},
     "output_type": "display_data"
    },
    {
     "name": "stdout",
     "output_type": "stream",
     "text": [
      "\"Where does this picture take place?\"\n",
      "\"https://cs.jhu.edu/~esteng/images_for_hit/COCO_train2014_000000343357.jpg\"\n",
      "['A/L']\n"
     ]
    },
    {
     "data": {
      "text/html": [
       "<img src=\"https://cs.jhu.edu/~esteng/images_for_hit/COCO_train2014_000000343357.jpg\"/>"
      ],
      "text/plain": [
       "<IPython.core.display.Image object>"
      ]
     },
     "metadata": {},
     "output_type": "display_data"
    },
    {
     "name": "stdout",
     "output_type": "stream",
     "text": [
      "\"Where are the bananas?\"\n",
      "\"https://cs.jhu.edu/~esteng/images_for_hit/COCO_train2014_000000142470.jpg\"\n",
      "['A/L']\n"
     ]
    },
    {
     "data": {
      "text/html": [
       "<img src=\"https://cs.jhu.edu/~esteng/images_for_hit/COCO_train2014_000000142470.jpg\"/>"
      ],
      "text/plain": [
       "<IPython.core.display.Image object>"
      ]
     },
     "metadata": {},
     "output_type": "display_data"
    },
    {
     "name": "stdout",
     "output_type": "stream",
     "text": [
      "\"What is the cat sitting on?\"\n",
      "\"https://cs.jhu.edu/~esteng/images_for_hit/COCO_train2014_000000380039.jpg\"\n",
      "['A/L']\n"
     ]
    },
    {
     "data": {
      "text/html": [
       "<img src=\"https://cs.jhu.edu/~esteng/images_for_hit/COCO_train2014_000000380039.jpg\"/>"
      ],
      "text/plain": [
       "<IPython.core.display.Image object>"
      ]
     },
     "metadata": {},
     "output_type": "display_data"
    },
    {
     "name": "stdout",
     "output_type": "stream",
     "text": [
      "\"Where are the flowers?\"\n",
      "\"https://cs.jhu.edu/~esteng/images_for_hit/COCO_train2014_000000442150.jpg\"\n",
      "['A/L']\n"
     ]
    },
    {
     "data": {
      "text/html": [
       "<img src=\"https://cs.jhu.edu/~esteng/images_for_hit/COCO_train2014_000000442150.jpg\"/>"
      ],
      "text/plain": [
       "<IPython.core.display.Image object>"
      ]
     },
     "metadata": {},
     "output_type": "display_data"
    },
    {
     "name": "stdout",
     "output_type": "stream",
     "text": [
      "\"Where is the chair?\"\n",
      "\"https://cs.jhu.edu/~esteng/images_for_hit/COCO_train2014_000000159313.jpg\"\n",
      "['A/L']\n"
     ]
    },
    {
     "data": {
      "text/html": [
       "<img src=\"https://cs.jhu.edu/~esteng/images_for_hit/COCO_train2014_000000159313.jpg\"/>"
      ],
      "text/plain": [
       "<IPython.core.display.Image object>"
      ]
     },
     "metadata": {},
     "output_type": "display_data"
    },
    {
     "name": "stdout",
     "output_type": "stream",
     "text": [
      "\"Where is the pedestrian light?\"\n",
      "\"https://cs.jhu.edu/~esteng/images_for_hit/COCO_train2014_000000318533.jpg\"\n",
      "['A/L']\n"
     ]
    },
    {
     "data": {
      "text/html": [
       "<img src=\"https://cs.jhu.edu/~esteng/images_for_hit/COCO_train2014_000000318533.jpg\"/>"
      ],
      "text/plain": [
       "<IPython.core.display.Image object>"
      ]
     },
     "metadata": {},
     "output_type": "display_data"
    },
    {
     "name": "stdout",
     "output_type": "stream",
     "text": [
      "\"Where is the bank of America advertising?\"\n",
      "\"https://cs.jhu.edu/~esteng/images_for_hit/COCO_train2014_000000129672.jpg\"\n",
      "['A/L']\n"
     ]
    },
    {
     "data": {
      "text/html": [
       "<img src=\"https://cs.jhu.edu/~esteng/images_for_hit/COCO_train2014_000000129672.jpg\"/>"
      ],
      "text/plain": [
       "<IPython.core.display.Image object>"
      ]
     },
     "metadata": {},
     "output_type": "display_data"
    },
    {
     "name": "stdout",
     "output_type": "stream",
     "text": [
      "\"Where is the person eating?\"\n",
      "\"https://cs.jhu.edu/~esteng/images_for_hit/COCO_train2014_000000215863.jpg\"\n",
      "['A/L']\n"
     ]
    },
    {
     "data": {
      "text/html": [
       "<img src=\"https://cs.jhu.edu/~esteng/images_for_hit/COCO_train2014_000000215863.jpg\"/>"
      ],
      "text/plain": [
       "<IPython.core.display.Image object>"
      ]
     },
     "metadata": {},
     "output_type": "display_data"
    },
    {
     "name": "stdout",
     "output_type": "stream",
     "text": [
      "\"Where is the stop sign?\"\n",
      "\"https://cs.jhu.edu/~esteng/images_for_hit/COCO_train2014_000000305538.jpg\"\n",
      "['A/L']\n"
     ]
    },
    {
     "data": {
      "text/html": [
       "<img src=\"https://cs.jhu.edu/~esteng/images_for_hit/COCO_train2014_000000305538.jpg\"/>"
      ],
      "text/plain": [
       "<IPython.core.display.Image object>"
      ]
     },
     "metadata": {},
     "output_type": "display_data"
    },
    {
     "name": "stdout",
     "output_type": "stream",
     "text": [
      "\"Where are the flowers?\"\n",
      "\"https://cs.jhu.edu/~esteng/images_for_hit/COCO_train2014_000000463039.jpg\"\n",
      "['A/L']\n"
     ]
    },
    {
     "data": {
      "text/html": [
       "<img src=\"https://cs.jhu.edu/~esteng/images_for_hit/COCO_train2014_000000463039.jpg\"/>"
      ],
      "text/plain": [
       "<IPython.core.display.Image object>"
      ]
     },
     "metadata": {},
     "output_type": "display_data"
    }
   ],
   "source": [
    "'''\n",
    "Display by classification\n",
    "'''\n",
    "search_item = 'A/L'\n",
    "\n",
    "for row in data:\n",
    "    temp = row['Answer.skip_reason'].strip('\"')\n",
    "    labels = temp.split('.')\n",
    "    \n",
    "    if search_item in labels:\n",
    "        print(row['Input.questionStr'])\n",
    "        print(row['Input.imgUrl'])\n",
    "        print(labels)\n",
    "        image_url = row['Input.imgUrl'].strip('\"')\n",
    "        display(Image(url=image_url))\n",
    "       "
   ]
  },
  {
   "cell_type": "code",
   "execution_count": null,
   "metadata": {},
   "outputs": [],
   "source": [
    "'''\n",
    "Display by number of classifications\n",
    "'''\n",
    "search_num = 3\n",
    "\n",
    "for row in data:\n",
    "    temp = row['Answer.skip_reason'].strip('\"')\n",
    "    labels = temp.split('.')\n",
    "    \n",
    "    if len(labels) == search_num:\n",
    "        print(row['Input.questionStr'])\n",
    "        print(labels)\n",
    "        image_url = row['Input.imgUrl'].strip('\"')\n",
    "        display(Image(url=image_url))"
   ]
  }
 ],
 "metadata": {
  "kernelspec": {
   "display_name": "Python 3.8.10 64-bit (windows store)",
   "language": "python",
   "name": "python3"
  },
  "language_info": {
   "codemirror_mode": {
    "name": "ipython",
    "version": 3
   },
   "file_extension": ".py",
   "mimetype": "text/x-python",
   "name": "python",
   "nbconvert_exporter": "python",
   "pygments_lexer": "ipython3",
   "version": "3.8.10"
  },
  "orig_nbformat": 4,
  "vscode": {
   "interpreter": {
    "hash": "cacd3390d2a8d6fc4ec6456c90ddb2483db8c2f7d1c08ee5462b8750cc80ce66"
   }
  }
 },
 "nbformat": 4,
 "nbformat_minor": 2
}
