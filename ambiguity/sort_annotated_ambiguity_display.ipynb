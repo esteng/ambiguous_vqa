{
 "cells": [
  {
   "cell_type": "code",
   "execution_count": 7,
   "metadata": {},
   "outputs": [],
   "source": [
    "from collections import defaultdict\n",
    "import csv \n",
    "from csv import reader\n",
    "from scipy.optimize import linear_sum_assignment\n",
    "#from PIL import Image as im\n",
    "from IPython.core.display import Image, display\n",
    "import requests\n",
    "from io import BytesIO\n",
    "import json \n",
    "\n",
    "'''\n",
    "Ambiguity\n",
    "    Multiple Options > A/M\n",
    "    Definition, Location > A/L\n",
    "    Definition, Destination/Intention > A/D\n",
    "    Definition, Kind/Type > A/K\n",
    "    Definition, Time > A/T\n",
    "    Gouping > A/G\n",
    "\n",
    "Uncertainty > U\n",
    "\n",
    "Mistakes/Bad Data\n",
    "    Annotator mistakes > M/A\n",
    "    Bad question/bad images > M/B\n",
    "\n",
    "Misc/need reclassifying > ~\n",
    "\n",
    "Question with multiple classification will have '.' between the classificiations\n",
    "ex: A/M.A/L.M/B)\n",
    "'''\n",
    "\n",
    "input_csv = \"csv_input-Batch_1886_results.csv\"\n",
    "data = []\n",
    "with open(input_csv) as read_obj:\n",
    "    csv_reader = csv.DictReader(read_obj)\n",
    "    for row in csv_reader:\n",
    "        data.append(row)\n"
   ]
  },
  {
   "cell_type": "code",
   "execution_count": null,
   "metadata": {},
   "outputs": [],
   "source": [
    "'''\n",
    "Display by classification\n",
    "'''\n",
    "search_item = 'A/L'\n",
    "\n",
    "for row in data:\n",
    "    temp = row['Answer.skip_reason'].strip('\"')\n",
    "    labels = temp.split('.')\n",
    "    \n",
    "    if search_item in labels:\n",
    "        groups = []\n",
    "\n",
    "        new_questions = json.loads(row['Answer.answer_questions'])\n",
    "        for i, g in enumerate(json.loads(row['Answer.answer_groups'])):\n",
    "            group = []\n",
    "            new_question = new_questions[i]\n",
    "            for x in g:\n",
    "                group.append(x['content'])\n",
    "            groups.append({new_question: group})\n",
    "        print(row['Input.questionStr'])\n",
    "        print(row['Input.imgUrl'])\n",
    "        print(groups)\n",
    "        print(labels)\n",
    "\n",
    "        image_url = row['Input.imgUrl'].strip('\"')\n",
    "        display(Image(url=image_url))\n",
    "       "
   ]
  },
  {
   "cell_type": "code",
   "execution_count": null,
   "metadata": {},
   "outputs": [],
   "source": []
  },
  {
   "cell_type": "code",
   "execution_count": 33,
   "metadata": {},
   "outputs": [
    {
     "name": "stdout",
     "output_type": "stream",
     "text": [
      "\"What bridge can be seen in the distance?\"\n",
      "\"https://cs.jhu.edu/~esteng/images_for_hit/COCO_train2014_000000426038.jpg\"\n",
      "[{'What bridge name can be seen in the distance?': ['brooklyn bridge']}, {\"What city's bridge can be seen in the distance?\": ['london']}, {'What type of bridge can be seen in the distance?': ['suspension']}]\n",
      "['U', 'M/A', 'A/K']\n"
     ]
    },
    {
     "data": {
      "text/html": [
       "<img src=\"https://cs.jhu.edu/~esteng/images_for_hit/COCO_train2014_000000426038.jpg\"/>"
      ],
      "text/plain": [
       "<IPython.core.display.Image object>"
      ]
     },
     "metadata": {},
     "output_type": "display_data"
    },
    {
     "name": "stdout",
     "output_type": "stream",
     "text": [
      "\"Where is the white wine bottle?\"\n",
      "\"https://cs.jhu.edu/~esteng/images_for_hit/COCO_train2014_000000472432.jpg\"\n",
      "[{'Where is the white wine bottle in photo?': ['not visible']}, {'Where is the white wine bottle fill line?': ['empty']}]\n",
      "['U', 'M/A', 'M/B']\n"
     ]
    },
    {
     "data": {
      "text/html": [
       "<img src=\"https://cs.jhu.edu/~esteng/images_for_hit/COCO_train2014_000000472432.jpg\"/>"
      ],
      "text/plain": [
       "<IPython.core.display.Image object>"
      ]
     },
     "metadata": {},
     "output_type": "display_data"
    },
    {
     "name": "stdout",
     "output_type": "stream",
     "text": [
      "\"What is the writing?\"\n",
      "\"https://cs.jhu.edu/~esteng/images_for_hit/COCO_train2014_000000035884.jpg\"\n",
      "[{'What is the writing possibly?': ['note']}, {'What is using for the writing?': ['phone']}]\n",
      "['U', 'M/B', 'M/A']\n"
     ]
    },
    {
     "data": {
      "text/html": [
       "<img src=\"https://cs.jhu.edu/~esteng/images_for_hit/COCO_train2014_000000035884.jpg\"/>"
      ],
      "text/plain": [
       "<IPython.core.display.Image object>"
      ]
     },
     "metadata": {},
     "output_type": "display_data"
    },
    {
     "name": "stdout",
     "output_type": "stream",
     "text": [
      "\"What game is he playing?\"\n",
      "\"https://cs.jhu.edu/~esteng/images_for_hit/COCO_train2014_000000476738.jpg\"\n",
      "[{'What game name is he playing?': ['slot machines']}, {'What game is he playing with?': ['laptop']}]\n",
      "['U', 'M/B', 'M/A']\n"
     ]
    },
    {
     "data": {
      "text/html": [
       "<img src=\"https://cs.jhu.edu/~esteng/images_for_hit/COCO_train2014_000000476738.jpg\"/>"
      ],
      "text/plain": [
       "<IPython.core.display.Image object>"
      ]
     },
     "metadata": {},
     "output_type": "display_data"
    },
    {
     "name": "stdout",
     "output_type": "stream",
     "text": [
      "\"What is the brand name of the backpack?\"\n",
      "\"https://cs.jhu.edu/~esteng/images_for_hit/COCO_train2014_000000237872.jpg\"\n",
      "[{'What is the possible brand name of the backpack?': ['adidas']}, {'What is the brand name of the backpack visible?': [\"don't know\"]}, {'What is the brand name of the backpack used for?': ['sportswear']}]\n",
      "['U', 'M/B', 'M/A']\n"
     ]
    },
    {
     "data": {
      "text/html": [
       "<img src=\"https://cs.jhu.edu/~esteng/images_for_hit/COCO_train2014_000000237872.jpg\"/>"
      ],
      "text/plain": [
       "<IPython.core.display.Image object>"
      ]
     },
     "metadata": {},
     "output_type": "display_data"
    },
    {
     "name": "stdout",
     "output_type": "stream",
     "text": [
      "\"What kind of food is this?\"\n",
      "\"https://cs.jhu.edu/~esteng/images_for_hit/COCO_train2014_000000351654.jpg\"\n",
      "[{'What kind of food product is this?': ['quiche']}, {'What kind of food ingredients is this?': ['cake, bread, vegetables, meat']}]\n",
      "['A/M', 'A/K', 'A/G']\n"
     ]
    },
    {
     "data": {
      "text/html": [
       "<img src=\"https://cs.jhu.edu/~esteng/images_for_hit/COCO_train2014_000000351654.jpg\"/>"
      ],
      "text/plain": [
       "<IPython.core.display.Image object>"
      ]
     },
     "metadata": {},
     "output_type": "display_data"
    },
    {
     "name": "stdout",
     "output_type": "stream",
     "text": [
      "\"What are the people doing?\"\n",
      "\"https://cs.jhu.edu/~esteng/images_for_hit/COCO_train2014_000000144552.jpg\"\n",
      "[{'What are the people doing in motion': ['moving']}, {'What activity are the people doing?': ['biking']}, {'What are the people doing here?': ['enjoying park']}, {'What activity are the people doing?': ['biking, running, walking']}]\n",
      "['A/M', 'A/G', '~']\n"
     ]
    },
    {
     "data": {
      "text/html": [
       "<img src=\"https://cs.jhu.edu/~esteng/images_for_hit/COCO_train2014_000000144552.jpg\"/>"
      ],
      "text/plain": [
       "<IPython.core.display.Image object>"
      ]
     },
     "metadata": {},
     "output_type": "display_data"
    },
    {
     "name": "stdout",
     "output_type": "stream",
     "text": [
      "\"What is the laptop's screen facing?\"\n",
      "\"https://cs.jhu.edu/~esteng/images_for_hit/COCO_train2014_000000363464.jpg\"\n",
      "[{\"What is the laptop's screen facing nearby?\": ['another laptop']}, {\"Who is the laptop's screen facing?\": ['person']}, {\"What part of the laptop's screen facing?\": ['front']}, {\"What position is the laptop's screen?\": ['open']}, {\"In what is the laptop's screen facing located?\": ['room']}]\n",
      "['A/M', 'A/L', 'U']\n"
     ]
    },
    {
     "data": {
      "text/html": [
       "<img src=\"https://cs.jhu.edu/~esteng/images_for_hit/COCO_train2014_000000363464.jpg\"/>"
      ],
      "text/plain": [
       "<IPython.core.display.Image object>"
      ]
     },
     "metadata": {},
     "output_type": "display_data"
    },
    {
     "name": "stdout",
     "output_type": "stream",
     "text": [
      "\"What type of food is pictured?\"\n",
      "\"https://cs.jhu.edu/~esteng/images_for_hit/COCO_train2014_000000185236.jpg\"\n",
      "[{'What  is the name of food ipictured?': ['broccoli, pasta, chicken nuggets, rice']}, {'What ethnic type of food is pictured?': ['oriental']}, {'What meal type of food is pictured?': ['dinner']}]\n",
      "['A/M', 'A/K', 'A/G']\n"
     ]
    },
    {
     "data": {
      "text/html": [
       "<img src=\"https://cs.jhu.edu/~esteng/images_for_hit/COCO_train2014_000000185236.jpg\"/>"
      ],
      "text/plain": [
       "<IPython.core.display.Image object>"
      ]
     },
     "metadata": {},
     "output_type": "display_data"
    },
    {
     "name": "stdout",
     "output_type": "stream",
     "text": [
      "\"What is the name of the hotel?\"\n",
      "\"https://cs.jhu.edu/~esteng/images_for_hit/COCO_train2014_000000276694.jpg\"\n",
      "[{'What is the name of the hotel for cost called?': ['budget hotel']}, {'What is the name of the hotel possibly?': ['marriott']}]\n",
      "['U', 'M/B', 'M/A']\n"
     ]
    },
    {
     "data": {
      "text/html": [
       "<img src=\"https://cs.jhu.edu/~esteng/images_for_hit/COCO_train2014_000000276694.jpg\"/>"
      ],
      "text/plain": [
       "<IPython.core.display.Image object>"
      ]
     },
     "metadata": {},
     "output_type": "display_data"
    },
    {
     "name": "stdout",
     "output_type": "stream",
     "text": [
      "\"What food is shown?\"\n",
      "\"https://cs.jhu.edu/~esteng/images_for_hit/COCO_train2014_000000432153.jpg\"\n",
      "[{'What food is shown on the plate?': ['meat potatoes broccoli']}, {'What food meal is shown?': ['dinner']}]\n",
      "['A/M', 'A/T', 'A/G', '~']\n"
     ]
    },
    {
     "data": {
      "text/html": [
       "<img src=\"https://cs.jhu.edu/~esteng/images_for_hit/COCO_train2014_000000432153.jpg\"/>"
      ],
      "text/plain": [
       "<IPython.core.display.Image object>"
      ]
     },
     "metadata": {},
     "output_type": "display_data"
    }
   ],
   "source": [
    "'''\n",
    "Display by number of classifications\n",
    "'''\n",
    "search_num = 3\n",
    "\n",
    "for row in data:\n",
    "    temp = row['Answer.skip_reason'].strip('\"')\n",
    "    labels = temp.split('.')\n",
    "    \n",
    "    if len(labels) >= search_num:\n",
    "        groups = []\n",
    "\n",
    "        new_questions = json.loads(row['Answer.answer_questions'])\n",
    "        for i, g in enumerate(json.loads(row['Answer.answer_groups'])):\n",
    "            group = []\n",
    "            new_question = new_questions[i]\n",
    "            for x in g:\n",
    "                group.append(x['content'])\n",
    "            groups.append({new_question: group})\n",
    "        print(row['Input.questionStr'])\n",
    "        print(row['Input.imgUrl'])\n",
    "        print(groups)\n",
    "        print(labels)\n",
    "\n",
    "        image_url = row['Input.imgUrl'].strip('\"')\n",
    "        display(Image(url=image_url))"
   ]
  },
  {
   "cell_type": "code",
   "execution_count": 32,
   "metadata": {},
   "outputs": [
    {
     "data": {
      "text/plain": [
       "([0, 1, 2, 3, 4, 5, 6, 7, 8, 9],\n",
       " [Text(0, 0, ''),\n",
       "  Text(0, 0, ''),\n",
       "  Text(0, 0, ''),\n",
       "  Text(0, 0, ''),\n",
       "  Text(0, 0, ''),\n",
       "  Text(0, 0, ''),\n",
       "  Text(0, 0, ''),\n",
       "  Text(0, 0, ''),\n",
       "  Text(0, 0, ''),\n",
       "  Text(0, 0, '')])"
      ]
     },
     "execution_count": 32,
     "metadata": {},
     "output_type": "execute_result"
    },
    {
     "data": {
      "image/png": "[encoded data removed]",
      "text/plain": [
       "<Figure size 432x288 with 1 Axes>"
      ]
     },
     "metadata": {
      "needs_background": "light"
     },
     "output_type": "display_data"
    }
   ],
   "source": [
    "import seaborn as sns \n",
    "from matplotlib import pyplot as plt \n",
    "import numpy as np \n",
    "\n",
    "num_mistakes_other = 0\n",
    "num_to_keep = 0\n",
    "total = 0\n",
    "# histogram \n",
    "acceptable = ['A/M', 'A/G', 'A/D', 'A/K', 'A/T', 'U', 'M/A', 'M/B', 'skip', '~']\n",
    "to_keep = ['A/M', 'A/G', 'A/D', 'A/K', 'A/T',  '~']\n",
    "all_labels = []\n",
    "for row in data:\n",
    "    temp = row['Answer.skip_reason'].strip('\"')\n",
    "    labels = temp.split('.')\n",
    "    for lab in labels:\n",
    "        if lab in acceptable:\n",
    "            all_labels.append(lab)\n",
    "    total += 1\n",
    "    for lab in labels:\n",
    "        if lab in to_keep: \n",
    "            num_to_keep += 1 \n",
    "            break\n",
    "        else:\n",
    "            num_mistakes_other  += 1\n",
    "            break\n",
    "\n",
    "\n",
    "\n",
    "g = sns.histplot(all_labels)\n",
    "\n",
    "plt.xticks(rotation=90)\n",
    "\n",
    "\n",
    "print(f\"There are {total} examples, with {num_to_keep} good ones and {num_mistakes_other} bad ones.\")"
   ]
  },
  {
   "cell_type": "code",
   "execution_count": null,
   "metadata": {},
   "outputs": [],
   "source": []
  }
 ],
 "metadata": {
  "kernelspec": {
   "display_name": "Python 3.8.10 64-bit (windows store)",
   "language": "python",
   "name": "python3"
  },
  "language_info": {
   "codemirror_mode": {
    "name": "ipython",
    "version": 3
   },
   "file_extension": ".py",
   "mimetype": "text/x-python",
   "name": "python",
   "nbconvert_exporter": "python",
   "pygments_lexer": "ipython3",
   "version": "3.8.10"
  },
  "orig_nbformat": 4,
  "vscode": {
   "interpreter": {
    "hash": "cacd3390d2a8d6fc4ec6456c90ddb2483db8c2f7d1c08ee5462b8750cc80ce66"
   }
  }
 },
 "nbformat": 4,
 "nbformat_minor": 2
}
