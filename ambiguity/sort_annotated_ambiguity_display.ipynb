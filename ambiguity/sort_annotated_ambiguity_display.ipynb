{
 "cells": [
  {
   "cell_type": "code",
   "execution_count": 29,
   "metadata": {},
   "outputs": [],
   "source": [
    "from collections import defaultdict\n",
    "import csv \n",
    "from csv import reader\n",
    "from scipy.optimize import linear_sum_assignment\n",
    "#from PIL import Image as im\n",
    "from IPython.core.display import Image, display\n",
    "import requests\n",
    "from io import BytesIO\n",
    "\n",
    "input_csv = \"csv_input-Batch_1886_results.csv\"\n",
    "data = []\n",
    "with open(input_csv) as read_obj:\n",
    "    csv_reader = csv.DictReader(read_obj)\n",
    "    for row in csv_reader:\n",
    "        data.append(row)\n"
   ]
  },
  {
   "cell_type": "code",
   "execution_count": 44,
   "metadata": {},
   "outputs": [
    {
     "name": "stdout",
     "output_type": "stream",
     "text": [
      "\"What is the food item with the green colors?\"\n",
      "['A/M']\n"
     ]
    },
    {
     "data": {
      "text/html": [
       "<img src=\"https://cs.jhu.edu/~esteng/images_for_hit/COCO_train2014_000000480779.jpg\"/>"
      ],
      "text/plain": [
       "<IPython.core.display.Image object>"
      ]
     },
     "metadata": {},
     "output_type": "display_data"
    },
    {
     "name": "stdout",
     "output_type": "stream",
     "text": [
      "\"What is red in the picture?\"\n",
      "['A/M']\n"
     ]
    },
    {
     "data": {
      "text/html": [
       "<img src=\"https://cs.jhu.edu/~esteng/images_for_hit/COCO_train2014_000000306621.jpg\"/>"
      ],
      "text/plain": [
       "<IPython.core.display.Image object>"
      ]
     },
     "metadata": {},
     "output_type": "display_data"
    },
    {
     "name": "stdout",
     "output_type": "stream",
     "text": [
      "\"What type of vegetable is on the plate?\"\n",
      "['A/M']\n"
     ]
    },
    {
     "data": {
      "text/html": [
       "<img src=\"https://cs.jhu.edu/~esteng/images_for_hit/COCO_train2014_000000448653.jpg\"/>"
      ],
      "text/plain": [
       "<IPython.core.display.Image object>"
      ]
     },
     "metadata": {},
     "output_type": "display_data"
    },
    {
     "name": "stdout",
     "output_type": "stream",
     "text": [
      "\"What type of dessert is this?\"\n",
      "['A/M', 'A/G']\n"
     ]
    },
    {
     "data": {
      "text/html": [
       "<img src=\"https://cs.jhu.edu/~esteng/images_for_hit/COCO_train2014_000000297665.jpg\"/>"
      ],
      "text/plain": [
       "<IPython.core.display.Image object>"
      ]
     },
     "metadata": {},
     "output_type": "display_data"
    },
    {
     "name": "stdout",
     "output_type": "stream",
     "text": [
      "\"What is the slot for?\"\n",
      "['A/M']\n"
     ]
    },
    {
     "data": {
      "text/html": [
       "<img src=\"https://cs.jhu.edu/~esteng/images_for_hit/COCO_train2014_000000012556.jpg\"/>"
      ],
      "text/plain": [
       "<IPython.core.display.Image object>"
      ]
     },
     "metadata": {},
     "output_type": "display_data"
    },
    {
     "name": "stdout",
     "output_type": "stream",
     "text": [
      "\"What fruit is on the newspaper?\"\n",
      "['A/M', 'A/G']\n"
     ]
    },
    {
     "data": {
      "text/html": [
       "<img src=\"https://cs.jhu.edu/~esteng/images_for_hit/COCO_train2014_000000203881.jpg\"/>"
      ],
      "text/plain": [
       "<IPython.core.display.Image object>"
      ]
     },
     "metadata": {},
     "output_type": "display_data"
    },
    {
     "name": "stdout",
     "output_type": "stream",
     "text": [
      "\"What condiment is on the hot dogs?\"\n",
      "['A/M', 'A/G']\n"
     ]
    },
    {
     "data": {
      "text/html": [
       "<img src=\"https://cs.jhu.edu/~esteng/images_for_hit/COCO_train2014_000000252602.jpg\"/>"
      ],
      "text/plain": [
       "<IPython.core.display.Image object>"
      ]
     },
     "metadata": {},
     "output_type": "display_data"
    },
    {
     "name": "stdout",
     "output_type": "stream",
     "text": [
      "\"What type of boat is this?\"\n",
      "['A/M']\n"
     ]
    },
    {
     "data": {
      "text/html": [
       "<img src=\"https://cs.jhu.edu/~esteng/images_for_hit/COCO_train2014_000000466713.jpg\"/>"
      ],
      "text/plain": [
       "<IPython.core.display.Image object>"
      ]
     },
     "metadata": {},
     "output_type": "display_data"
    },
    {
     "name": "stdout",
     "output_type": "stream",
     "text": [
      "\"What is the boy holding in his hands?\"\n",
      "['A/M']\n"
     ]
    },
    {
     "data": {
      "text/html": [
       "<img src=\"https://cs.jhu.edu/~esteng/images_for_hit/COCO_train2014_000000333663.jpg\"/>"
      ],
      "text/plain": [
       "<IPython.core.display.Image object>"
      ]
     },
     "metadata": {},
     "output_type": "display_data"
    },
    {
     "name": "stdout",
     "output_type": "stream",
     "text": [
      "\"What is the white object in the corner?\"\n",
      "['A/M']\n"
     ]
    },
    {
     "data": {
      "text/html": [
       "<img src=\"https://cs.jhu.edu/~esteng/images_for_hit/COCO_train2014_000000413984.jpg\"/>"
      ],
      "text/plain": [
       "<IPython.core.display.Image object>"
      ]
     },
     "metadata": {},
     "output_type": "display_data"
    },
    {
     "name": "stdout",
     "output_type": "stream",
     "text": [
      "\"What color is the topping on the top of the pizza?\"\n",
      "['A/M']\n"
     ]
    },
    {
     "data": {
      "text/html": [
       "<img src=\"https://cs.jhu.edu/~esteng/images_for_hit/COCO_train2014_000000214955.jpg\"/>"
      ],
      "text/plain": [
       "<IPython.core.display.Image object>"
      ]
     },
     "metadata": {},
     "output_type": "display_data"
    },
    {
     "name": "stdout",
     "output_type": "stream",
     "text": [
      "\"What items are on the main plate?\"\n",
      "['A/M']\n"
     ]
    },
    {
     "data": {
      "text/html": [
       "<img src=\"https://cs.jhu.edu/~esteng/images_for_hit/COCO_train2014_000000190939.jpg\"/>"
      ],
      "text/plain": [
       "<IPython.core.display.Image object>"
      ]
     },
     "metadata": {},
     "output_type": "display_data"
    },
    {
     "name": "stdout",
     "output_type": "stream",
     "text": [
      "\"What kind of bottles are on the counter?\"\n",
      "['A/M']\n"
     ]
    },
    {
     "data": {
      "text/html": [
       "<img src=\"https://cs.jhu.edu/~esteng/images_for_hit/COCO_train2014_000000412190.jpg\"/>"
      ],
      "text/plain": [
       "<IPython.core.display.Image object>"
      ]
     },
     "metadata": {},
     "output_type": "display_data"
    },
    {
     "name": "stdout",
     "output_type": "stream",
     "text": [
      "\"What pattern is on the girls' dresses?\"\n",
      "['A/M']\n"
     ]
    },
    {
     "data": {
      "text/html": [
       "<img src=\"https://cs.jhu.edu/~esteng/images_for_hit/COCO_train2014_000000380034.jpg\"/>"
      ],
      "text/plain": [
       "<IPython.core.display.Image object>"
      ]
     },
     "metadata": {},
     "output_type": "display_data"
    },
    {
     "name": "stdout",
     "output_type": "stream",
     "text": [
      "\"What is out of focused here?\"\n",
      "['A/M']\n"
     ]
    },
    {
     "data": {
      "text/html": [
       "<img src=\"https://cs.jhu.edu/~esteng/images_for_hit/COCO_train2014_000000107109.jpg\"/>"
      ],
      "text/plain": [
       "<IPython.core.display.Image object>"
      ]
     },
     "metadata": {},
     "output_type": "display_data"
    },
    {
     "name": "stdout",
     "output_type": "stream",
     "text": [
      "\"What team is the man holding the bat playing for?\"\n",
      "['A/M']\n"
     ]
    },
    {
     "data": {
      "text/html": [
       "<img src=\"https://cs.jhu.edu/~esteng/images_for_hit/COCO_train2014_000000429116.jpg\"/>"
      ],
      "text/plain": [
       "<IPython.core.display.Image object>"
      ]
     },
     "metadata": {},
     "output_type": "display_data"
    },
    {
     "name": "stdout",
     "output_type": "stream",
     "text": [
      "\"What kind of wood can you see?\"\n",
      "['A/M', 'A/D']\n"
     ]
    },
    {
     "data": {
      "text/html": [
       "<img src=\"https://cs.jhu.edu/~esteng/images_for_hit/COCO_train2014_000000179886.jpg\"/>"
      ],
      "text/plain": [
       "<IPython.core.display.Image object>"
      ]
     },
     "metadata": {},
     "output_type": "display_data"
    },
    {
     "name": "stdout",
     "output_type": "stream",
     "text": [
      "\"What kind of clothes are the toys wearing?\"\n",
      "['A/M', 'A/K']\n"
     ]
    },
    {
     "data": {
      "text/html": [
       "<img src=\"https://cs.jhu.edu/~esteng/images_for_hit/COCO_train2014_000000390286.jpg\"/>"
      ],
      "text/plain": [
       "<IPython.core.display.Image object>"
      ]
     },
     "metadata": {},
     "output_type": "display_data"
    },
    {
     "name": "stdout",
     "output_type": "stream",
     "text": [
      "\"Where are the passengers?\"\n",
      "['A/M', 'A/L']\n"
     ]
    },
    {
     "data": {
      "text/html": [
       "<img src=\"https://cs.jhu.edu/~esteng/images_for_hit/COCO_train2014_000000170857.jpg\"/>"
      ],
      "text/plain": [
       "<IPython.core.display.Image object>"
      ]
     },
     "metadata": {},
     "output_type": "display_data"
    },
    {
     "name": "stdout",
     "output_type": "stream",
     "text": [
      "\"What does the woman have in her hand?\"\n",
      "['A/M']\n"
     ]
    },
    {
     "data": {
      "text/html": [
       "<img src=\"https://cs.jhu.edu/~esteng/images_for_hit/COCO_train2014_000000396725.jpg\"/>"
      ],
      "text/plain": [
       "<IPython.core.display.Image object>"
      ]
     },
     "metadata": {},
     "output_type": "display_data"
    },
    {
     "name": "stdout",
     "output_type": "stream",
     "text": [
      "\"What is tied to the boat?\"\n",
      "['A/M']\n"
     ]
    },
    {
     "data": {
      "text/html": [
       "<img src=\"https://cs.jhu.edu/~esteng/images_for_hit/COCO_train2014_000000250106.jpg\"/>"
      ],
      "text/plain": [
       "<IPython.core.display.Image object>"
      ]
     },
     "metadata": {},
     "output_type": "display_data"
    },
    {
     "name": "stdout",
     "output_type": "stream",
     "text": [
      "\"What tall item can be seen straight ahead through the door frame?\"\n",
      "['A/M']\n"
     ]
    },
    {
     "data": {
      "text/html": [
       "<img src=\"https://cs.jhu.edu/~esteng/images_for_hit/COCO_train2014_000000391525.jpg\"/>"
      ],
      "text/plain": [
       "<IPython.core.display.Image object>"
      ]
     },
     "metadata": {},
     "output_type": "display_data"
    },
    {
     "name": "stdout",
     "output_type": "stream",
     "text": [
      "\"What is this flower?\"\n",
      "['A/M']\n"
     ]
    },
    {
     "data": {
      "text/html": [
       "<img src=\"https://cs.jhu.edu/~esteng/images_for_hit/COCO_train2014_000000393989.jpg\"/>"
      ],
      "text/plain": [
       "<IPython.core.display.Image object>"
      ]
     },
     "metadata": {},
     "output_type": "display_data"
    },
    {
     "name": "stdout",
     "output_type": "stream",
     "text": [
      "\"What are the people doing?\"\n",
      "['A/M']\n"
     ]
    },
    {
     "data": {
      "text/html": [
       "<img src=\"https://cs.jhu.edu/~esteng/images_for_hit/COCO_train2014_000000332578.jpg\"/>"
      ],
      "text/plain": [
       "<IPython.core.display.Image object>"
      ]
     },
     "metadata": {},
     "output_type": "display_data"
    },
    {
     "name": "stdout",
     "output_type": "stream",
     "text": [
      "\"What is the silver box below the mirror?\"\n",
      "['A/M']\n"
     ]
    },
    {
     "data": {
      "text/html": [
       "<img src=\"https://cs.jhu.edu/~esteng/images_for_hit/COCO_train2014_000000127301.jpg\"/>"
      ],
      "text/plain": [
       "<IPython.core.display.Image object>"
      ]
     },
     "metadata": {},
     "output_type": "display_data"
    },
    {
     "name": "stdout",
     "output_type": "stream",
     "text": [
      "\"What kind of food is this?\"\n",
      "['A/M', 'A/K', 'A/G']\n"
     ]
    },
    {
     "data": {
      "text/html": [
       "<img src=\"https://cs.jhu.edu/~esteng/images_for_hit/COCO_train2014_000000351654.jpg\"/>"
      ],
      "text/plain": [
       "<IPython.core.display.Image object>"
      ]
     },
     "metadata": {},
     "output_type": "display_data"
    },
    {
     "name": "stdout",
     "output_type": "stream",
     "text": [
      "\"What is red on the side of the bus?\"\n",
      "['A/M']\n"
     ]
    },
    {
     "data": {
      "text/html": [
       "<img src=\"https://cs.jhu.edu/~esteng/images_for_hit/COCO_train2014_000000468097.jpg\"/>"
      ],
      "text/plain": [
       "<IPython.core.display.Image object>"
      ]
     },
     "metadata": {},
     "output_type": "display_data"
    },
    {
     "name": "stdout",
     "output_type": "stream",
     "text": [
      "\"What is red on the pizza?\"\n",
      "['A/M', 'A/G']\n"
     ]
    },
    {
     "data": {
      "text/html": [
       "<img src=\"https://cs.jhu.edu/~esteng/images_for_hit/COCO_train2014_000000411700.jpg\"/>"
      ],
      "text/plain": [
       "<IPython.core.display.Image object>"
      ]
     },
     "metadata": {},
     "output_type": "display_data"
    },
    {
     "name": "stdout",
     "output_type": "stream",
     "text": [
      "\"What is in the background?\"\n",
      "['A/M', 'A/G']\n"
     ]
    },
    {
     "data": {
      "text/html": [
       "<img src=\"https://cs.jhu.edu/~esteng/images_for_hit/COCO_train2014_000000165574.jpg\"/>"
      ],
      "text/plain": [
       "<IPython.core.display.Image object>"
      ]
     },
     "metadata": {},
     "output_type": "display_data"
    },
    {
     "name": "stdout",
     "output_type": "stream",
     "text": [
      "\"What is the blue item on the left?\"\n",
      "['A/M']\n"
     ]
    },
    {
     "data": {
      "text/html": [
       "<img src=\"https://cs.jhu.edu/~esteng/images_for_hit/COCO_train2014_000000212856.jpg\"/>"
      ],
      "text/plain": [
       "<IPython.core.display.Image object>"
      ]
     },
     "metadata": {},
     "output_type": "display_data"
    },
    {
     "name": "stdout",
     "output_type": "stream",
     "text": [
      "\"What is behind the man in the picture?\"\n",
      "['A/M']\n"
     ]
    },
    {
     "data": {
      "text/html": [
       "<img src=\"https://cs.jhu.edu/~esteng/images_for_hit/COCO_train2014_000000150435.jpg\"/>"
      ],
      "text/plain": [
       "<IPython.core.display.Image object>"
      ]
     },
     "metadata": {},
     "output_type": "display_data"
    },
    {
     "name": "stdout",
     "output_type": "stream",
     "text": [
      "\"What is the white streak in the sky?\"\n",
      "['A/M']\n"
     ]
    },
    {
     "data": {
      "text/html": [
       "<img src=\"https://cs.jhu.edu/~esteng/images_for_hit/COCO_train2014_000000341639.jpg\"/>"
      ],
      "text/plain": [
       "<IPython.core.display.Image object>"
      ]
     },
     "metadata": {},
     "output_type": "display_data"
    },
    {
     "name": "stdout",
     "output_type": "stream",
     "text": [
      "\"What plays music in this photo?\"\n",
      "['A/M']\n"
     ]
    },
    {
     "data": {
      "text/html": [
       "<img src=\"https://cs.jhu.edu/~esteng/images_for_hit/COCO_train2014_000000224476.jpg\"/>"
      ],
      "text/plain": [
       "<IPython.core.display.Image object>"
      ]
     },
     "metadata": {},
     "output_type": "display_data"
    },
    {
     "name": "stdout",
     "output_type": "stream",
     "text": [
      "\"What is in the center of the cake?\"\n",
      "['A/M']\n"
     ]
    },
    {
     "data": {
      "text/html": [
       "<img src=\"https://cs.jhu.edu/~esteng/images_for_hit/COCO_train2014_000000365123.jpg\"/>"
      ],
      "text/plain": [
       "<IPython.core.display.Image object>"
      ]
     },
     "metadata": {},
     "output_type": "display_data"
    },
    {
     "name": "stdout",
     "output_type": "stream",
     "text": [
      "\"What is in the bowl?\"\n",
      "['A/M', 'A/G']\n"
     ]
    },
    {
     "data": {
      "text/html": [
       "<img src=\"https://cs.jhu.edu/~esteng/images_for_hit/COCO_train2014_000000485526.jpg\"/>"
      ],
      "text/plain": [
       "<IPython.core.display.Image object>"
      ]
     },
     "metadata": {},
     "output_type": "display_data"
    },
    {
     "name": "stdout",
     "output_type": "stream",
     "text": [
      "\"What is on the right of the picture?\"\n",
      "['A/M', 'A/G']\n"
     ]
    },
    {
     "data": {
      "text/html": [
       "<img src=\"https://cs.jhu.edu/~esteng/images_for_hit/COCO_train2014_000000365011.jpg\"/>"
      ],
      "text/plain": [
       "<IPython.core.display.Image object>"
      ]
     },
     "metadata": {},
     "output_type": "display_data"
    },
    {
     "name": "stdout",
     "output_type": "stream",
     "text": [
      "\"What is on the dining table?\"\n",
      "['A/M']\n"
     ]
    },
    {
     "data": {
      "text/html": [
       "<img src=\"https://cs.jhu.edu/~esteng/images_for_hit/COCO_train2014_000000396838.jpg\"/>"
      ],
      "text/plain": [
       "<IPython.core.display.Image object>"
      ]
     },
     "metadata": {},
     "output_type": "display_data"
    },
    {
     "name": "stdout",
     "output_type": "stream",
     "text": [
      "\"What color are the walls?\"\n",
      "['A/M', 'A/G']\n"
     ]
    },
    {
     "data": {
      "text/html": [
       "<img src=\"https://cs.jhu.edu/~esteng/images_for_hit/COCO_train2014_000000447840.jpg\"/>"
      ],
      "text/plain": [
       "<IPython.core.display.Image object>"
      ]
     },
     "metadata": {},
     "output_type": "display_data"
    },
    {
     "name": "stdout",
     "output_type": "stream",
     "text": [
      "\"What is on the table?\"\n",
      "['A/M']\n"
     ]
    },
    {
     "data": {
      "text/html": [
       "<img src=\"https://cs.jhu.edu/~esteng/images_for_hit/COCO_train2014_000000289583.jpg\"/>"
      ],
      "text/plain": [
       "<IPython.core.display.Image object>"
      ]
     },
     "metadata": {},
     "output_type": "display_data"
    },
    {
     "name": "stdout",
     "output_type": "stream",
     "text": [
      "\"What color is the picture?\"\n",
      "['A/M', 'A/G']\n"
     ]
    },
    {
     "data": {
      "text/html": [
       "<img src=\"https://cs.jhu.edu/~esteng/images_for_hit/COCO_train2014_000000174667.jpg\"/>"
      ],
      "text/plain": [
       "<IPython.core.display.Image object>"
      ]
     },
     "metadata": {},
     "output_type": "display_data"
    },
    {
     "name": "stdout",
     "output_type": "stream",
     "text": [
      "\"What color is her dress?\"\n",
      "['A/M', 'A/G']\n"
     ]
    },
    {
     "data": {
      "text/html": [
       "<img src=\"https://cs.jhu.edu/~esteng/images_for_hit/COCO_train2014_000000227713.jpg\"/>"
      ],
      "text/plain": [
       "<IPython.core.display.Image object>"
      ]
     },
     "metadata": {},
     "output_type": "display_data"
    },
    {
     "name": "stdout",
     "output_type": "stream",
     "text": [
      "\"What color is the plane in the picture?\"\n",
      "['A/M', 'A/G']\n"
     ]
    },
    {
     "data": {
      "text/html": [
       "<img src=\"https://cs.jhu.edu/~esteng/images_for_hit/COCO_train2014_000000270184.jpg\"/>"
      ],
      "text/plain": [
       "<IPython.core.display.Image object>"
      ]
     },
     "metadata": {},
     "output_type": "display_data"
    },
    {
     "name": "stdout",
     "output_type": "stream",
     "text": [
      "\"What is on the plate?\"\n",
      "['A/M']\n"
     ]
    },
    {
     "data": {
      "text/html": [
       "<img src=\"https://cs.jhu.edu/~esteng/images_for_hit/COCO_train2014_000000023538.jpg\"/>"
      ],
      "text/plain": [
       "<IPython.core.display.Image object>"
      ]
     },
     "metadata": {},
     "output_type": "display_data"
    },
    {
     "name": "stdout",
     "output_type": "stream",
     "text": [
      "\"What is the man showing off?\"\n",
      "['A/M']\n"
     ]
    },
    {
     "data": {
      "text/html": [
       "<img src=\"https://cs.jhu.edu/~esteng/images_for_hit/COCO_train2014_000000371965.jpg\"/>"
      ],
      "text/plain": [
       "<IPython.core.display.Image object>"
      ]
     },
     "metadata": {},
     "output_type": "display_data"
    },
    {
     "name": "stdout",
     "output_type": "stream",
     "text": [
      "\"What are the people doing?\"\n",
      "['A/M', 'A/G', '~']\n"
     ]
    },
    {
     "data": {
      "text/html": [
       "<img src=\"https://cs.jhu.edu/~esteng/images_for_hit/COCO_train2014_000000144552.jpg\"/>"
      ],
      "text/plain": [
       "<IPython.core.display.Image object>"
      ]
     },
     "metadata": {},
     "output_type": "display_data"
    },
    {
     "name": "stdout",
     "output_type": "stream",
     "text": [
      "\"What is the laptop's screen facing?\"\n",
      "['A/M', 'A/L', 'U']\n"
     ]
    },
    {
     "data": {
      "text/html": [
       "<img src=\"https://cs.jhu.edu/~esteng/images_for_hit/COCO_train2014_000000363464.jpg\"/>"
      ],
      "text/plain": [
       "<IPython.core.display.Image object>"
      ]
     },
     "metadata": {},
     "output_type": "display_data"
    },
    {
     "name": "stdout",
     "output_type": "stream",
     "text": [
      "\"What is the writing on the window?\"\n",
      "['A/M', 'M/A']\n"
     ]
    },
    {
     "data": {
      "text/html": [
       "<img src=\"https://cs.jhu.edu/~esteng/images_for_hit/COCO_train2014_000000457121.jpg\"/>"
      ],
      "text/plain": [
       "<IPython.core.display.Image object>"
      ]
     },
     "metadata": {},
     "output_type": "display_data"
    },
    {
     "name": "stdout",
     "output_type": "stream",
     "text": [
      "\"What are they taking pictures of?\"\n",
      "['A/M']\n"
     ]
    },
    {
     "data": {
      "text/html": [
       "<img src=\"https://cs.jhu.edu/~esteng/images_for_hit/COCO_train2014_000000460459.jpg\"/>"
      ],
      "text/plain": [
       "<IPython.core.display.Image object>"
      ]
     },
     "metadata": {},
     "output_type": "display_data"
    },
    {
     "name": "stdout",
     "output_type": "stream",
     "text": [
      "\"What is making the baby cry?\"\n",
      "['A/M', '~']\n"
     ]
    },
    {
     "data": {
      "text/html": [
       "<img src=\"https://cs.jhu.edu/~esteng/images_for_hit/COCO_train2014_000000461114.jpg\"/>"
      ],
      "text/plain": [
       "<IPython.core.display.Image object>"
      ]
     },
     "metadata": {},
     "output_type": "display_data"
    },
    {
     "name": "stdout",
     "output_type": "stream",
     "text": [
      "\"What item is around the woman in the red shirt's waist?\"\n",
      "['A/M', '~']\n"
     ]
    },
    {
     "data": {
      "text/html": [
       "<img src=\"https://cs.jhu.edu/~esteng/images_for_hit/COCO_train2014_000000461208.jpg\"/>"
      ],
      "text/plain": [
       "<IPython.core.display.Image object>"
      ]
     },
     "metadata": {},
     "output_type": "display_data"
    },
    {
     "name": "stdout",
     "output_type": "stream",
     "text": [
      "\"What is this woman holding?\"\n",
      "['A/M']\n"
     ]
    },
    {
     "data": {
      "text/html": [
       "<img src=\"https://cs.jhu.edu/~esteng/images_for_hit/COCO_train2014_000000479697.jpg\"/>"
      ],
      "text/plain": [
       "<IPython.core.display.Image object>"
      ]
     },
     "metadata": {},
     "output_type": "display_data"
    },
    {
     "name": "stdout",
     "output_type": "stream",
     "text": [
      "\"What is on the sides of the motorbike?\"\n",
      "['A/M']\n"
     ]
    },
    {
     "data": {
      "text/html": [
       "<img src=\"https://cs.jhu.edu/~esteng/images_for_hit/COCO_train2014_000000218546.jpg\"/>"
      ],
      "text/plain": [
       "<IPython.core.display.Image object>"
      ]
     },
     "metadata": {},
     "output_type": "display_data"
    },
    {
     "name": "stdout",
     "output_type": "stream",
     "text": [
      "\"What is the design on the cake?\"\n",
      "['A/M']\n"
     ]
    },
    {
     "data": {
      "text/html": [
       "<img src=\"https://cs.jhu.edu/~esteng/images_for_hit/COCO_train2014_000000489844.jpg\"/>"
      ],
      "text/plain": [
       "<IPython.core.display.Image object>"
      ]
     },
     "metadata": {},
     "output_type": "display_data"
    },
    {
     "name": "stdout",
     "output_type": "stream",
     "text": [
      "\"What is the man doing?\"\n",
      "['A/M']\n"
     ]
    },
    {
     "data": {
      "text/html": [
       "<img src=\"https://cs.jhu.edu/~esteng/images_for_hit/COCO_train2014_000000036854.jpg\"/>"
      ],
      "text/plain": [
       "<IPython.core.display.Image object>"
      ]
     },
     "metadata": {},
     "output_type": "display_data"
    },
    {
     "name": "stdout",
     "output_type": "stream",
     "text": [
      "\"What is the woman doing?\"\n",
      "['A/M']\n"
     ]
    },
    {
     "data": {
      "text/html": [
       "<img src=\"https://cs.jhu.edu/~esteng/images_for_hit/COCO_train2014_000000121361.jpg\"/>"
      ],
      "text/plain": [
       "<IPython.core.display.Image object>"
      ]
     },
     "metadata": {},
     "output_type": "display_data"
    },
    {
     "name": "stdout",
     "output_type": "stream",
     "text": [
      "\"What type of food is pictured?\"\n",
      "['A/M', 'A/K', 'A/G']\n"
     ]
    },
    {
     "data": {
      "text/html": [
       "<img src=\"https://cs.jhu.edu/~esteng/images_for_hit/COCO_train2014_000000185236.jpg\"/>"
      ],
      "text/plain": [
       "<IPython.core.display.Image object>"
      ]
     },
     "metadata": {},
     "output_type": "display_data"
    },
    {
     "name": "stdout",
     "output_type": "stream",
     "text": [
      "\"What is the sitting man doing with his hands?\"\n",
      "['A/M']\n"
     ]
    },
    {
     "data": {
      "text/html": [
       "<img src=\"https://cs.jhu.edu/~esteng/images_for_hit/COCO_train2014_000000362199.jpg\"/>"
      ],
      "text/plain": [
       "<IPython.core.display.Image object>"
      ]
     },
     "metadata": {},
     "output_type": "display_data"
    },
    {
     "name": "stdout",
     "output_type": "stream",
     "text": [
      "\"What geological formation is in the background?\"\n",
      "['A/M']\n"
     ]
    },
    {
     "data": {
      "text/html": [
       "<img src=\"https://cs.jhu.edu/~esteng/images_for_hit/COCO_train2014_000000371730.jpg\"/>"
      ],
      "text/plain": [
       "<IPython.core.display.Image object>"
      ]
     },
     "metadata": {},
     "output_type": "display_data"
    },
    {
     "name": "stdout",
     "output_type": "stream",
     "text": [
      "\"What food is shown?\"\n",
      "['A/M', 'A/T', 'A/G', '~']\n"
     ]
    },
    {
     "data": {
      "text/html": [
       "<img src=\"https://cs.jhu.edu/~esteng/images_for_hit/COCO_train2014_000000432153.jpg\"/>"
      ],
      "text/plain": [
       "<IPython.core.display.Image object>"
      ]
     },
     "metadata": {},
     "output_type": "display_data"
    }
   ],
   "source": [
    "search_item = 'A/M'\n",
    "\n",
    "for row in data:\n",
    "    temp = row['Answer.skip_reason'].strip('\"')\n",
    "    labels = temp.split('.')\n",
    "    \n",
    "    if search_item in labels:\n",
    "        print(row['Input.questionStr'])\n",
    "        print(labels)\n",
    "        image_url = row['Input.imgUrl'].strip('\"')\n",
    "        display(Image(url=image_url))\n",
    "       "
   ]
  }
 ],
 "metadata": {
  "kernelspec": {
   "display_name": "Python 3.8.10 64-bit (windows store)",
   "language": "python",
   "name": "python3"
  },
  "language_info": {
   "codemirror_mode": {
    "name": "ipython",
    "version": 3
   },
   "file_extension": ".py",
   "mimetype": "text/x-python",
   "name": "python",
   "nbconvert_exporter": "python",
   "pygments_lexer": "ipython3",
   "version": "3.8.10"
  },
  "orig_nbformat": 4,
  "vscode": {
   "interpreter": {
    "hash": "cacd3390d2a8d6fc4ec6456c90ddb2483db8c2f7d1c08ee5462b8750cc80ce66"
   }
  }
 },
 "nbformat": 4,
 "nbformat_minor": 2
}
