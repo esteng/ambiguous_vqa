{
 "cells": [
  {
   "cell_type": "code",
   "execution_count": 5,
   "metadata": {},
   "outputs": [],
   "source": [
    "import csv \n",
    "import numpy as np\n",
    "import seaborn as sns \n",
    "import matplotlib.pyplot as plt\n",
    "import pandas as pd\n",
    "import json"
   ]
  },
  {
   "cell_type": "code",
   "execution_count": 4,
   "metadata": {},
   "outputs": [
    {
     "name": "stdout",
     "output_type": "stream",
     "text": [
      "dict_keys(['HITId', 'HITTypeId', 'Title', 'CreationTime', 'MaxAssignments', 'AssignmentDurationInSeconds', 'AssignmentId', 'WorkerId', 'AcceptTime', 'SubmitTime', 'WorkTimeInSeconds', 'Input.answer', 'Input.img_url', 'Input.is_distractor', 'Input.qid', 'Input.question', 'Input.question_type', 'Answer.comments', 'Answer.radio-input', 'Turkle.Username'])\n"
     ]
    }
   ],
   "source": [
    "debug_path = \"results_ordinal/debug.csv\"\n",
    "\n",
    "with open(debug_path) as f1:\n",
    "    reader = csv.DictReader(f1)\n",
    "    data = [x for x in reader]\n",
    "\n",
    "print(data[0].keys())\n"
   ]
  },
  {
   "cell_type": "code",
   "execution_count": 9,
   "metadata": {},
   "outputs": [],
   "source": [
    "# choice_mapping = {1: \"yes\", 2: \"maybe\", 3: \"no\"}\n",
    "def parse_hit_data(data, choice_mapping = {1: 1, 2: 0, 3: 0}): \n",
    "    hit_data = []\n",
    "    for row in data:\n",
    "        qid = row['Input.qid']\n",
    "        is_distractor = json.loads(row['Input.is_distractor'])\n",
    "        question_type = json.loads(row['Input.question_type'])\n",
    "        choice_idx = int(row['Answer.radio-input'])\n",
    "        choice = choice_mapping[choice_idx]\n",
    "        df_row = {\"qid\": qid, \"is_distractor\": is_distractor, \"question_type\": question_type, \"choice\": choice}\n",
    "        hit_data.append(df_row)\n",
    "    return pd.DataFrame(hit_data)"
   ]
  },
  {
   "cell_type": "code",
   "execution_count": 13,
   "metadata": {},
   "outputs": [
    {
     "name": "stdout",
     "output_type": "stream",
     "text": [
      "            qid  is_distractor question_type  choice\n",
      "0  \"44463014_5\"          False          pred       1\n",
      "1  \"44463014_5\"           True          pred       2\n",
      "2  \"44463014_5\"          False           ann       1\n",
      "3  \"44463014_5\"           True           ann       2\n",
      "4  \"44463014_5\"          False          orig       1\n",
      "5  \"44463014_5\"           True          orig       1\n"
     ]
    }
   ],
   "source": [
    "df_to_plot = parse_hit_data(data, combine_maybe_no=True)\n",
    "print(df_to_plot)"
   ]
  },
  {
   "cell_type": "code",
   "execution_count": 12,
   "metadata": {},
   "outputs": [
    {
     "data": {
      "text/plain": [
       "<AxesSubplot:xlabel='question_type', ylabel='choice'>"
      ]
     },
     "execution_count": 12,
     "metadata": {},
     "output_type": "execute_result"
    },
    {
     "data": {
      "image/png": "[encoded data removed]",
      "text/plain": [
       "<Figure size 432x288 with 1 Axes>"
      ]
     },
     "metadata": {
      "needs_background": "light"
     },
     "output_type": "display_data"
    }
   ],
   "source": [
    "sns.barplot(data = df_to_plot, x = \"question_type\", y = \"choice\", hue = \"is_distractor\")"
   ]
  },
  {
   "cell_type": "code",
   "execution_count": null,
   "metadata": {},
   "outputs": [],
   "source": []
  }
 ],
 "metadata": {
  "kernelspec": {
   "display_name": "Python 3.8.12 ('cert')",
   "language": "python",
   "name": "python3"
  },
  "language_info": {
   "codemirror_mode": {
    "name": "ipython",
    "version": 3
   },
   "file_extension": ".py",
   "mimetype": "text/x-python",
   "name": "python",
   "nbconvert_exporter": "python",
   "pygments_lexer": "ipython3",
   "version": "3.8.12"
  },
  "orig_nbformat": 4,
  "vscode": {
   "interpreter": {
    "hash": "a71203a0affc7207a6dfd2214cf786ae35ec96fb0be57392a936686760a696bf"
   }
  }
 },
 "nbformat": 4,
 "nbformat_minor": 2
}
