{
 "cells": [
  {
   "cell_type": "code",
   "execution_count": 1,
   "metadata": {},
   "outputs": [],
   "source": [
    "import csv \n",
    "import numpy as np\n",
    "import seaborn as sns \n",
    "import matplotlib.pyplot as plt\n",
    "import pandas as pd\n",
    "import json"
   ]
  },
  {
   "cell_type": "code",
   "execution_count": 2,
   "metadata": {},
   "outputs": [
    {
     "name": "stdout",
     "output_type": "stream",
     "text": [
      "dict_keys(['HITId', 'HITTypeId', 'Title', 'Description', 'Keywords', 'Reward', 'CreationTime', 'MaxAssignments', 'RequesterAnnotation', 'AssignmentDurationInSeconds', 'AutoApprovalDelayInSeconds', 'Expiration', 'NumberOfSimilarHITs', 'LifetimeInSeconds', 'AssignmentId', 'WorkerId', 'AssignmentStatus', 'AcceptTime', 'SubmitTime', 'AutoApprovalTime', 'ApprovalTime', 'RejectionTime', 'RequesterFeedback', 'WorkTimeInSeconds', 'LifetimeApprovalRate', 'Last30DaysApprovalRate', 'Last7DaysApprovalRate', 'Input.qid', 'Input.question', 'Input.question_type', 'Input.answer', 'Input.img_url', 'Input.is_distractor', 'Answer.comments', 'Answer.radio-input', 'Approve', 'Reject'])\n"
     ]
    }
   ],
   "source": [
    "debug_path = \"results_ordinal/full.csv\"\n",
    "\n",
    "with open(debug_path) as f1:\n",
    "    reader = csv.DictReader(f1)\n",
    "    data = [x for x in reader]\n",
    "\n",
    "print(data[0].keys())\n"
   ]
  },
  {
   "cell_type": "code",
   "execution_count": 3,
   "metadata": {},
   "outputs": [],
   "source": [
    "# choice_mapping = {1: \"yes\", 2: \"maybe\", 3: \"no\"}\n",
    "def parse_hit_data(data, choice_mapping = {1: 1, 2: 0, 3: 0}): \n",
    "    hit_data = []\n",
    "    for row in data:\n",
    "        qid = row['Input.qid']\n",
    "        is_distractor = json.loads(row['Input.is_distractor'])\n",
    "        question_type = json.loads(row['Input.question_type'])\n",
    "        choice_idx = int(row['Answer.radio-input'])\n",
    "        choice = choice_mapping[choice_idx]\n",
    "        df_row = {\"qid\": qid, \"is_distractor\": is_distractor, \"question_type\": question_type, \"choice\": choice}\n",
    "        hit_data.append(df_row)\n",
    "    return pd.DataFrame(hit_data)"
   ]
  },
  {
   "cell_type": "code",
   "execution_count": 6,
   "metadata": {},
   "outputs": [],
   "source": [
    "df_to_plot = parse_hit_data(data)"
   ]
  },
  {
   "cell_type": "code",
   "execution_count": 30,
   "metadata": {},
   "outputs": [
    {
     "data": {
      "image/png": "[encoded data removed]",
      "text/plain": [
       "<Figure size 360x180 with 1 Axes>"
      ]
     },
     "metadata": {
      "needs_background": "light"
     },
     "output_type": "display_data"
    }
   ],
   "source": [
    "import pathlib\n",
    "fig, ax = plt.subplots(1,1, figsize=(5,2.5))\n",
    "\n",
    "\n",
    "sns.barplot(data = df_to_plot, x = \"question_type\", y = \"choice\", hue = \"is_distractor\", ax = ax)\n",
    "sns.despine()\n",
    "\n",
    "ax.set_ylabel(\"% correct\")\n",
    "ax.set_xlabel(\"Question Type\")\n",
    "handles, labels = ax.get_legend_handles_labels()\n",
    "labels = [\"Actual\", \"Distractor\"]\n",
    "ax.legend(handles=handles, labels=labels, frameon=False, loc=9, ncol=2, handlelength=1.0, columnspacing=1.0)\n",
    "\n",
    "plt.tight_layout()\n",
    "plt.savefig(\"/Users/Elias/papers/vqa-ambiguity-2022/figures/human_eval.pdf\")"
   ]
  },
  {
   "cell_type": "markdown",
   "metadata": {},
   "source": [
    "## Significance tests\n",
    "Need to measure the differences for significance. Let's just measure them all pairwise. \n"
   ]
  },
  {
   "cell_type": "code",
   "execution_count": 37,
   "metadata": {},
   "outputs": [],
   "source": [
    "from statsmodels.stats.contingency_tables import mcnemar\n",
    "def do_mcnemar(choice1, choice2):\n",
    "    # ----------- table -------------------\n",
    "    #               ann 1\n",
    "    #           |-------------|-----------|------------|\n",
    "    #           |             |  one      |  zero      |\n",
    "    #           |-------------|-----------|------------|\n",
    "    # ann 2     |  one        |           |            |\n",
    "    #           |zero         |           |            |\n",
    "    #           |-------------|-----------|------------|\n",
    "\n",
    "    one_one = np.sum(choice1 * choice2)\n",
    "    one_zero = np.sum(choice1 * (1-choice2))\n",
    "    zero_one = np.sum((1-choice1)* choice2)\n",
    "    zero_zero = np.sum((1-choice1) * (1-choice2))\n",
    "\n",
    "\n",
    "    table_arr = np.zeros((2,2))\n",
    "\n",
    "    table_arr[0,0] = one_one\n",
    "    table_arr[1,0] = one_zero\n",
    "    table_arr[0,1] = zero_one\n",
    "    table_arr[1,1] = zero_zero\n",
    "\n",
    "    mac = mcnemar(table_arr, exact=True, correction=False)\n",
    "    return mac.pvalue, mac.statistic"
   ]
  },
  {
   "cell_type": "code",
   "execution_count": 39,
   "metadata": {},
   "outputs": [
    {
     "name": "stdout",
     "output_type": "stream",
     "text": [
      "question_type 1: ann, is_distractor_1: True, question_type 2: pred, is_distractor 2: True, stat: 17.00 p_value: 1.000\n",
      "question_type 1: ann, is_distractor_1: True, question_type 2: orig, is_distractor 2: True, stat: 14.00 p_value: 0.000\n",
      "question_type 1: ann, is_distractor_1: True, question_type 2: ann, is_distractor 2: False, stat: 6.00 p_value: 0.000\n",
      "question_type 1: pred, is_distractor_1: True, question_type 2: orig, is_distractor 2: True, stat: 12.00 p_value: 0.000\n",
      "question_type 1: pred, is_distractor_1: True, question_type 2: pred, is_distractor 2: False, stat: 17.00 p_value: 0.000\n",
      "question_type 1: orig, is_distractor_1: True, question_type 2: orig, is_distractor 2: False, stat: 19.00 p_value: 0.542\n",
      "question_type 1: ann, is_distractor_1: False, question_type 2: pred, is_distractor 2: False, stat: 20.00 p_value: 0.253\n",
      "question_type 1: ann, is_distractor_1: False, question_type 2: orig, is_distractor 2: False, stat: 20.00 p_value: 1.000\n",
      "question_type 1: pred, is_distractor_1: False, question_type 2: orig, is_distractor 2: False, stat: 19.00 p_value: 0.302\n"
     ]
    },
    {
     "name": "stderr",
     "output_type": "stream",
     "text": [
      "/var/folders/d2/d0n6tsxs5cq1hbszm2w1sw1m0000gn/T/ipykernel_66982/4008607124.py:22: UserWarning: Boolean Series key will be reindexed to match DataFrame index.\n",
      "  d1 = df_to_plot[df_to_plot['is_distractor'] == id1][df_to_plot['question_type'] == qt1]\n",
      "/var/folders/d2/d0n6tsxs5cq1hbszm2w1sw1m0000gn/T/ipykernel_66982/4008607124.py:23: UserWarning: Boolean Series key will be reindexed to match DataFrame index.\n",
      "  d2 = df_to_plot[df_to_plot['is_distractor'] == id2][df_to_plot['question_type'] == qt2]\n"
     ]
    }
   ],
   "source": [
    "from itertools import product\n",
    "import scipy \n",
    "is_distractor_choices = [True, False]\n",
    "question_type_choices = [\"ann\", \"pred\", \"orig\"]\n",
    "\n",
    "poss_combos = [x for x in product(is_distractor_choices, question_type_choices)]\n",
    "\n",
    "done = []\n",
    "for id1, qt1 in poss_combos:\n",
    "    for id2, qt2 in poss_combos:\n",
    "        if id1 == id2 and qt1 == qt2: \n",
    "            continue\n",
    "        if id1 != id2 and qt1 != qt2: \n",
    "            # don't need to compare across conditions for different question types\n",
    "            continue\n",
    "        \n",
    "        tup = sorted([str(x) for x in [id1, qt1, id2, qt2]])\n",
    "        if tup in done:\n",
    "            continue\n",
    "        done.append(tup)\n",
    "\n",
    "        d1 = df_to_plot[df_to_plot['is_distractor'] == id1][df_to_plot['question_type'] == qt1]\n",
    "        d2 = df_to_plot[df_to_plot['is_distractor'] == id2][df_to_plot['question_type'] == qt2]\n",
    "        d1 = d1['choice'].values\n",
    "        d2 = d2['choice'].values\n",
    "        # TODO (elias): once the last assignment is submitted, this can be cut \n",
    "        min_len = min(len(d1), len(d2))\n",
    "        d1 = d1[:min_len]\n",
    "        d2 = d2[:min_len]\n",
    "        p_value, stat = do_mcnemar(d1, d2)\n",
    "        print(f\"question_type 1: {qt1}, is_distractor_1: {id1}, question_type 2: {qt2}, is_distractor 2: {id2}, stat: {stat:.2f} p_value: {p_value:.3f}\")\n",
    "\n"
   ]
  },
  {
   "cell_type": "code",
   "execution_count": null,
   "metadata": {},
   "outputs": [],
   "source": []
  }
 ],
 "metadata": {
  "kernelspec": {
   "display_name": "Python 3.8.12 ('cert')",
   "language": "python",
   "name": "python3"
  },
  "language_info": {
   "codemirror_mode": {
    "name": "ipython",
    "version": 3
   },
   "file_extension": ".py",
   "mimetype": "text/x-python",
   "name": "python",
   "nbconvert_exporter": "python",
   "pygments_lexer": "ipython3",
   "version": "3.8.12"
  },
  "orig_nbformat": 4,
  "vscode": {
   "interpreter": {
    "hash": "b0a17a08863450ff7a4ab348c0dbab5dc45faee96a65b0ba052b6527e69bf5f2"
   }
  }
 },
 "nbformat": 4,
 "nbformat_minor": 2
}
