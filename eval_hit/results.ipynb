{
 "cells": [
  {
   "cell_type": "code",
   "execution_count": 1,
   "metadata": {},
   "outputs": [],
   "source": [
    "import csv \n",
    "import json\n",
    "import pathlib \n",
    "import re \n",
    "from matplotlib import pyplot as plt \n",
    "import seaborn as sns\n",
    "import pandas as pd \n",
    "import numpy as np "
   ]
  },
  {
   "cell_type": "code",
   "execution_count": 2,
   "metadata": {},
   "outputs": [],
   "source": [
    "# path for now \n",
    "# path = \"/Users/Elias/Desktop/Batch_4799783_batch_results.csv\"\n",
    "# path = \"results/round1.csv\"\n",
    "path = \"results/round2.csv\"\n",
    "\n",
    "data = []\n",
    "with open(path) as f1:\n",
    "    reader = csv.DictReader(f1) \n",
    "\n",
    "    example = 0\n",
    "    for ind, line in enumerate(reader): \n",
    "        input_inds = re.sub(\"'\", '\"', line['Input.indices_and_questions'])\n",
    "        input_inds = re.sub(\"\\(\", \"[\", input_inds)\n",
    "        input_inds = re.sub(\"\\)\", \"]\", input_inds)\n",
    "        input_inds = json.loads(input_inds)\n",
    "        questions = [line[f\"Input.question_{i}\"] for i in range(4)]\n",
    "        ratings = [line[f\"Answer.range{i+1}g\"] for i in range(4)]\n",
    "        qid = line['Input.qid']\n",
    "        for i in range(4):\n",
    "            \n",
    "            quest_type = input_inds[i][1]\n",
    "            quest = questions[i]\n",
    "            rating = ratings[i]\n",
    "            datapoint = {\"ind\": example,\n",
    "                        \"ex_ind\": ind,\n",
    "                        \"question_type\": quest_type,\n",
    "                        \"question\": quest,\n",
    "                        \"rating\": float(rating),\n",
    "                        \"qid\": qid}\n",
    "            data.append(datapoint)\n",
    "            example = len(data)"
   ]
  },
  {
   "cell_type": "code",
   "execution_count": 19,
   "metadata": {},
   "outputs": [
    {
     "name": "stdout",
     "output_type": "stream",
     "text": [
      "     ex_ind  question_type                                           question  \\\n",
      "ind                                                                             \n",
      "0         0  pred_question         What is in the sky right behind the skier?   \n",
      "1         0   ann_question  What artificial thing is on the right of the p...   \n",
      "2         0  orig_question               What is on the right of the picture?   \n",
      "3         0  rand_question                 Which one of these are vegetables?   \n",
      "4         1  pred_question                      Where was this picture taken?   \n",
      "\n",
      "     rating          qid  \n",
      "ind                       \n",
      "0      95.0  365011010_3  \n",
      "1      95.0  365011010_3  \n",
      "2      99.0  365011010_3  \n",
      "3       0.0  365011010_3  \n",
      "4      88.0  343357006_4  \n"
     ]
    }
   ],
   "source": [
    "df = pd.DataFrame.from_dict(data)\n",
    "df.set_index(\"ind\", inplace=True)\n",
    "print(df.head())"
   ]
  },
  {
   "cell_type": "markdown",
   "metadata": {},
   "source": [
    "Let's plot the initial results, just to see what the data looks like overall"
   ]
  },
  {
   "cell_type": "code",
   "execution_count": 7,
   "metadata": {},
   "outputs": [
    {
     "data": {
      "text/plain": [
       "<AxesSubplot:xlabel='question_type', ylabel='rating'>"
      ]
     },
     "execution_count": 7,
     "metadata": {},
     "output_type": "execute_result"
    },
    {
     "data": {
      "image/png": "[encoded data removed]",
      "text/plain": [
       "<Figure size 432x288 with 1 Axes>"
      ]
     },
     "metadata": {
      "needs_background": "light"
     },
     "output_type": "display_data"
    }
   ],
   "source": [
    "sns.boxplot(data=df, x = \"question_type\", y = \"rating\")\n",
    "# # exclude anything where random is rated as correct\n",
    "# rand_only = df[df['question_type'] == 'rand_question']\n",
    "# rand_only = rand_only[rand_only['rating'] > 50]\n",
    "# indices = set([x for x in rand_only['ex_ind']]) \n",
    "# print(indices)\n",
    "# df_clean = df[~df['ex_ind'].isin(indices)]\n",
    "\n",
    "# sns.boxplot(data = df_clean, x = \"question_type\", y=\"rating\")"
   ]
  },
  {
   "cell_type": "markdown",
   "metadata": {},
   "source": [
    "# Initial results\n",
    "- some predicted questions are really bad\n",
    "- some original questions are bad \n",
    "- some annotator questions are bad \n",
    "- some random questions are good but on average they're very bad \n",
    "\n",
    "## Significance tests\n",
    "Let's run some tests to see if the means are different \n"
   ]
  },
  {
   "cell_type": "code",
   "execution_count": 26,
   "metadata": {},
   "outputs": [
    {
     "name": "stdout",
     "output_type": "stream",
     "text": [
      "ann to orig\n",
      "\tann mean: 79.24, orig mean: 80.86\n",
      "\tStat: -0.4459990734456288, p_val: 0.6560873959768669\n",
      "ann to pred\n",
      "\tann mean: 79.24, pred mean: 71.83\n",
      "\tStat: 1.7600962155769186, p_val: 0.0800011905067198\n",
      "ann to rand\n",
      "\tann mean: 79.24, rand mean: 4.9\n",
      "\tStat: 23.788855055644216, p_val: 2.517771199464696e-55\n",
      "orig to pred\n",
      "\torig mean: 80.86, pred mean: 71.83\n",
      "\tStat: 2.2000795063346956, p_val: 0.02904235270687402\n",
      "orig to rand\n",
      "\torig mean: 80.86, rand mean: 4.9\n",
      "\tStat: 25.47963483237282, p_val: 2.430854635701381e-60\n",
      "pred to rand\n",
      "\tpred mean: 71.83, rand mean: 4.9\n",
      "\tStat: 18.2715522293108, p_val: 1.3257983933529837e-39\n"
     ]
    }
   ],
   "source": [
    "import scipy \n",
    "\n",
    "# isolate scores \n",
    "ann_only = df[df['question_type'] == 'ann_question']\n",
    "orig_only = df[df['question_type']== 'orig_question']\n",
    "pred_only = df[df['question_type'] == 'pred_question']\n",
    "rand_only = df[df['question_type'] == 'rand_question']\n",
    "\n",
    "to_run = [('ann', ann_only), ('orig', orig_only), ('pred', pred_only), ('rand', rand_only)]\n",
    "\n",
    "# run pairwise t-tests \n",
    "done = []\n",
    "for name1, data1 in to_run:\n",
    "    for name2, data2 in to_run:\n",
    "        if name1 == name2: \n",
    "            continue\n",
    "        if (name1, name2) in done or (name2, name1) in done:\n",
    "            continue\n",
    "\n",
    "        # run t-test \n",
    "        d1 = data1['rating'].values\n",
    "        d2 = data2['rating'].values\n",
    "        mean1, mean2 = np.mean(d1), np.mean(d2)\n",
    "        stat, p_value = scipy.stats.ttest_ind(d1, d2, equal_var = False)\n",
    "\n",
    "        print(f\"{name1} to {name2}\")\n",
    "        print(f\"\\t{name1} mean: {mean1}, {name2} mean: {mean2}\")\n",
    "        print(f\"\\tStat: {stat}, p_val: {p_value}\")\n",
    "        done.append((name1, name2))"
   ]
  },
  {
   "cell_type": "markdown",
   "metadata": {},
   "source": [
    "### Means and tests\n",
    "From this, we can really only conclude that the original annotations are significantly better than the predicted ones. "
   ]
  },
  {
   "cell_type": "markdown",
   "metadata": {},
   "source": [
    "## bad questions\n",
    "Let's take a closer look at the bad predicted, annotator, and original questions. Are these roughly the same? "
   ]
  },
  {
   "cell_type": "code",
   "execution_count": 24,
   "metadata": {},
   "outputs": [
    {
     "name": "stdout",
     "output_type": "stream",
     "text": [
      "pred\n",
      "{9, 10, 11, 15, 17, 18, 22, 23, 30, 33, 39, 53, 54, 56, 63, 73, 77, 78, 87}\n",
      "ann\n",
      "{33, 34, 4, 11, 78, 48, 20, 87, 56}\n",
      "both\n",
      "{33, 11, 78, 87, 56}\n",
      "ann but not pred\n",
      "{48, 34, 4, 20}\n"
     ]
    }
   ],
   "source": [
    "pred_only = df[df['question_type'] == 'pred_question']\n",
    "pred_idxs = set(pred_only[pred_only['rating'] < 30]['ex_ind'].values)\n",
    "ann_only = df[df['question_type'] == 'ann_question']\n",
    "ann_idxs = set(ann_only[ann_only['rating'] < 30]['ex_ind'].values)\n",
    "\n",
    "print(\"pred\")\n",
    "print(pred_idxs)\n",
    "print(\"ann\")\n",
    "print(ann_idxs)\n",
    "print(\"both\")\n",
    "print(pred_idxs & ann_idxs)\n",
    "print(\"ann but not pred\")\n",
    "print(ann_idxs - pred_idxs)\n"
   ]
  },
  {
   "cell_type": "markdown",
   "metadata": {},
   "source": [
    "## Rankings\n",
    "We can also look at the ranking to see how questions are ranked "
   ]
  },
  {
   "cell_type": "code",
   "execution_count": 5,
   "metadata": {},
   "outputs": [
    {
     "name": "stdout",
     "output_type": "stream",
     "text": [
      "{0: {'rand_question': 91, 'orig_question': 2, 'pred_question': 7, 'ann_question': 0}, 1: {'rand_question': 7, 'orig_question': 30, 'pred_question': 32, 'ann_question': 31}, 2: {'rand_question': 1, 'orig_question': 34, 'pred_question': 32, 'ann_question': 33}, 3: {'rand_question': 1, 'orig_question': 34, 'pred_question': 29, 'ann_question': 36}}\n"
     ]
    }
   ],
   "source": [
    "def get_ranking(df): \n",
    "    rank_count = {i: {'rand_question': 0,\n",
    "                  'orig_question': 0,\n",
    "                  'pred_question': 0,\n",
    "                  'ann_question': 0} for i in range(4)}\n",
    "    for i in range(100): \n",
    "        data = df[df['ex_ind'] == i]\n",
    "        types = data['question_type']\n",
    "        ratings = data['rating']\n",
    "        types_and_ratings = [x for x in zip(types, ratings)]\n",
    "        types_and_ratings = sorted(types_and_ratings, key=lambda x: x[1])\n",
    "        for rank, (type, rating) in enumerate(types_and_ratings): \n",
    "            rank_count[rank][type] += 1\n",
    "    return rank_count\n",
    "\n",
    "rank_count = get_ranking(df)\n",
    "print(rank_count)\n",
    "\n",
    "\n"
   ]
  },
  {
   "cell_type": "markdown",
   "metadata": {},
   "source": [
    "## Ranking results\n",
    "It doesn't look like there is much a difference here for the top slots. The annotator questions win by 2 questions, but that seems unlikely to be significant."
   ]
  },
  {
   "cell_type": "code",
   "execution_count": null,
   "metadata": {},
   "outputs": [],
   "source": []
  },
  {
   "cell_type": "code",
   "execution_count": 8,
   "metadata": {},
   "outputs": [
    {
     "name": "stdout",
     "output_type": "stream",
     "text": [
      "     ex_ind  question_type                                  question  rating  \\\n",
      "ind                                                                            \n",
      "139      34  rand_question                    What is the man doing?    71.0   \n",
      "156      39  rand_question  What is the silver box below the mirror?    68.0   \n",
      "232      58  rand_question                        Where are they at?    82.0   \n",
      "287      71  rand_question        What kind of food is on the plate?    62.0   \n",
      "307      76  rand_question                          Which bus it is?    67.0   \n",
      "323      80  rand_question                   Where is the bus going?    62.0   \n",
      "\n",
      "             qid  \n",
      "ind               \n",
      "139  405041002_5  \n",
      "156  183972002_3  \n",
      "232  485913002_2  \n",
      "287  259717002_7  \n",
      "307  387543001_6  \n",
      "323  443667009_0  \n"
     ]
    }
   ],
   "source": [
    "rand_only = df[df['question_type'] == 'rand_question']\n",
    "print(rand_only[rand_only['rating'] > 50])"
   ]
  },
  {
   "cell_type": "code",
   "execution_count": 18,
   "metadata": {},
   "outputs": [
    {
     "name": "stdout",
     "output_type": "stream",
     "text": [
      "     ex_ind  question_type                                           question  \\\n",
      "ind                                                                             \n",
      "13        3  pred_question                         What is the body of water?   \n",
      "137      34  pred_question                             What is the man doing?   \n",
      "147      36  pred_question           Why are there people behind the catcher?   \n",
      "235      58  pred_question                         What kind of park is this?   \n",
      "254      63  pred_question     What is the job of the men on the motorcycles?   \n",
      "266      66  pred_question           What is the job of the man on the right?   \n",
      "275      68  pred_question                 What color is the horse's blanket?   \n",
      "316      79  pred_question                       What is the green vegetable?   \n",
      "349      87  pred_question  What is the bird sitting on top of that is flo...   \n",
      "\n",
      "     rating          qid  \n",
      "ind                       \n",
      "13      0.0  223458004_2  \n",
      "137     0.0  405041002_5  \n",
      "147     0.0  218116000_4  \n",
      "235     0.0  485913002_2  \n",
      "254     0.0   37771003_9  \n",
      "266    14.0   37771003_6  \n",
      "275     0.0  227713000_0  \n",
      "316     0.0  289140004_5  \n",
      "349     0.0  217407004_3  \n"
     ]
    }
   ],
   "source": [
    "pred_only = df[df['question_type'] == 'pred_question']\n",
    "print(pred_only[pred_only['rating'] < 30])"
   ]
  },
  {
   "cell_type": "code",
   "execution_count": null,
   "metadata": {},
   "outputs": [],
   "source": []
  }
 ],
 "metadata": {
  "kernelspec": {
   "display_name": "Python 3.8.12 ('cert')",
   "language": "python",
   "name": "python3"
  },
  "language_info": {
   "codemirror_mode": {
    "name": "ipython",
    "version": 3
   },
   "file_extension": ".py",
   "mimetype": "text/x-python",
   "name": "python",
   "nbconvert_exporter": "python",
   "pygments_lexer": "ipython3",
   "version": "3.8.12"
  },
  "orig_nbformat": 4,
  "vscode": {
   "interpreter": {
    "hash": "b0a17a08863450ff7a4ab348c0dbab5dc45faee96a65b0ba052b6527e69bf5f2"
   }
  }
 },
 "nbformat": 4,
 "nbformat_minor": 2
}
