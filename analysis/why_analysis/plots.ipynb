{
 "cells": [
  {
   "cell_type": "code",
   "execution_count": 1,
   "metadata": {},
   "outputs": [],
   "source": [
    "import seaborn as sns \n",
    "from matplotlib import pyplot as plt \n",
    "import numpy as np\n",
    "import pandas as pd \n",
    "import csv \n",
    "import json \n",
    "\n",
    "def read_csv(path):\n",
    "    all_data = []\n",
    "    with open(path) as f1:\n",
    "        reader = csv.DictReader(f1)\n",
    "        for row in reader:\n",
    "            data = {}\n",
    "            for k, v in row.items():\n",
    "                try:\n",
    "                    v = json.loads(v)\n",
    "                except json.JSONDecodeError:\n",
    "                    v = v\n",
    "                data[k] = v\n",
    "            all_data.append(data)\n",
    "    return all_data\n",
    "\n"
   ]
  },
  {
   "cell_type": "code",
   "execution_count": 10,
   "metadata": {},
   "outputs": [
    {
     "name": "stdout",
     "output_type": "stream",
     "text": [
      "total: 117, skipped: 9 \n"
     ]
    }
   ],
   "source": [
    "data = read_csv('output.csv') + read_csv(\"from_ann_output.csv\")\n",
    "\n",
    "count_ambig = 0\n",
    "ambig_counts = {\"+d +a\": {\"ambiguous\": [], \"non-ambiguous\": []},\n",
    "                \"-d +a\": {\"ambiguous\": [], \"non-ambiguous\": []},\n",
    "                \"+d -a\": {\"ambiguous\": [], \"non-ambiguous\": []},\n",
    "                \"-d -a\": {\"ambiguous\": [], \"non-ambiguous\": []}} \n",
    "\n",
    "count_p_r_ratio = []\n",
    "dyn_agent_data = json.load(open(\"dynamic_agentive.json\")) + json.load(open(\"from_ann_dynamic_agentive.json\"))\n",
    "\n",
    "def get_da_class(row):\n",
    "    if 'is_dynamic' not in row:\n",
    "        return None\n",
    "    elif row['is_dynamic'] == 'y' and row['is_agentive'] == 'y': \n",
    "        return '+d +a'\n",
    "    elif row['is_dynamic'] == 'n' and row['is_agentive'] == 'y': \n",
    "        return '-d +a'\n",
    "    elif row['is_dynamic'] == 'y' and row['is_agentive'] == 'n': \n",
    "        return '+d -a'\n",
    "    elif row['is_dynamic'] == 'n' and row['is_agentive'] == 'n': \n",
    "        return '-d -a'\n",
    "    else:\n",
    "        raise ValueError(f\"Unknown code: {row['is_dynamic']} {row['is_agentive']}\")\n",
    "\n",
    "total = 0 \n",
    "skipped = 0\n",
    "for i, row in enumerate(data):\n",
    "    da_row = dyn_agent_data[i]\n",
    "    da_key = get_da_class(da_row)\n",
    "    if da_key is None:\n",
    "        skipped += 1\n",
    "        continue\n",
    "    total += 1\n",
    "    classes = row['Answer.answer_questions']\n",
    "    if len(classes) > 1 and 'p' in classes and 'r' in classes:\n",
    "        count_ambig += 1\n",
    "\n",
    "        answers = row['Answer.answer_groups']\n",
    "\n",
    "        p_r_count = {'p': 0, 'r': 0}\n",
    "        for i, c in enumerate(classes):\n",
    "            ans = answers[i]\n",
    "            for a in ans:\n",
    "                try:\n",
    "                    p_r_count[c] += 1\n",
    "                except KeyError:\n",
    "                    pass\n",
    "        ambig_counts[da_key]['ambiguous'].append(i)\n",
    "        count_p_r_ratio.append(p_r_count)\n",
    "    else:\n",
    "        ambig_counts[da_key]['non-ambiguous'].append(i)\n",
    "\n",
    "print(f\"total: {total}, skipped: {skipped} \")\n"
   ]
  },
  {
   "cell_type": "code",
   "execution_count": 5,
   "metadata": {},
   "outputs": [
    {
     "name": "stdout",
     "output_type": "stream",
     "text": [
      "+d +a\n",
      "\tambiguous: 12\n",
      "\tnon-ambiguous: 11\n",
      "-d +a\n",
      "\tambiguous: 7\n",
      "\tnon-ambiguous: 2\n",
      "+d -a\n",
      "\tambiguous: 3\n",
      "\tnon-ambiguous: 8\n",
      "-d -a\n",
      "\tambiguous: 33\n",
      "\tnon-ambiguous: 41\n",
      "     key           type  count\n",
      "0  +d +a      ambiguous     12\n",
      "1  +d +a  non-ambiguous     11\n",
      "2  -d +a      ambiguous      7\n",
      "3  -d +a  non-ambiguous      2\n",
      "4  +d -a      ambiguous      3\n"
     ]
    }
   ],
   "source": [
    "df_to_plot = []\n",
    "\n",
    "for k,v in ambig_counts.items():\n",
    "    print(f\"{k}\")\n",
    "    for k1, v1 in v.items():\n",
    "        print(f\"\\t{k1}: {len(v1)}\")\n",
    "        df_to_plot.append({\"key\": k, \"type\": k1, \"count\": len(v1)})\n",
    "\n",
    "df_to_plot = pd.DataFrame(df_to_plot)\n",
    "print(df_to_plot.head())"
   ]
  },
  {
   "cell_type": "code",
   "execution_count": 8,
   "metadata": {},
   "outputs": [
    {
     "data": {
      "image/png": "[encoded data removed]",
      "text/plain": [
       "<Figure size 360x216 with 1 Axes>"
      ]
     },
     "metadata": {
      "needs_background": "light"
     },
     "output_type": "display_data"
    }
   ],
   "source": [
    "fig, ax = plt.subplots(1, 1, figsize=(5,3))\n",
    "sns.barplot(data=df_to_plot, x = 'key', hue = 'type', y='count', ax=ax)\n",
    "sns.despine()\n",
    "ax.legend(frameon=False)\n",
    "ax.set_ylabel(\"\")\n",
    "ax.set_xlabel(\"\")\n",
    "\n",
    "plt.tight_layout()\n",
    "plt.savefig(\"/Users/Elias/papers/vqa-ambiguity-2022/figures/why_count.pdf\")"
   ]
  },
  {
   "cell_type": "code",
   "execution_count": null,
   "metadata": {},
   "outputs": [],
   "source": []
  }
 ],
 "metadata": {
  "kernelspec": {
   "display_name": "Python 3.8.12 ('cert')",
   "language": "python",
   "name": "python3"
  },
  "language_info": {
   "codemirror_mode": {
    "name": "ipython",
    "version": 3
   },
   "file_extension": ".py",
   "mimetype": "text/x-python",
   "name": "python",
   "nbconvert_exporter": "python",
   "pygments_lexer": "ipython3",
   "version": "3.8.12"
  },
  "orig_nbformat": 4,
  "vscode": {
   "interpreter": {
    "hash": "b0a17a08863450ff7a4ab348c0dbab5dc45faee96a65b0ba052b6527e69bf5f2"
   }
  }
 },
 "nbformat": 4,
 "nbformat_minor": 2
}
