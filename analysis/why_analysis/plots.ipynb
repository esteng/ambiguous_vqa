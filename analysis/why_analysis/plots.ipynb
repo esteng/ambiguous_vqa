{
 "cells": [
  {
   "cell_type": "code",
   "execution_count": 3,
   "metadata": {},
   "outputs": [],
   "source": [
    "import seaborn as sns \n",
    "from matplotlib import pyplot as plt \n",
    "import numpy as np\n",
    "import pandas as pd \n",
    "import csv \n",
    "import json \n",
    "\n",
    "def read_csv(path):\n",
    "    all_data = []\n",
    "    with open(path) as f1:\n",
    "        reader = csv.DictReader(f1)\n",
    "        for row in reader:\n",
    "            data = {}\n",
    "            for k, v in row.items():\n",
    "                try:\n",
    "                    v = json.loads(v)\n",
    "                except json.JSONDecodeError:\n",
    "                    v = v\n",
    "                data[k] = v\n",
    "            all_data.append(data)\n",
    "    return all_data\n",
    "\n"
   ]
  },
  {
   "cell_type": "code",
   "execution_count": 13,
   "metadata": {},
   "outputs": [
    {
     "name": "stdout",
     "output_type": "stream",
     "text": [
      "126 126 127\n",
      "total: 117, skipped: 9 \n"
     ]
    }
   ],
   "source": [
    "data = read_csv('output.csv') + read_csv(\"from_ann_output.csv\")\n",
    "\n",
    "count_ambig = 0\n",
    "ambig_counts = {\"+d +a\": {\"ambiguous\": [], \"non-ambiguous\": []},\n",
    "                \"-d +a\": {\"ambiguous\": [], \"non-ambiguous\": []},\n",
    "                \"+d -a\": {\"ambiguous\": [], \"non-ambiguous\": []},\n",
    "                \"-d -a\": {\"ambiguous\": [], \"non-ambiguous\": []}} \n",
    "\n",
    "count_p_r_ratio = []\n",
    "dyn_agent_data = json.load(open(\"dynamic_agentive.json\")) + json.load(open(\"from_ann_dynamic_agentive.json\"))\n",
    "\n",
    "def get_da_class(row):\n",
    "    if 'is_dynamic' not in row:\n",
    "        return None\n",
    "    elif row['is_dynamic'] == 'y' and row['is_agentive'] == 'y': \n",
    "        return '+d +a'\n",
    "    elif row['is_dynamic'] == 'n' and row['is_agentive'] == 'y': \n",
    "        return '-d +a'\n",
    "    elif row['is_dynamic'] == 'y' and row['is_agentive'] == 'n': \n",
    "        return '+d -a'\n",
    "    elif row['is_dynamic'] == 'n' and row['is_agentive'] == 'n': \n",
    "        return '-d -a'\n",
    "    else:\n",
    "        raise ValueError(f\"Unknown code: {row['is_dynamic']} {row['is_agentive']}\")\n",
    "\n",
    "total = 0 \n",
    "skipped = 0\n",
    "for i, row in enumerate(data):\n",
    "    try:\n",
    "        da_row = dyn_agent_data[i]\n",
    "    except IndexError:\n",
    "        print(f\"{i} {len(dyn_agent_data)} {len(data)}\")\n",
    "        continue\n",
    "    \n",
    "    da_key = get_da_class(da_row)\n",
    "    if da_key is None:\n",
    "        skipped += 1\n",
    "        continue\n",
    "    total += 1\n",
    "    try:\n",
    "        classes = row['answerQuestions']\n",
    "    except KeyError:\n",
    "        classes = row['Answer.answer_questions']\n",
    "    if len(classes) > 1 and 'p' in classes and 'r' in classes:\n",
    "        count_ambig += 1\n",
    "\n",
    "        answers = row['Answer.answer_groups']\n",
    "\n",
    "        p_r_count = {'p': 0, 'r': 0}\n",
    "        for i, c in enumerate(classes):\n",
    "            ans = answers[i]\n",
    "            for a in ans:\n",
    "                try:\n",
    "                    p_r_count[c] += 1\n",
    "                except KeyError:\n",
    "                    pass\n",
    "        ambig_counts[da_key]['ambiguous'].append(i)\n",
    "        count_p_r_ratio.append(p_r_count)\n",
    "    else:\n",
    "        ambig_counts[da_key]['non-ambiguous'].append(i)\n",
    "\n",
    "print(f\"total: {total}, skipped: {skipped} \")\n"
   ]
  },
  {
   "cell_type": "code",
   "execution_count": 14,
   "metadata": {},
   "outputs": [
    {
     "name": "stdout",
     "output_type": "stream",
     "text": [
      "+d +a\n",
      "\tambiguous: 0\n",
      "\tnon-ambiguous: 23\n",
      "-d +a\n",
      "\tambiguous: 1\n",
      "\tnon-ambiguous: 8\n",
      "+d -a\n",
      "\tambiguous: 1\n",
      "\tnon-ambiguous: 10\n",
      "-d -a\n",
      "\tambiguous: 3\n",
      "\tnon-ambiguous: 71\n",
      "     key           type  count\n",
      "0  +d +a      ambiguous      0\n",
      "1  +d +a  non-ambiguous     23\n",
      "2  -d +a      ambiguous      1\n",
      "3  -d +a  non-ambiguous      8\n",
      "4  +d -a      ambiguous      1\n"
     ]
    }
   ],
   "source": [
    "df_to_plot = []\n",
    "\n",
    "for k,v in ambig_counts.items():\n",
    "    print(f\"{k}\")\n",
    "    for k1, v1 in v.items():\n",
    "        print(f\"\\t{k1}: {len(v1)}\")\n",
    "        df_to_plot.append({\"key\": k, \"type\": k1, \"count\": len(v1)})\n",
    "\n",
    "df_to_plot = pd.DataFrame(df_to_plot)\n",
    "print(df_to_plot.head())"
   ]
  },
  {
   "cell_type": "code",
   "execution_count": 15,
   "metadata": {},
   "outputs": [
    {
     "ename": "FileNotFoundError",
     "evalue": "[Errno 2] No such file or directory: '/Users/Elias/papers/vqa-ambiguity-2022/figures/why_count.pdf'",
     "output_type": "error",
     "traceback": [
      "\u001b[0;31m---------------------------------------------------------------------------\u001b[0m",
      "\u001b[0;31mFileNotFoundError\u001b[0m                         Traceback (most recent call last)",
      "\u001b[1;32m/home/estengel/annotator_uncertainty/analysis/why_analysis/plots.ipynb Cell 4\u001b[0m in \u001b[0;36m<module>\u001b[0;34m\u001b[0m\n\u001b[1;32m      <a href='vscode-notebook-cell://ssh-remote%2Bblab/home/estengel/annotator_uncertainty/analysis/why_analysis/plots.ipynb#W3sdnNjb2RlLXJlbW90ZQ%3D%3D?line=5'>6</a>\u001b[0m ax\u001b[39m.\u001b[39mset_xlabel(\u001b[39m\"\u001b[39m\u001b[39m\"\u001b[39m)\n\u001b[1;32m      <a href='vscode-notebook-cell://ssh-remote%2Bblab/home/estengel/annotator_uncertainty/analysis/why_analysis/plots.ipynb#W3sdnNjb2RlLXJlbW90ZQ%3D%3D?line=7'>8</a>\u001b[0m plt\u001b[39m.\u001b[39mtight_layout()\n\u001b[0;32m----> <a href='vscode-notebook-cell://ssh-remote%2Bblab/home/estengel/annotator_uncertainty/analysis/why_analysis/plots.ipynb#W3sdnNjb2RlLXJlbW90ZQ%3D%3D?line=8'>9</a>\u001b[0m plt\u001b[39m.\u001b[39;49msavefig(\u001b[39m\"\u001b[39;49m\u001b[39m/Users/Elias/papers/vqa-ambiguity-2022/figures/why_count.pdf\u001b[39;49m\u001b[39m\"\u001b[39;49m)\n",
      "File \u001b[0;32m/brtx/601-nvme1/estengel/miniconda3/envs/cert/lib/python3.8/site-packages/matplotlib/pyplot.py:958\u001b[0m, in \u001b[0;36msavefig\u001b[0;34m(*args, **kwargs)\u001b[0m\n\u001b[1;32m    955\u001b[0m \u001b[39m@_copy_docstring_and_deprecators\u001b[39m(Figure\u001b[39m.\u001b[39msavefig)\n\u001b[1;32m    956\u001b[0m \u001b[39mdef\u001b[39;00m \u001b[39msavefig\u001b[39m(\u001b[39m*\u001b[39margs, \u001b[39m*\u001b[39m\u001b[39m*\u001b[39mkwargs):\n\u001b[1;32m    957\u001b[0m     fig \u001b[39m=\u001b[39m gcf()\n\u001b[0;32m--> 958\u001b[0m     res \u001b[39m=\u001b[39m fig\u001b[39m.\u001b[39;49msavefig(\u001b[39m*\u001b[39;49margs, \u001b[39m*\u001b[39;49m\u001b[39m*\u001b[39;49mkwargs)\n\u001b[1;32m    959\u001b[0m     fig\u001b[39m.\u001b[39mcanvas\u001b[39m.\u001b[39mdraw_idle()   \u001b[39m# need this if 'transparent=True' to reset colors\u001b[39;00m\n\u001b[1;32m    960\u001b[0m     \u001b[39mreturn\u001b[39;00m res\n",
      "File \u001b[0;32m/brtx/601-nvme1/estengel/miniconda3/envs/cert/lib/python3.8/site-packages/matplotlib/figure.py:3019\u001b[0m, in \u001b[0;36mFigure.savefig\u001b[0;34m(self, fname, transparent, **kwargs)\u001b[0m\n\u001b[1;32m   3015\u001b[0m     \u001b[39mfor\u001b[39;00m ax \u001b[39min\u001b[39;00m \u001b[39mself\u001b[39m\u001b[39m.\u001b[39maxes:\n\u001b[1;32m   3016\u001b[0m         stack\u001b[39m.\u001b[39menter_context(\n\u001b[1;32m   3017\u001b[0m             ax\u001b[39m.\u001b[39mpatch\u001b[39m.\u001b[39m_cm_set(facecolor\u001b[39m=\u001b[39m\u001b[39m'\u001b[39m\u001b[39mnone\u001b[39m\u001b[39m'\u001b[39m, edgecolor\u001b[39m=\u001b[39m\u001b[39m'\u001b[39m\u001b[39mnone\u001b[39m\u001b[39m'\u001b[39m))\n\u001b[0;32m-> 3019\u001b[0m \u001b[39mself\u001b[39;49m\u001b[39m.\u001b[39;49mcanvas\u001b[39m.\u001b[39;49mprint_figure(fname, \u001b[39m*\u001b[39;49m\u001b[39m*\u001b[39;49mkwargs)\n",
      "File \u001b[0;32m/brtx/601-nvme1/estengel/miniconda3/envs/cert/lib/python3.8/site-packages/matplotlib/backend_bases.py:2319\u001b[0m, in \u001b[0;36mFigureCanvasBase.print_figure\u001b[0;34m(self, filename, dpi, facecolor, edgecolor, orientation, format, bbox_inches, pad_inches, bbox_extra_artists, backend, **kwargs)\u001b[0m\n\u001b[1;32m   2315\u001b[0m \u001b[39mtry\u001b[39;00m:\n\u001b[1;32m   2316\u001b[0m     \u001b[39m# _get_renderer may change the figure dpi (as vector formats\u001b[39;00m\n\u001b[1;32m   2317\u001b[0m     \u001b[39m# force the figure dpi to 72), so we need to set it again here.\u001b[39;00m\n\u001b[1;32m   2318\u001b[0m     \u001b[39mwith\u001b[39;00m cbook\u001b[39m.\u001b[39m_setattr_cm(\u001b[39mself\u001b[39m\u001b[39m.\u001b[39mfigure, dpi\u001b[39m=\u001b[39mdpi):\n\u001b[0;32m-> 2319\u001b[0m         result \u001b[39m=\u001b[39m print_method(\n\u001b[1;32m   2320\u001b[0m             filename,\n\u001b[1;32m   2321\u001b[0m             facecolor\u001b[39m=\u001b[39;49mfacecolor,\n\u001b[1;32m   2322\u001b[0m             edgecolor\u001b[39m=\u001b[39;49medgecolor,\n\u001b[1;32m   2323\u001b[0m             orientation\u001b[39m=\u001b[39;49morientation,\n\u001b[1;32m   2324\u001b[0m             bbox_inches_restore\u001b[39m=\u001b[39;49m_bbox_inches_restore,\n\u001b[1;32m   2325\u001b[0m             \u001b[39m*\u001b[39;49m\u001b[39m*\u001b[39;49mkwargs)\n\u001b[1;32m   2326\u001b[0m \u001b[39mfinally\u001b[39;00m:\n\u001b[1;32m   2327\u001b[0m     \u001b[39mif\u001b[39;00m bbox_inches \u001b[39mand\u001b[39;00m restore_bbox:\n",
      "File \u001b[0;32m/brtx/601-nvme1/estengel/miniconda3/envs/cert/lib/python3.8/site-packages/matplotlib/backend_bases.py:1648\u001b[0m, in \u001b[0;36m_check_savefig_extra_args.<locals>.wrapper\u001b[0;34m(*args, **kwargs)\u001b[0m\n\u001b[1;32m   1640\u001b[0m     _api\u001b[39m.\u001b[39mwarn_deprecated(\n\u001b[1;32m   1641\u001b[0m         \u001b[39m'\u001b[39m\u001b[39m3.3\u001b[39m\u001b[39m'\u001b[39m, name\u001b[39m=\u001b[39mname, removal\u001b[39m=\u001b[39m\u001b[39m'\u001b[39m\u001b[39m3.6\u001b[39m\u001b[39m'\u001b[39m,\n\u001b[1;32m   1642\u001b[0m         message\u001b[39m=\u001b[39m\u001b[39m'\u001b[39m\u001b[39m%(name)s\u001b[39;00m\u001b[39m() got unexpected keyword argument \u001b[39m\u001b[39m\"\u001b[39m\u001b[39m'\u001b[39m\n\u001b[1;32m   1643\u001b[0m                 \u001b[39m+\u001b[39m arg \u001b[39m+\u001b[39m \u001b[39m'\u001b[39m\u001b[39m\"\u001b[39m\u001b[39m which is no longer supported as of \u001b[39m\u001b[39m'\u001b[39m\n\u001b[1;32m   1644\u001b[0m                 \u001b[39m'\u001b[39m\u001b[39m%(since)s\u001b[39;00m\u001b[39m and will become an error \u001b[39m\u001b[39m'\u001b[39m\n\u001b[1;32m   1645\u001b[0m                 \u001b[39m'\u001b[39m\u001b[39m%(removal)s\u001b[39;00m\u001b[39m'\u001b[39m)\n\u001b[1;32m   1646\u001b[0m     kwargs\u001b[39m.\u001b[39mpop(arg)\n\u001b[0;32m-> 1648\u001b[0m \u001b[39mreturn\u001b[39;00m func(\u001b[39m*\u001b[39;49margs, \u001b[39m*\u001b[39;49m\u001b[39m*\u001b[39;49mkwargs)\n",
      "File \u001b[0;32m/brtx/601-nvme1/estengel/miniconda3/envs/cert/lib/python3.8/site-packages/matplotlib/_api/deprecation.py:386\u001b[0m, in \u001b[0;36mdelete_parameter.<locals>.wrapper\u001b[0;34m(*inner_args, **inner_kwargs)\u001b[0m\n\u001b[1;32m    381\u001b[0m \u001b[39m@functools\u001b[39m\u001b[39m.\u001b[39mwraps(func)\n\u001b[1;32m    382\u001b[0m \u001b[39mdef\u001b[39;00m \u001b[39mwrapper\u001b[39m(\u001b[39m*\u001b[39minner_args, \u001b[39m*\u001b[39m\u001b[39m*\u001b[39minner_kwargs):\n\u001b[1;32m    383\u001b[0m     \u001b[39mif\u001b[39;00m \u001b[39mlen\u001b[39m(inner_args) \u001b[39m<\u001b[39m\u001b[39m=\u001b[39m name_idx \u001b[39mand\u001b[39;00m name \u001b[39mnot\u001b[39;00m \u001b[39min\u001b[39;00m inner_kwargs:\n\u001b[1;32m    384\u001b[0m         \u001b[39m# Early return in the simple, non-deprecated case (much faster than\u001b[39;00m\n\u001b[1;32m    385\u001b[0m         \u001b[39m# calling bind()).\u001b[39;00m\n\u001b[0;32m--> 386\u001b[0m         \u001b[39mreturn\u001b[39;00m func(\u001b[39m*\u001b[39;49minner_args, \u001b[39m*\u001b[39;49m\u001b[39m*\u001b[39;49minner_kwargs)\n\u001b[1;32m    387\u001b[0m     arguments \u001b[39m=\u001b[39m signature\u001b[39m.\u001b[39mbind(\u001b[39m*\u001b[39minner_args, \u001b[39m*\u001b[39m\u001b[39m*\u001b[39minner_kwargs)\u001b[39m.\u001b[39marguments\n\u001b[1;32m    388\u001b[0m     \u001b[39mif\u001b[39;00m is_varargs \u001b[39mand\u001b[39;00m arguments\u001b[39m.\u001b[39mget(name):\n",
      "File \u001b[0;32m/brtx/601-nvme1/estengel/miniconda3/envs/cert/lib/python3.8/site-packages/matplotlib/backends/backend_pdf.py:2778\u001b[0m, in \u001b[0;36mFigureCanvasPdf.print_pdf\u001b[0;34m(self, filename, dpi, bbox_inches_restore, metadata)\u001b[0m\n\u001b[1;32m   2776\u001b[0m     file \u001b[39m=\u001b[39m filename\u001b[39m.\u001b[39m_file\n\u001b[1;32m   2777\u001b[0m \u001b[39melse\u001b[39;00m:\n\u001b[0;32m-> 2778\u001b[0m     file \u001b[39m=\u001b[39m PdfFile(filename, metadata\u001b[39m=\u001b[39;49mmetadata)\n\u001b[1;32m   2779\u001b[0m \u001b[39mtry\u001b[39;00m:\n\u001b[1;32m   2780\u001b[0m     file\u001b[39m.\u001b[39mnewPage(width, height)\n",
      "File \u001b[0;32m/brtx/601-nvme1/estengel/miniconda3/envs/cert/lib/python3.8/site-packages/matplotlib/backends/backend_pdf.py:654\u001b[0m, in \u001b[0;36mPdfFile.__init__\u001b[0;34m(self, filename, metadata)\u001b[0m\n\u001b[1;32m    652\u001b[0m \u001b[39mself\u001b[39m\u001b[39m.\u001b[39moriginal_file_like \u001b[39m=\u001b[39m \u001b[39mNone\u001b[39;00m\n\u001b[1;32m    653\u001b[0m \u001b[39mself\u001b[39m\u001b[39m.\u001b[39mtell_base \u001b[39m=\u001b[39m \u001b[39m0\u001b[39m\n\u001b[0;32m--> 654\u001b[0m fh, opened \u001b[39m=\u001b[39m cbook\u001b[39m.\u001b[39;49mto_filehandle(filename, \u001b[39m\"\u001b[39;49m\u001b[39mwb\u001b[39;49m\u001b[39m\"\u001b[39;49m, return_opened\u001b[39m=\u001b[39;49m\u001b[39mTrue\u001b[39;49;00m)\n\u001b[1;32m    655\u001b[0m \u001b[39mif\u001b[39;00m \u001b[39mnot\u001b[39;00m opened:\n\u001b[1;32m    656\u001b[0m     \u001b[39mtry\u001b[39;00m:\n",
      "File \u001b[0;32m/brtx/601-nvme1/estengel/miniconda3/envs/cert/lib/python3.8/site-packages/matplotlib/cbook/__init__.py:451\u001b[0m, in \u001b[0;36mto_filehandle\u001b[0;34m(fname, flag, return_opened, encoding)\u001b[0m\n\u001b[1;32m    449\u001b[0m         fh \u001b[39m=\u001b[39m bz2\u001b[39m.\u001b[39mBZ2File(fname, flag)\n\u001b[1;32m    450\u001b[0m     \u001b[39melse\u001b[39;00m:\n\u001b[0;32m--> 451\u001b[0m         fh \u001b[39m=\u001b[39m \u001b[39mopen\u001b[39;49m(fname, flag, encoding\u001b[39m=\u001b[39;49mencoding)\n\u001b[1;32m    452\u001b[0m     opened \u001b[39m=\u001b[39m \u001b[39mTrue\u001b[39;00m\n\u001b[1;32m    453\u001b[0m \u001b[39melif\u001b[39;00m \u001b[39mhasattr\u001b[39m(fname, \u001b[39m'\u001b[39m\u001b[39mseek\u001b[39m\u001b[39m'\u001b[39m):\n",
      "\u001b[0;31mFileNotFoundError\u001b[0m: [Errno 2] No such file or directory: '/Users/Elias/papers/vqa-ambiguity-2022/figures/why_count.pdf'"
     ]
    },
    {
     "data": {
      "image/png": "[encoded data removed]",
      "text/plain": [
       "<Figure size 360x216 with 1 Axes>"
      ]
     },
     "metadata": {
      "needs_background": "light"
     },
     "output_type": "display_data"
    }
   ],
   "source": [
    "fig, ax = plt.subplots(1, 1, figsize=(5,3))\n",
    "sns.barplot(data=df_to_plot, x = 'key', hue = 'type', y='count', ax=ax)\n",
    "sns.despine()\n",
    "ax.legend(frameon=False)\n",
    "ax.set_ylabel(\"\")\n",
    "ax.set_xlabel(\"\")\n",
    "\n",
    "plt.tight_layout()\n",
    "plt.savefig(\"/home/estengel/papers/vqa-ambiguity-2022/figures/why_count.pdf\")"
   ]
  },
  {
   "cell_type": "code",
   "execution_count": null,
   "metadata": {},
   "outputs": [],
   "source": []
  }
 ],
 "metadata": {
  "kernelspec": {
   "display_name": "Python 3.8.12 ('cert')",
   "language": "python",
   "name": "python3"
  },
  "language_info": {
   "codemirror_mode": {
    "name": "ipython",
    "version": 3
   },
   "file_extension": ".py",
   "mimetype": "text/x-python",
   "name": "python",
   "nbconvert_exporter": "python",
   "pygments_lexer": "ipython3",
   "version": "3.8.12"
  },
  "orig_nbformat": 4,
  "vscode": {
   "interpreter": {
    "hash": "a71203a0affc7207a6dfd2214cf786ae35ec96fb0be57392a936686760a696bf"
   }
  }
 },
 "nbformat": 4,
 "nbformat_minor": 2
}
