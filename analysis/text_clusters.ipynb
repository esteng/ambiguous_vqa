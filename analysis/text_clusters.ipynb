{
 "cells": [
  {
   "cell_type": "code",
   "execution_count": 2,
   "metadata": {},
   "outputs": [],
   "source": [
    "import numpy as np \n",
    "import torch \n",
    "from collections import defaultdict\n",
    "import json \n",
    "import pathlib \n",
    "import sys\n",
    "from tqdm import tqdm\n",
    "\n"
   ]
  },
  {
   "cell_type": "code",
   "execution_count": 3,
   "metadata": {},
   "outputs": [],
   "source": [
    "annotations = json.load(open(\"/home/estengel/annotator_uncertainty/jimena_work/cleaned_data/csv/dev_set/annotations.json\"))['annotations']\n",
    "questions = json.load(open(\"/home/estengel/annotator_uncertainty/jimena_work/cleaned_data/csv/dev_set/questions.json\"))['questions']"
   ]
  },
  {
   "cell_type": "code",
   "execution_count": 4,
   "metadata": {},
   "outputs": [],
   "source": [
    "# get the clusters from annotations \n",
    "def get_annotator_clusters(questions, annotations): \n",
    "    anns_by_qid = defaultdict(list)\n",
    "    for quest, ann in zip(questions, annotations):\n",
    "\n",
    "        qid, i = quest['question_id'].split(\"_\")\n",
    "        anns_by_qid[qid].append((quest, ann))\n",
    "\n",
    "    clusters_by_qid = {}\n",
    "    for qid, list_of_qas in anns_by_qid.items():\n",
    "        clusters = defaultdict(list)\n",
    "        for quest, ann in list_of_qas:\n",
    "            rewritten = quest['new_question']\n",
    "            answer = ann['answers'][0]['answer']\n",
    "            answer_id = ann['answers'][0]['mturk_id']\n",
    "            cluster_dict = {\"answer\": answer, \"id\": answer_id} \n",
    "            clusters[rewritten].append(cluster_dict)\n",
    "        clusters_by_qid[qid] = clusters\n",
    "    return clusters_by_qid\n",
    "\n",
    "# get the clusters from kmeans preprocessing\n",
    "def get_preprocessed_clusters(questions, annotations): \n",
    "    anns_by_qid = defaultdict(list)\n",
    "    for quest, ann in zip(questions, annotations):\n",
    "\n",
    "        qid, i = quest['question_id'].split(\"_\")\n",
    "        anns_by_qid[qid].append((quest, ann))\n",
    "\n",
    "    clusters_by_qid = {}\n",
    "    for qid, list_of_qas in anns_by_qid.items():\n",
    "        clusters = defaultdict(list)\n",
    "        for quest, ann in list_of_qas:\n",
    "            answer = ann['answers'][0]['answer']\n",
    "            answer_id = ann['answers'][0]['mturk_id']\n",
    "            id_key, answer_id_suffix = answer_id.split(\".\")\n",
    "            cluster_dict = {\"answer\": answer, \"id\": answer_id} \n",
    "            clusters[id_key].append(cluster_dict)\n",
    "        clusters_by_qid[qid] = clusters\n",
    "    return clusters_by_qid\n"
   ]
  },
  {
   "cell_type": "code",
   "execution_count": 5,
   "metadata": {},
   "outputs": [
    {
     "name": "stdout",
     "output_type": "stream",
     "text": [
      "/home/estengel/annotator_uncertainty/analysis\n",
      "['/home/estengel/annotator_uncertainty/analysis', '/home/estengel/annotator_uncertainty/hit3.0/results', '/home/estengel/annotator_uncertainty/analysis', '/home/estengel/.vscode-server/extensions/ms-toolsai.jupyter-2022.6.1201981810/pythonFiles', '/home/estengel/.vscode-server/extensions/ms-toolsai.jupyter-2022.6.1201981810/pythonFiles/lib/python', '/brtx/601-nvme1/estengel/miniconda3/envs/cert/lib/python38.zip', '/brtx/601-nvme1/estengel/miniconda3/envs/cert/lib/python3.8', '/brtx/601-nvme1/estengel/miniconda3/envs/cert/lib/python3.8/lib-dynload', '', '/brtx/601-nvme1/estengel/miniconda3/envs/cert/lib/python3.8/site-packages']\n"
     ]
    }
   ],
   "source": [
    "\n",
    "curr_path = pathlib.Path('').resolve().parent\n",
    "sys.path.insert(0, str(curr_path.joinpath(\"hit3.0\").joinpath(\"results\")))\n",
    "from process_csv import f1_score\n",
    "\n",
    "def preprocess(cluster_data):\n",
    "    if type(cluster_data) in [dict, defaultdict]:\n",
    "        # dealing with predicted clusters or preprocessed clusters\n",
    "        return cluster_data.values()\n",
    "    return cluster_data\n",
    "\n",
    "def get_scores(clusters_by_qid_a, clusters_by_qid_b):\n",
    "    scores = []\n",
    "    for qid in clusters_by_qid_a.keys():\n",
    "        cluster_a = preprocess(clusters_by_qid_a[qid])\n",
    "        cluster_b = preprocess(clusters_by_qid_b[qid])\n",
    "        f1_tuple = f1_score(cluster_a, cluster_b)\n",
    "        f1_tuple = f1_tuple[0:-1]\n",
    "        scores.append(f1_tuple)\n",
    "    # print(scores)\n",
    "    scores = np.array(scores)\n",
    "    return np.mean(scores, axis=0)\n"
   ]
  },
  {
   "cell_type": "code",
   "execution_count": 6,
   "metadata": {},
   "outputs": [],
   "source": [
    "from string_metrics import BertSimilarityScore, BleuSimilarityScore\n",
    "# score_cls = BertSimilarityScore(device=\"cuda:0\")"
   ]
  },
  {
   "cell_type": "code",
   "execution_count": 7,
   "metadata": {},
   "outputs": [],
   "source": [
    "import re\n",
    "from scipy.cluster.hierarchy import linkage, fcluster\n",
    "import scipy \n",
    "np.set_printoptions(precision=2)\n",
    "\n",
    "def read_generations(output_path):\n",
    "    flat_data_by_qid = {}\n",
    "    data = open(output_path).readlines()\n",
    "    for line in data:\n",
    "        batch_data = json.loads(line)\n",
    "        for qid, generation in zip(batch_data['question_id'], batch_data['speaker_utterances'][0]):\n",
    "            flat_data_by_qid[qid] = generation\n",
    "    return flat_data_by_qid\n",
    "\n",
    "def clean_text(text): \n",
    "    text = re.sub(\"<.*?>\", \"\", text)\n",
    "    text = text.strip() \n",
    "    return text \n",
    "\n",
    "def normalize(scores):\n",
    "    # make other min zero \n",
    "    scores_no_zero = scores[scores > 0]\n",
    "    min_score = np.min(scores_no_zero)\n",
    "    # so everything becomes zero\n",
    "    scores[scores == 0] += min_score\n",
    "    # normalize scores so the min is zero and max is 1\n",
    "    max_score = np.max(scores)\n",
    "    if max_score == min_score:\n",
    "        denom = max_score\n",
    "    else:\n",
    "        denom = max_score - min_score\n",
    "    return (scores-min_score) / denom\n",
    "\n",
    "\n",
    "# get the clusters from predictions \n",
    "def get_prediction_clusters(predictions_jsonl,\n",
    "                            questions, \n",
    "                            annotations, \n",
    "                            score_cls, \n",
    "                            t = 1.06, \n",
    "                            criterion = \"centroid\", \n",
    "                            method = \"distance\"):\n",
    "    generations_by_qid = read_generations(predictions_jsonl)\n",
    "    anns_by_qid = defaultdict(list)\n",
    "    answers_by_qid = defaultdict(list)\n",
    "    for quest, ann in zip(questions, annotations):\n",
    "        qid, i = quest['question_id'].split(\"_\")\n",
    "        generation = clean_text(generations_by_qid[quest['question_id']])\n",
    "        anns_by_qid[qid].append(generation)\n",
    "        answers_by_qid[qid].append(ann['answers'])\n",
    "\n",
    "    scores_by_qid = {} \n",
    "    clusts_by_qid = {}\n",
    "    # Get matrix of scores \n",
    "    answer_clusters = {}\n",
    "    for qid, quest_list in tqdm(anns_by_qid.items()): \n",
    "        scores = np.zeros((len(quest_list), len(quest_list))) \n",
    "        done = []\n",
    "        for i, q1 in enumerate(quest_list): \n",
    "            for j, q2 in enumerate(quest_list):\n",
    "                if i == j: \n",
    "                    scores[i,j] = 0.0 \n",
    "                    continue\n",
    "                sim_score = score_cls.get_similarity(q1, q2) \n",
    "                # print(q1, q2)\n",
    "                # print(f\"score: {sim_score}\")\n",
    "                if type(sim_score) == list:\n",
    "                    # take the first element? \n",
    "                    sim_score = sim_score[0]\n",
    "                \n",
    "                scores[i,j] = 1/sim_score\n",
    "                scores[j,i] = 1/sim_score\n",
    "                # scores[i,j] = 1 - sim_score\n",
    "                # scores[j,i] = 1 - sim_score\n",
    "                done.append((i,j))\n",
    "                done.append((j,i))\n",
    "        \n",
    "        # try normalizing \n",
    "        scores = normalize(scores)\n",
    "        # print(answers_by_qid[qid])\n",
    "        # print(quest_list)\n",
    "        # print(scores)\n",
    "        # sys.exit()\n",
    "        scores_by_qid[qid] = scores \n",
    "        # print(scores)\n",
    "        scores = scipy.spatial.distance.squareform(scores)\n",
    "        link = linkage(scores, method=method, metric=\"cosine\")\n",
    "        clust = fcluster(link, t=t, criterion=criterion)\n",
    "\n",
    "        clusts_by_qid[qid] = clust \n",
    "        answers_clustered = defaultdict(list)\n",
    "        ans_list = answers_by_qid[qid]\n",
    "        for i, idx in enumerate(clust):\n",
    "            answer = ans_list[i]\n",
    "            orig_id = answer[0]['mturk_id']\n",
    "            cluster_dict = {\"answer\": answer[0]['answer'], \"question\": quest_list[i], \"id\": orig_id} \n",
    "            answers_clustered[f\"g{idx}\"].append(cluster_dict)\n",
    "        answer_clusters[qid] = answers_clustered\n",
    "\n",
    "    return answer_clusters"
   ]
  },
  {
   "cell_type": "code",
   "execution_count": 8,
   "metadata": {},
   "outputs": [
    {
     "name": "stdout",
     "output_type": "stream",
     "text": [
      "defaultdict(<class 'list'>, {'What is the bottom left food item with the green colors?': [{'answer': 'pasta', 'id': 'g4.0'}, {'answer': 'slaw', 'id': 'g3.0'}, {'answer': 'broccoli', 'id': 'g6.0'}, {'answer': 'salad', 'id': 'g2.0'}, {'answer': 'vegetables', 'id': 'g1.0'}, {'answer': 'lettuce', 'id': 'g0.0'}], 'What is the top right food item with the green colors?': [{'answer': 'herb', 'id': 'g7.0'}, {'answer': 'garnish', 'id': 'g5.0'}]})\n"
     ]
    },
    {
     "ename": "KeyboardInterrupt",
     "evalue": "",
     "output_type": "error",
     "traceback": [
      "\u001b[0;31m---------------------------------------------------------------------------\u001b[0m",
      "\u001b[0;31mKeyboardInterrupt\u001b[0m                         Traceback (most recent call last)",
      "\u001b[1;32m/home/estengel/annotator_uncertainty/analysis/text_clusters.ipynb Cell 7\u001b[0m in \u001b[0;36m<module>\u001b[0;34m\u001b[0m\n\u001b[1;32m      <a href='vscode-notebook-cell://ssh-remote%2Bblab/home/estengel/annotator_uncertainty/analysis/text_clusters.ipynb#ch0000006vscode-remote?line=4'>5</a>\u001b[0m \u001b[39mprint\u001b[39m(ann_clusters[\u001b[39m'\u001b[39m\u001b[39m480779000\u001b[39m\u001b[39m'\u001b[39m])\n\u001b[1;32m      <a href='vscode-notebook-cell://ssh-remote%2Bblab/home/estengel/annotator_uncertainty/analysis/text_clusters.ipynb#ch0000006vscode-remote?line=6'>7</a>\u001b[0m pred_path \u001b[39m=\u001b[39m \u001b[39m\"\u001b[39m\u001b[39m/brtx/602-nvme1/estengel/annotator_uncertainty/models/img2q_t5_base_no_limit/output/dev_set_predictions_forced.jsonl\u001b[39m\u001b[39m\"\u001b[39m\n\u001b[1;32m      <a href='vscode-notebook-cell://ssh-remote%2Bblab/home/estengel/annotator_uncertainty/analysis/text_clusters.ipynb#ch0000006vscode-remote?line=7'>8</a>\u001b[0m pred_clusters \u001b[39m=\u001b[39m get_prediction_clusters(pred_path,\n\u001b[1;32m      <a href='vscode-notebook-cell://ssh-remote%2Bblab/home/estengel/annotator_uncertainty/analysis/text_clusters.ipynb#ch0000006vscode-remote?line=8'>9</a>\u001b[0m                                         questions, \n\u001b[1;32m     <a href='vscode-notebook-cell://ssh-remote%2Bblab/home/estengel/annotator_uncertainty/analysis/text_clusters.ipynb#ch0000006vscode-remote?line=9'>10</a>\u001b[0m                                         annotations,\n\u001b[1;32m     <a href='vscode-notebook-cell://ssh-remote%2Bblab/home/estengel/annotator_uncertainty/analysis/text_clusters.ipynb#ch0000006vscode-remote?line=10'>11</a>\u001b[0m                                         \u001b[39m# score_cls=score_cls,\u001b[39;00m\n\u001b[0;32m---> <a href='vscode-notebook-cell://ssh-remote%2Bblab/home/estengel/annotator_uncertainty/analysis/text_clusters.ipynb#ch0000006vscode-remote?line=11'>12</a>\u001b[0m                                         score_cls \u001b[39m=\u001b[39m BertSimilarityScore(device\u001b[39m=\u001b[39;49m\u001b[39m\"\u001b[39;49m\u001b[39mcuda:0\u001b[39;49m\u001b[39m\"\u001b[39;49m),\n\u001b[1;32m     <a href='vscode-notebook-cell://ssh-remote%2Bblab/home/estengel/annotator_uncertainty/analysis/text_clusters.ipynb#ch0000006vscode-remote?line=12'>13</a>\u001b[0m                                         criterion\u001b[39m=\u001b[39m\u001b[39m\"\u001b[39m\u001b[39mdistance\u001b[39m\u001b[39m\"\u001b[39m,\n\u001b[1;32m     <a href='vscode-notebook-cell://ssh-remote%2Bblab/home/estengel/annotator_uncertainty/analysis/text_clusters.ipynb#ch0000006vscode-remote?line=13'>14</a>\u001b[0m                                         method\u001b[39m=\u001b[39m\u001b[39m\"\u001b[39m\u001b[39mward\u001b[39m\u001b[39m\"\u001b[39m,\n\u001b[1;32m     <a href='vscode-notebook-cell://ssh-remote%2Bblab/home/estengel/annotator_uncertainty/analysis/text_clusters.ipynb#ch0000006vscode-remote?line=14'>15</a>\u001b[0m                                         t\u001b[39m=\u001b[39m\u001b[39m1.13\u001b[39m)\n\u001b[1;32m     <a href='vscode-notebook-cell://ssh-remote%2Bblab/home/estengel/annotator_uncertainty/analysis/text_clusters.ipynb#ch0000006vscode-remote?line=17'>18</a>\u001b[0m pred_to_ann \u001b[39m=\u001b[39m get_scores(pred_clusters, ann_clusters)\n\u001b[1;32m     <a href='vscode-notebook-cell://ssh-remote%2Bblab/home/estengel/annotator_uncertainty/analysis/text_clusters.ipynb#ch0000006vscode-remote?line=18'>19</a>\u001b[0m \u001b[39mprint\u001b[39m(\u001b[39mf\u001b[39m\u001b[39m\"\u001b[39m\u001b[39mP: \u001b[39m\u001b[39m{\u001b[39;00mpred_to_ann[\u001b[39m1\u001b[39m]\u001b[39m*\u001b[39m\u001b[39m100\u001b[39m\u001b[39m:\u001b[39;00m\u001b[39m.2f\u001b[39m\u001b[39m}\u001b[39;00m\u001b[39m, R: \u001b[39m\u001b[39m{\u001b[39;00mpred_to_ann[\u001b[39m2\u001b[39m]\u001b[39m*\u001b[39m\u001b[39m100\u001b[39m\u001b[39m:\u001b[39;00m\u001b[39m.2f\u001b[39m\u001b[39m}\u001b[39;00m\u001b[39m, F1: \u001b[39m\u001b[39m{\u001b[39;00mpred_to_ann[\u001b[39m0\u001b[39m]\u001b[39m*\u001b[39m\u001b[39m100\u001b[39m\u001b[39m:\u001b[39;00m\u001b[39m.2f\u001b[39m\u001b[39m}\u001b[39;00m\u001b[39m\"\u001b[39m)\n",
      "File \u001b[0;32m~/annotator_uncertainty/analysis/string_metrics.py:39\u001b[0m, in \u001b[0;36mBertSimilarityScore.__init__\u001b[0;34m(self, device)\u001b[0m\n\u001b[1;32m     37\u001b[0m \u001b[39mdef\u001b[39;00m \u001b[39m__init__\u001b[39m(\u001b[39mself\u001b[39m, device\u001b[39m=\u001b[39m\u001b[39m'\u001b[39m\u001b[39mcpu\u001b[39m\u001b[39m'\u001b[39m):\n\u001b[1;32m     38\u001b[0m     \u001b[39msuper\u001b[39m()\u001b[39m.\u001b[39m\u001b[39m__init__\u001b[39m()\n\u001b[0;32m---> 39\u001b[0m     \u001b[39mself\u001b[39m\u001b[39m.\u001b[39mscorer \u001b[39m=\u001b[39m BERTScorer(lang\u001b[39m=\u001b[39;49m\u001b[39m'\u001b[39;49m\u001b[39men\u001b[39;49m\u001b[39m'\u001b[39;49m, device\u001b[39m=\u001b[39;49mdevice)\n",
      "File \u001b[0;32m/brtx/601-nvme1/estengel/miniconda3/envs/cert/lib/python3.8/site-packages/bert_score/scorer.py:104\u001b[0m, in \u001b[0;36mBERTScorer.__init__\u001b[0;34m(self, model_type, num_layers, batch_size, nthreads, all_layers, idf, idf_sents, device, lang, rescale_with_baseline, baseline_path, use_fast_tokenizer)\u001b[0m\n\u001b[1;32m    102\u001b[0m \u001b[39mself\u001b[39m\u001b[39m.\u001b[39m_tokenizer \u001b[39m=\u001b[39m get_tokenizer(\u001b[39mself\u001b[39m\u001b[39m.\u001b[39mmodel_type, \u001b[39mself\u001b[39m\u001b[39m.\u001b[39m_use_fast_tokenizer)\n\u001b[1;32m    103\u001b[0m \u001b[39mself\u001b[39m\u001b[39m.\u001b[39m_model \u001b[39m=\u001b[39m get_model(\u001b[39mself\u001b[39m\u001b[39m.\u001b[39mmodel_type, \u001b[39mself\u001b[39m\u001b[39m.\u001b[39mnum_layers, \u001b[39mself\u001b[39m\u001b[39m.\u001b[39mall_layers)\n\u001b[0;32m--> 104\u001b[0m \u001b[39mself\u001b[39;49m\u001b[39m.\u001b[39;49m_model\u001b[39m.\u001b[39;49mto(\u001b[39mself\u001b[39;49m\u001b[39m.\u001b[39;49mdevice)\n\u001b[1;32m    106\u001b[0m \u001b[39mself\u001b[39m\u001b[39m.\u001b[39m_idf_dict \u001b[39m=\u001b[39m \u001b[39mNone\u001b[39;00m\n\u001b[1;32m    107\u001b[0m \u001b[39mif\u001b[39;00m idf_sents \u001b[39mis\u001b[39;00m \u001b[39mnot\u001b[39;00m \u001b[39mNone\u001b[39;00m:\n",
      "File \u001b[0;32m/brtx/601-nvme1/estengel/miniconda3/envs/cert/lib/python3.8/site-packages/torch/nn/modules/module.py:899\u001b[0m, in \u001b[0;36mModule.to\u001b[0;34m(self, *args, **kwargs)\u001b[0m\n\u001b[1;32m    895\u001b[0m         \u001b[39mreturn\u001b[39;00m t\u001b[39m.\u001b[39mto(device, dtype \u001b[39mif\u001b[39;00m t\u001b[39m.\u001b[39mis_floating_point() \u001b[39mor\u001b[39;00m t\u001b[39m.\u001b[39mis_complex() \u001b[39melse\u001b[39;00m \u001b[39mNone\u001b[39;00m,\n\u001b[1;32m    896\u001b[0m                     non_blocking, memory_format\u001b[39m=\u001b[39mconvert_to_format)\n\u001b[1;32m    897\u001b[0m     \u001b[39mreturn\u001b[39;00m t\u001b[39m.\u001b[39mto(device, dtype \u001b[39mif\u001b[39;00m t\u001b[39m.\u001b[39mis_floating_point() \u001b[39mor\u001b[39;00m t\u001b[39m.\u001b[39mis_complex() \u001b[39melse\u001b[39;00m \u001b[39mNone\u001b[39;00m, non_blocking)\n\u001b[0;32m--> 899\u001b[0m \u001b[39mreturn\u001b[39;00m \u001b[39mself\u001b[39;49m\u001b[39m.\u001b[39;49m_apply(convert)\n",
      "File \u001b[0;32m/brtx/601-nvme1/estengel/miniconda3/envs/cert/lib/python3.8/site-packages/torch/nn/modules/module.py:570\u001b[0m, in \u001b[0;36mModule._apply\u001b[0;34m(self, fn)\u001b[0m\n\u001b[1;32m    568\u001b[0m \u001b[39mdef\u001b[39;00m \u001b[39m_apply\u001b[39m(\u001b[39mself\u001b[39m, fn):\n\u001b[1;32m    569\u001b[0m     \u001b[39mfor\u001b[39;00m module \u001b[39min\u001b[39;00m \u001b[39mself\u001b[39m\u001b[39m.\u001b[39mchildren():\n\u001b[0;32m--> 570\u001b[0m         module\u001b[39m.\u001b[39;49m_apply(fn)\n\u001b[1;32m    572\u001b[0m     \u001b[39mdef\u001b[39;00m \u001b[39mcompute_should_use_set_data\u001b[39m(tensor, tensor_applied):\n\u001b[1;32m    573\u001b[0m         \u001b[39mif\u001b[39;00m torch\u001b[39m.\u001b[39m_has_compatible_shallow_copy_type(tensor, tensor_applied):\n\u001b[1;32m    574\u001b[0m             \u001b[39m# If the new tensor has compatible tensor type as the existing tensor,\u001b[39;00m\n\u001b[1;32m    575\u001b[0m             \u001b[39m# the current behavior is to change the tensor in-place using `.data =`,\u001b[39;00m\n\u001b[0;32m   (...)\u001b[0m\n\u001b[1;32m    580\u001b[0m             \u001b[39m# global flag to let the user control whether they want the future\u001b[39;00m\n\u001b[1;32m    581\u001b[0m             \u001b[39m# behavior of overwriting the existing tensor or not.\u001b[39;00m\n",
      "File \u001b[0;32m/brtx/601-nvme1/estengel/miniconda3/envs/cert/lib/python3.8/site-packages/torch/nn/modules/module.py:570\u001b[0m, in \u001b[0;36mModule._apply\u001b[0;34m(self, fn)\u001b[0m\n\u001b[1;32m    568\u001b[0m \u001b[39mdef\u001b[39;00m \u001b[39m_apply\u001b[39m(\u001b[39mself\u001b[39m, fn):\n\u001b[1;32m    569\u001b[0m     \u001b[39mfor\u001b[39;00m module \u001b[39min\u001b[39;00m \u001b[39mself\u001b[39m\u001b[39m.\u001b[39mchildren():\n\u001b[0;32m--> 570\u001b[0m         module\u001b[39m.\u001b[39;49m_apply(fn)\n\u001b[1;32m    572\u001b[0m     \u001b[39mdef\u001b[39;00m \u001b[39mcompute_should_use_set_data\u001b[39m(tensor, tensor_applied):\n\u001b[1;32m    573\u001b[0m         \u001b[39mif\u001b[39;00m torch\u001b[39m.\u001b[39m_has_compatible_shallow_copy_type(tensor, tensor_applied):\n\u001b[1;32m    574\u001b[0m             \u001b[39m# If the new tensor has compatible tensor type as the existing tensor,\u001b[39;00m\n\u001b[1;32m    575\u001b[0m             \u001b[39m# the current behavior is to change the tensor in-place using `.data =`,\u001b[39;00m\n\u001b[0;32m   (...)\u001b[0m\n\u001b[1;32m    580\u001b[0m             \u001b[39m# global flag to let the user control whether they want the future\u001b[39;00m\n\u001b[1;32m    581\u001b[0m             \u001b[39m# behavior of overwriting the existing tensor or not.\u001b[39;00m\n",
      "File \u001b[0;32m/brtx/601-nvme1/estengel/miniconda3/envs/cert/lib/python3.8/site-packages/torch/nn/modules/module.py:593\u001b[0m, in \u001b[0;36mModule._apply\u001b[0;34m(self, fn)\u001b[0m\n\u001b[1;32m    589\u001b[0m \u001b[39m# Tensors stored in modules are graph leaves, and we don't want to\u001b[39;00m\n\u001b[1;32m    590\u001b[0m \u001b[39m# track autograd history of `param_applied`, so we have to use\u001b[39;00m\n\u001b[1;32m    591\u001b[0m \u001b[39m# `with torch.no_grad():`\u001b[39;00m\n\u001b[1;32m    592\u001b[0m \u001b[39mwith\u001b[39;00m torch\u001b[39m.\u001b[39mno_grad():\n\u001b[0;32m--> 593\u001b[0m     param_applied \u001b[39m=\u001b[39m fn(param)\n\u001b[1;32m    594\u001b[0m should_use_set_data \u001b[39m=\u001b[39m compute_should_use_set_data(param, param_applied)\n\u001b[1;32m    595\u001b[0m \u001b[39mif\u001b[39;00m should_use_set_data:\n",
      "File \u001b[0;32m/brtx/601-nvme1/estengel/miniconda3/envs/cert/lib/python3.8/site-packages/torch/nn/modules/module.py:897\u001b[0m, in \u001b[0;36mModule.to.<locals>.convert\u001b[0;34m(t)\u001b[0m\n\u001b[1;32m    894\u001b[0m \u001b[39mif\u001b[39;00m convert_to_format \u001b[39mis\u001b[39;00m \u001b[39mnot\u001b[39;00m \u001b[39mNone\u001b[39;00m \u001b[39mand\u001b[39;00m t\u001b[39m.\u001b[39mdim() \u001b[39min\u001b[39;00m (\u001b[39m4\u001b[39m, \u001b[39m5\u001b[39m):\n\u001b[1;32m    895\u001b[0m     \u001b[39mreturn\u001b[39;00m t\u001b[39m.\u001b[39mto(device, dtype \u001b[39mif\u001b[39;00m t\u001b[39m.\u001b[39mis_floating_point() \u001b[39mor\u001b[39;00m t\u001b[39m.\u001b[39mis_complex() \u001b[39melse\u001b[39;00m \u001b[39mNone\u001b[39;00m,\n\u001b[1;32m    896\u001b[0m                 non_blocking, memory_format\u001b[39m=\u001b[39mconvert_to_format)\n\u001b[0;32m--> 897\u001b[0m \u001b[39mreturn\u001b[39;00m t\u001b[39m.\u001b[39;49mto(device, dtype \u001b[39mif\u001b[39;49;00m t\u001b[39m.\u001b[39;49mis_floating_point() \u001b[39mor\u001b[39;49;00m t\u001b[39m.\u001b[39;49mis_complex() \u001b[39melse\u001b[39;49;00m \u001b[39mNone\u001b[39;49;00m, non_blocking)\n",
      "File \u001b[0;32m/brtx/601-nvme1/estengel/miniconda3/envs/cert/lib/python3.8/site-packages/torch/cuda/__init__.py:214\u001b[0m, in \u001b[0;36m_lazy_init\u001b[0;34m()\u001b[0m\n\u001b[1;32m    210\u001b[0m     \u001b[39mraise\u001b[39;00m \u001b[39mAssertionError\u001b[39;00m(\n\u001b[1;32m    211\u001b[0m         \u001b[39m\"\u001b[39m\u001b[39mlibcudart functions unavailable. It looks like you have a broken build?\u001b[39m\u001b[39m\"\u001b[39m)\n\u001b[1;32m    212\u001b[0m \u001b[39m# This function throws if there's a driver initialization error, no GPUs\u001b[39;00m\n\u001b[1;32m    213\u001b[0m \u001b[39m# are found or any other error occurs\u001b[39;00m\n\u001b[0;32m--> 214\u001b[0m torch\u001b[39m.\u001b[39;49m_C\u001b[39m.\u001b[39;49m_cuda_init()\n\u001b[1;32m    215\u001b[0m \u001b[39m# Some of the queued calls may reentrantly call _lazy_init();\u001b[39;00m\n\u001b[1;32m    216\u001b[0m \u001b[39m# we need to just return without initializing in that case.\u001b[39;00m\n\u001b[1;32m    217\u001b[0m \u001b[39m# However, we must not let any *other* threads in!\u001b[39;00m\n\u001b[1;32m    218\u001b[0m _tls\u001b[39m.\u001b[39mis_initializing \u001b[39m=\u001b[39m \u001b[39mTrue\u001b[39;00m\n",
      "\u001b[0;31mKeyboardInterrupt\u001b[0m: "
     ]
    }
   ],
   "source": [
    "from transformers.utils import logging\n",
    "logging.set_verbosity(50)\n",
    "\n",
    "ann_clusters = get_annotator_clusters(questions, annotations)\n",
    "print(ann_clusters['480779000'])\n",
    "\n",
    "pred_path = \"/brtx/602-nvme1/estengel/annotator_uncertainty/models/img2q_t5_base_no_limit/output/dev_set_predictions_forced.jsonl\"\n",
    "pred_clusters = get_prediction_clusters(pred_path,\n",
    "                                        questions, \n",
    "                                        annotations,\n",
    "                                        # score_cls=score_cls,\n",
    "                                        score_cls = BertSimilarityScore(device=\"cuda:0\"),\n",
    "                                        criterion=\"distance\",\n",
    "                                        method=\"ward\",\n",
    "                                        t=1.13)\n",
    "\n",
    "\n",
    "pred_to_ann = get_scores(pred_clusters, ann_clusters)\n",
    "print(f\"P: {pred_to_ann[1]*100:.2f}, R: {pred_to_ann[2]*100:.2f}, F1: {pred_to_ann[0]*100:.2f}\")"
   ]
  },
  {
   "cell_type": "code",
   "execution_count": null,
   "metadata": {},
   "outputs": [],
   "source": [
    "# BEST: Method: centroid, Crit: distance, t: 1.06, P: 69.21, R: 96.66, F1: 77.83\n",
    "# Not really, it either predicts a single cluster for everything or puts everything in its own cluster, which sucks \n",
    "for score_cls in [BleuSimilarityScore(), BertSimilarityScore(device=\"cuda:0\")]:\n",
    "    for method in [ \"centroid\", \"ward\"]:\n",
    "        for crit in ['inconsistent', 'distance']: \n",
    "            if crit in [\"inconsistent\", \"distance\", \"monocrit\"]:\n",
    "                # t_choices = [0.001, 0.005, 0.01, 0.015, 0.02, 0.025, 0.03, 0.035, 0.04]\n",
    "                t_choices = [1.1, 1.11, 1.12, 1.13, 1.14, 1.15, 1.16, 1.17, 1.18, 1.19, 1.2] # , 0.025, 0.03, 0.035, 0.04]\n",
    "                # t_choices = [0.0, 0.05, 0.07, 0.1, 0.5, 0.75, 1.0, 1.25, 1.5, 1.75, 2.0]\n",
    "                # t_choices = [1.06]\n",
    "                # t_choices = [0.90, 0.91, 0.92, 0.93, 0.94, 0.95, 0.96, 0.97, 0.98, 0.99, 1.00]\n",
    "                #, 1.01, 1.02, 1.03,  1.04,  1.05,  1.06, 1.07, 0.08, 1.09, 1.10] \n",
    "                # t_choices = [1.16, 1.17, 1.18]\n",
    "                # t_choices = [1.00,   1.05,   1.10] \n",
    "            else:\n",
    "                # t_choices = [0.0, 1.0, 2.0, 3.0]\n",
    "                t_choices = [0.0, 0.1, 0.2]\n",
    "            for t in t_choices:\n",
    "                pred_clusters = get_prediction_clusters(pred_path,\n",
    "                                                questions, \n",
    "                                                annotations,\n",
    "                                                score_cls=score_cls,\n",
    "                                                criterion=crit,\n",
    "                                                method = method,\n",
    "                                                t=t)\n",
    "\n",
    "                pred_to_ann = get_scores(pred_clusters, ann_clusters)\n",
    "                print(f\"Score cls: {score_cls}, Method: {method}, Crit: {crit}, t: {t}, P: {pred_to_ann[1]*100:.2f}, R: {pred_to_ann[2]*100:.2f}, F1: {pred_to_ann[0]*100:.2f}\")    \n"
   ]
  },
  {
   "cell_type": "code",
   "execution_count": 11,
   "metadata": {},
   "outputs": [
    {
     "name": "stdout",
     "output_type": "stream",
     "text": [
      "2.6\n"
     ]
    }
   ],
   "source": [
    "avg_num_clusters = np.mean([len(x) for x in ann_clusters.values()])\n",
    "print(avg_num_clusters)"
   ]
  },
  {
   "cell_type": "code",
   "execution_count": null,
   "metadata": {},
   "outputs": [],
   "source": []
  }
 ],
 "metadata": {
  "interpreter": {
   "hash": "a71203a0affc7207a6dfd2214cf786ae35ec96fb0be57392a936686760a696bf"
  },
  "kernelspec": {
   "display_name": "Python 3.8.12 ('cert')",
   "language": "python",
   "name": "python3"
  },
  "language_info": {
   "codemirror_mode": {
    "name": "ipython",
    "version": 3
   },
   "file_extension": ".py",
   "mimetype": "text/x-python",
   "name": "python",
   "nbconvert_exporter": "python",
   "pygments_lexer": "ipython3",
   "version": "3.8.12"
  },
  "orig_nbformat": 4
 },
 "nbformat": 4,
 "nbformat_minor": 2
}
