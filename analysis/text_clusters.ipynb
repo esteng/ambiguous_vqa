{
 "cells": [
  {
   "cell_type": "code",
   "execution_count": 1,
   "metadata": {},
   "outputs": [],
   "source": [
    "import numpy as np \n",
    "import torch \n",
    "from collections import defaultdict\n",
    "import json \n",
    "import pathlib \n",
    "import sys\n",
    "\n"
   ]
  },
  {
   "cell_type": "code",
   "execution_count": 2,
   "metadata": {},
   "outputs": [],
   "source": [
    "annotations = json.load(open(\"/brtx/603-nvme2/estengel/annotator_uncertainty/vqa/dev_from_mturk/annotations.json\"))['annotations']\n",
    "questions = json.load(open(\"/brtx/603-nvme2/estengel/annotator_uncertainty/vqa/dev_from_mturk/questions.json\"))['questions']"
   ]
  },
  {
   "cell_type": "code",
   "execution_count": 3,
   "metadata": {},
   "outputs": [],
   "source": [
    "# get the clusters from annotations \n",
    "def get_annotator_clusters(questions, annotations): \n",
    "    anns_by_qid = defaultdict(list)\n",
    "    for quest, ann in zip(questions, annotations):\n",
    "\n",
    "        qid, i = quest['question_id'].split(\"_\")\n",
    "        anns_by_qid[qid].append((quest, ann))\n",
    "\n",
    "    clusters_by_qid = {}\n",
    "    for qid, list_of_qas in anns_by_qid.items():\n",
    "        clusters = defaultdict(list)\n",
    "        for quest, ann in list_of_qas:\n",
    "            rewritten = quest['new_question']\n",
    "            answer = ann['answers'][0]['answer']\n",
    "            answer_id = ann['answers'][0]['mturk_id']\n",
    "            cluster_dict = {\"answer\": answer, \"id\": answer_id} \n",
    "            clusters[rewritten].append(cluster_dict)\n",
    "        clusters_by_qid[qid] = clusters\n",
    "    return clusters_by_qid\n",
    "\n",
    "\n",
    "\n",
    "# get the clusters from kmeans preprocessing\n",
    "def get_preprocessed_clusters(questions, annotations): \n",
    "    anns_by_qid = defaultdict(list)\n",
    "    for quest, ann in zip(questions, annotations):\n",
    "\n",
    "        qid, i = quest['question_id'].split(\"_\")\n",
    "        anns_by_qid[qid].append((quest, ann))\n",
    "\n",
    "    clusters_by_qid = {}\n",
    "    for qid, list_of_qas in anns_by_qid.items():\n",
    "        clusters = defaultdict(list)\n",
    "        for quest, ann in list_of_qas:\n",
    "            answer = ann['answers'][0]['answer']\n",
    "            answer_id = ann['answers'][0]['mturk_id']\n",
    "            id_key, answer_id_suffix = answer_id.split(\".\")\n",
    "            cluster_dict = {\"answer\": answer, \"id\": answer_id} \n",
    "            clusters[id_key].append(cluster_dict)\n",
    "        clusters_by_qid[qid] = clusters\n",
    "    return clusters_by_qid\n"
   ]
  },
  {
   "cell_type": "code",
   "execution_count": null,
   "metadata": {},
   "outputs": [],
   "source": [
    "# get the clusters from predictions \n",
    "def get_prediction_clusters(predictions_jsonl, score_method='bert'):\n",
    "    anns_by_qid = defaultdict(list)\n",
    "    for quest, ann in zip(questions, annotations):\n",
    "        qid, i = quest['question_id'].split(\"_\")\n",
    "        anns_by_qid[qid].append((quest, ann))\n",
    "\n",
    "    vectors_by_qid = defaultdict(list)\n",
    "    answers_by_qid = defaultdict(list)\n",
    "\n",
    "    # print(anns_by_qid)\n",
    "    for qid, list_of_qas in anns_by_qid.items():\n",
    "        image_id = list_of_qas[0][0]['image_id']\n",
    "        for quest, ann in list_of_qas:\n",
    "            qid, i = quest['question_id'].split(\"_\")\n",
    "            answer = ann['answers'][0]['answer']\n",
    "            answer_id = ann['answers'][0]['mturk_id']\n",
    "            strings_by_qid[qid].append((, int(i)))\n",
    "            answers_by_qid[qid].append({\"answer\": answer, \"id\": answer_id})\n",
    "\n",
    "    clusters_by_qid = {}\n",
    "    for qid, strings in strings_by_qid.items():\n",
    "        clusters = cluster_strings(strings, score_method=score_method)\n",
    "\n",
    "        clusters = {k: [answers_by_qid[qid][idx] for idx in v ] for k, v in clusters.items()}\n",
    "        clusters_by_qid[qid] = clusters\n",
    "\n",
    "    return clusters_by_qid"
   ]
  }
 ],
 "metadata": {
  "interpreter": {
   "hash": "a71203a0affc7207a6dfd2214cf786ae35ec96fb0be57392a936686760a696bf"
  },
  "kernelspec": {
   "display_name": "Python 3.8.12 ('cert')",
   "language": "python",
   "name": "python3"
  },
  "language_info": {
   "codemirror_mode": {
    "name": "ipython",
    "version": 3
   },
   "file_extension": ".py",
   "mimetype": "text/x-python",
   "name": "python",
   "nbconvert_exporter": "python",
   "pygments_lexer": "ipython3",
   "version": "3.8.12"
  },
  "orig_nbformat": 4
 },
 "nbformat": 4,
 "nbformat_minor": 2
}
