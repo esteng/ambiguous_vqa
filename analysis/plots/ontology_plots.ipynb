{
 "cells": [
  {
   "cell_type": "code",
   "execution_count": 10,
   "metadata": {},
   "outputs": [
    {
     "name": "stderr",
     "output_type": "stream",
     "text": [
      "<ipython-input-10-d91ca9447c0c>:6: DeprecationWarning: Importing display from IPython.core.display is deprecated since IPython 7.14, please import from IPython display\n",
      "  from IPython.core.display import Image, display\n"
     ]
    }
   ],
   "source": [
    "\n",
    "from collections import defaultdict\n",
    "import csv \n",
    "from csv import reader\n",
    "from scipy.optimize import linear_sum_assignment\n",
    "#from PIL import Image as im\n",
    "from IPython.core.display import Image, display\n",
    "import requests\n",
    "from io import BytesIO\n",
    "import json \n",
    "\n",
    "'''\n",
    "Ambiguity\n",
    "    Multiple Options > A/M\n",
    "    Definition, Location > A/L\n",
    "    Definition, Destination/Intention > A/D\n",
    "    Definition, Kind/Type > A/K\n",
    "    Definition, Time > A/T\n",
    "    Gouping > A/G\n",
    "\n",
    "Uncertainty > U\n",
    "\n",
    "Mistakes/Bad Data\n",
    "    Annotator mistakes > M/A\n",
    "    Bad question/bad images > M/B\n",
    "\n",
    "Misc/need reclassifying > ~\n",
    "\n",
    "Question with multiple classification will have '.' between the classificiations\n",
    "ex: A/M.A/L.M/B)\n",
    "'''\n",
    "\n",
    "input_csv = \"../../jimena_work/cleaned_data/csv/consolidate_data_repeat_all_data.csv\"\n",
    "data = []\n",
    "with open(input_csv) as read_obj:\n",
    "    csv_reader = csv.DictReader(read_obj)\n",
    "    for row in csv_reader:\n",
    "        data.append(row)\n",
    "\n"
   ]
  },
  {
   "cell_type": "code",
   "execution_count": 11,
   "metadata": {},
   "outputs": [],
   "source": [
    "'''\n",
    "Display by number of classifications\n",
    "'''\n",
    "search_num = 3\n",
    "\n",
    "for row in data:\n",
    "\n",
    "    temp = row['Answer.skip_reason'].strip('\"')\n",
    "    labels = temp.split('.')\n",
    "    \n",
    "    if len(labels) >= search_num:\n",
    "        groups = []\n",
    "\n",
    "        new_questions = json.loads(row['Answer.answer_questions'])\n",
    "        for i, g in enumerate(json.loads(row['Answer.answer_groups'])):\n",
    "            group = []\n",
    "            new_question = new_questions[i]\n",
    "            for x in g:\n",
    "                group.append(x['content'])\n",
    "            groups.append({new_question: group})\n",
    "        print(row['Input.questionStr'])\n",
    "        print(row['Input.imgUrl'])\n",
    "        print(groups)\n",
    "        print(labels)\n",
    "\n",
    "        image_url = row['Input.imgUrl'].strip('\"')\n",
    "        display(Image(url=image_url))"
   ]
  },
  {
   "cell_type": "code",
   "execution_count": 48,
   "metadata": {},
   "outputs": [
    {
     "name": "stdout",
     "output_type": "stream",
     "text": [
      "excepted: ['skip', 'skip', 'skip', 'skip', 'skip', 'skip', 'skip', '', 'skip', 'skip', 'skip', 'skip', 'skip', 'skip', 'skip', 'skip', 'skip', 'skip', 'skip', 'skip', 'skip', 'skip', 'skip']\n"
     ]
    },
    {
     "name": "stderr",
     "output_type": "stream",
     "text": [
      "/brtx/601-nvme1/estengel/miniconda3/envs/cert/lib/python3.8/site-packages/seaborn/_decorators.py:36: FutureWarning: Pass the following variable as a keyword arg: x. From version 0.12, the only valid positional argument will be `data`, and passing other arguments without an explicit keyword will result in an error or misinterpretation.\n",
      "  warnings.warn(\n"
     ]
    },
    {
     "data": {
      "image/png": "[encoded data removed]",
      "text/plain": [
       "<Figure size 360x144 with 1 Axes>"
      ]
     },
     "metadata": {
      "needs_background": "light"
     },
     "output_type": "display_data"
    }
   ],
   "source": [
    "import seaborn as sns \n",
    "from matplotlib import pyplot as plt \n",
    "import numpy as np \n",
    "from collections import Counter\n",
    "import pandas as pd \n",
    "\n",
    "# define a nice color palette \n",
    "palette = [\"#212E52\", \"#444E7E\", \"#8087AA\", \"#B7ABBC\", \"#F9ECE8\", \"#FCC893\", \"#FEB424\", \"#FD8700\", \"#D8511D\"]\n",
    "\n",
    "# Histogram\n",
    "num_mistakes_other = 0\n",
    "num_to_keep = 0\n",
    "total = 0\n",
    "\n",
    "# same data as from csv \n",
    "histogram_data = data\n",
    "\n",
    "# list of acceptable labels \n",
    "acceptable = ['A/L', 'A/K', 'A/M', 'A/D', 'A/G', 'A/C', 'A/P', 'A/N', 'A/T', 'M/A', 'M/B', 'misc', 'U']\n",
    "# list of labels to keep \n",
    "to_keep = ['A/M', 'A/G', 'A/D', 'A/K', 'A/T', 'A/C', 'A/P', 'A/N', 'A/L']\n",
    "\n",
    "all_labels = []\n",
    "excepted = []\n",
    "# go through rows, find acceptable labels, add to a list for counter and for histogram \n",
    "for row in data:\n",
    "     temp = row['ambiguity_type'].strip('\"').strip(\"\\\\\").strip('\"').strip(' ')\n",
    "     labels = temp.split('.')\n",
    "     for lab in labels:\n",
    "          lab = lab.strip()\n",
    "          if lab in acceptable:\n",
    "               all_labels.append(lab)\n",
    "          else: \n",
    "               # inspect these \n",
    "               excepted.append(lab) \n",
    "     for lab in labels:\n",
    "          lab = lab.strip()\n",
    "          if lab in to_keep: \n",
    "               num_to_keep += 1 \n",
    "               break\n",
    "          else:\n",
    "               num_mistakes_other  += 1\n",
    "               break\n",
    "\n",
    "# make a plot object \n",
    "fig, ax = plt.subplots(1,1, figsize=(5,2))\n",
    "\n",
    "# count up all the occurences of each label for getting an order \n",
    "acceptable_count = Counter(all_labels)\n",
    "# define a sorted order \n",
    "order = sorted(acceptable_count.items(), key=lambda x: x[1], reverse=True)\n",
    "order = [x[0] for x in order]\n",
    "\n",
    "# plot the histogram \n",
    "g = sns.countplot(all_labels, order = order, color = palette[1], ax = ax)\n",
    "sns.despine()\n",
    "ax.set_ylabel(\"\")\n",
    "\n",
    "# save to file \n",
    "plt.savefig(\"/home/estengel/papers/vqa-ambiguity-2022/figures/ontology_histogram.pdf\")\n",
    "\n",
    "# make sure nothing is in there that shouldn't be \n",
    "print(f\"excepted: {excepted}\")"
   ]
  },
  {
   "cell_type": "code",
   "execution_count": 52,
   "metadata": {},
   "outputs": [
    {
     "data": {
      "image/png": "[encoded data removed]",
      "text/plain": [
       "<Figure size 216x144 with 2 Axes>"
      ]
     },
     "metadata": {
      "needs_background": "light"
     },
     "output_type": "display_data"
    }
   ],
   "source": [
    "import seaborn as sns \n",
    "from matplotlib import pyplot as plt \n",
    "import numpy as np \n",
    "from collections import Counter\n",
    "import pandas as pd \n",
    "\n",
    "# define a nice color palette \n",
    "palette = [\"#212E52\", \"#444E7E\", \"#8087AA\", \"#B7ABBC\", \"#F9ECE8\", \"#FCC893\", \"#FEB424\", \"#FD8700\", \"#D8511D\"]\n",
    "\n",
    "# Histogram\n",
    "num_mistakes_other = 0\n",
    "num_to_keep = 0\n",
    "total = 0\n",
    "\n",
    "# same data as from csv \n",
    "histogram_data = data\n",
    "\n",
    "# list of acceptable labels \n",
    "acceptable = ['A/L', 'A/K', 'A/M', 'A/D', 'A/G', 'A/C', 'A/P', 'A/N', 'A/T', 'M/A', 'M/B', 'misc', 'U']\n",
    "\n",
    "# count up the coocurrence counts \n",
    "cooc_counter = defaultdict(lambda: defaultdict(int)) \n",
    "for row in data:\n",
    "     temp = row['ambiguity_type'].strip('\"').strip(\"\\\\\").strip('\"').strip(' ')\n",
    "     labels = temp.split('.')\n",
    "     for lab1 in labels:\n",
    "        for lab2 in labels:\n",
    "            if lab1 == lab2:\n",
    "                continue\n",
    "            cooc_counter[lab1][lab2] += 1\n",
    "      \n",
    "# turn into a matrix for plotting \n",
    "# use the order from previous cell to get order \n",
    "cooc_matrix = np.zeros((len(acceptable), len(acceptable)))\n",
    "for i, lab1 in enumerate(order):\n",
    "    for j, lab2 in enumerate(order):\n",
    "        cooc_matrix[i][j] = cooc_counter[lab1][lab2]\n",
    "\n",
    "# make a new plot\n",
    "fig, ax = plt.subplots(1,1, figsize=(3,2))\n",
    "\n",
    "g = sns.heatmap(cooc_matrix, cmap = palette, ax = ax, cbar = True, xticklabels = order, yticklabels = order)\n",
    "sns.despine()\n",
    "\n",
    "plt.savefig(\"/home/estengel/papers/vqa-ambiguity-2022/figures/ontology_heatmap.pdf\")\n"
   ]
  },
  {
   "cell_type": "code",
   "execution_count": 62,
   "metadata": {},
   "outputs": [
    {
     "name": "stdout",
     "output_type": "stream",
     "text": [
      "['A/C-A/P', 'A/G-A/M', 'A/D-A/G', 'A/G-A/P', 'M/B-U', 'M/A-U', 'A/K-U', ' A/M-U', 'M/A-M/B', 'A/K-A/P', 'A/D-A/P', 'A/C-A/D', 'A/K-A/M', 'A/G-A/K']\n",
      "['M/B-U', 'M/B-U', 'M/A-U', 'M/A-U', 'A/K-U', 'A/K-U', ' A/M-U', ' A/M-U', 'M/B-U', 'M/B-U', 'M/A-M/B', 'M/A-M/B', 'M/A-U', 'M/A-U', 'M/A-M/B', 'M/A-M/B', 'A/C-A/P', 'A/C-A/P', 'A/C-A/P', 'A/C-A/P', 'A/C-A/P', 'A/C-A/P', 'A/C-A/P', 'A/C-A/P', 'A/C-A/P', 'A/C-A/P', 'A/C-A/P', 'A/K-A/P', 'A/K-A/P', 'A/D-A/P', 'A/D-A/P', 'A/G-A/P', 'A/G-A/P', 'A/G-A/P', 'A/C-A/P', 'A/C-A/P', 'A/C-A/P', 'A/C-A/P', 'A/C-A/P', 'A/C-A/P', 'A/C-A/P', 'A/C-A/P', 'A/C-A/P', 'A/C-A/P', 'A/C-A/P', 'A/C-A/D', 'A/C-A/D', 'A/K-U', 'A/K-U', 'A/K-A/P', 'A/K-A/P', 'A/K-A/M', 'A/K-A/M', 'A/G-A/K', 'A/G-A/K', 'A/D-A/G', 'A/D-A/G', 'A/D-A/G', 'A/D-A/G', 'A/D-A/G', 'A/G-A/M', 'A/G-A/M', 'A/G-A/M', 'A/G-A/M', 'A/G-A/M', 'A/G-A/M', 'A/G-A/M', 'A/G-A/M', 'A/G-A/M', 'A/G-A/K', 'A/G-A/K', 'A/G-A/P', 'A/G-A/P', 'A/G-A/P', 'A/D-A/G', 'A/D-A/G', 'A/D-A/G', 'A/D-A/G', 'A/D-A/G', 'A/C-A/D', 'A/C-A/D', 'A/D-A/P', 'A/D-A/P', ' A/M-U', ' A/M-U', 'A/K-A/M', 'A/K-A/M', 'A/G-A/M', 'A/G-A/M', 'A/G-A/M', 'A/G-A/M', 'A/G-A/M', 'A/G-A/M', 'A/G-A/M', 'A/G-A/M', 'A/G-A/M']\n"
     ]
    },
    {
     "name": "stderr",
     "output_type": "stream",
     "text": [
      "/brtx/601-nvme1/estengel/miniconda3/envs/cert/lib/python3.8/site-packages/seaborn/_decorators.py:36: FutureWarning: Pass the following variable as a keyword arg: x. From version 0.12, the only valid positional argument will be `data`, and passing other arguments without an explicit keyword will result in an error or misinterpretation.\n",
      "  warnings.warn(\n"
     ]
    },
    {
     "data": {
      "image/png": "[encoded data removed]",
      "text/plain": [
       "<Figure size 360x144 with 1 Axes>"
      ]
     },
     "metadata": {
      "needs_background": "light"
     },
     "output_type": "display_data"
    }
   ],
   "source": [
    "# try plotting as a histogram since there are very few that are non-zero \n",
    "\n",
    "to_plot_counts = []\n",
    "for lab1, lab1_dist in cooc_counter.items():\n",
    "    for lab2, count in lab1_dist.items():\n",
    "        if count > 1: \n",
    "            to_plot_counts += ['-'.join(sorted([lab1, lab2])) for i in range(count)]\n",
    "\n",
    "\n",
    "# make a plot object \n",
    "fig, ax = plt.subplots(1,1, figsize=(5,2))\n",
    "\n",
    "# count up all the occurences of each label for getting an order \n",
    "counts = Counter(to_plot_counts)\n",
    "# define a sorted order \n",
    "order = sorted(counts.items(), key=lambda x: x[1], reverse=True)\n",
    "order = [x[0] for x in order]\n",
    "\n",
    "print(order)\n",
    "\n",
    "print(to_plot_counts)\n",
    "# plot the histogram \n",
    "g = sns.countplot(to_plot_counts, order = order, color = palette[2], ax = ax)\n",
    "ax.set_xticklabels(order, rotation = 90)\n",
    "sns.despine()\n",
    "ax.set_ylabel(\"\")\n",
    "plt.tight_layout()\n",
    "\n",
    "# save to file \n",
    "plt.savefig(\"/home/estengel/papers/vqa-ambiguity-2022/figures/ontology_cooc_histogram.pdf\")"
   ]
  },
  {
   "cell_type": "code",
   "execution_count": null,
   "metadata": {},
   "outputs": [],
   "source": []
  }
 ],
 "metadata": {
  "kernelspec": {
   "display_name": "Python 3.8.12 ('cert')",
   "language": "python",
   "name": "python3"
  },
  "language_info": {
   "codemirror_mode": {
    "name": "ipython",
    "version": 3
   },
   "file_extension": ".py",
   "mimetype": "text/x-python",
   "name": "python",
   "nbconvert_exporter": "python",
   "pygments_lexer": "ipython3",
   "version": "3.8.12"
  },
  "orig_nbformat": 4,
  "vscode": {
   "interpreter": {
    "hash": "a71203a0affc7207a6dfd2214cf786ae35ec96fb0be57392a936686760a696bf"
   }
  }
 },
 "nbformat": 4,
 "nbformat_minor": 2
}
