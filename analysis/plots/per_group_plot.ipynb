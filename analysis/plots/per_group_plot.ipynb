{
 "cells": [
  {
   "cell_type": "code",
   "execution_count": 1,
   "metadata": {},
   "outputs": [],
   "source": [
    "import csv \n",
    "import numpy as np\n",
    "import seaborn as sns \n",
    "import matplotlib.pyplot as plt\n",
    "import pandas as pd\n",
    "import json\n",
    "import re "
   ]
  },
  {
   "cell_type": "code",
   "execution_count": 12,
   "metadata": {},
   "outputs": [],
   "source": [
    "from collections import defaultdict\n",
    "# get lookup of question_ids to question type and vice versa \n",
    "question_id_to_type = {}\n",
    "question_type_to_id = defaultdict(list)\n",
    "short_question_id_to_type = {}\n",
    "question_type_to_short_id = defaultdict(list)\n",
    "\n",
    "with open(\"/home/estengel/annotator_uncertainty/hit3.0/results/cleaned_data/test/test_set.csv\", \"r\") as f:\n",
    "    reader = csv.DictReader(f)\n",
    "    for row in reader:\n",
    "        question_id = row['Input.question_id']\n",
    "        short_id  = question_id.split(\"_\")[0]\n",
    "        amb_type = '\"' + row['ambiguity_type']\n",
    "        # string normalize \n",
    "        amb_type = json.loads(amb_type)\n",
    "        amb_type_tup = amb_type.split(\".\")\n",
    "        amb_type_tup = [re.sub('\"', '', x).strip() for x in amb_type_tup]\n",
    "        amb_type_tup = [x for x in amb_type_tup if len(x) > 0]\n",
    "        # amb_type_tup = \".\".join(amb_type_tup)\n",
    "        question_id_to_type[question_id] = \".\".join(amb_type_tup)\n",
    "        short_question_id_to_type[short_id] = \".\".join(amb_type_tup)\n",
    "        for amb_type in amb_type_tup:\n",
    "            question_type_to_id[amb_type].append(question_id)\n",
    "            question_type_to_short_id[amb_type].append(short_id)\n"
   ]
  },
  {
   "cell_type": "code",
   "execution_count": 13,
   "metadata": {},
   "outputs": [],
   "source": [
    "# get ordinal results \n",
    "path = \"/home/estengel/annotator_uncertainty/eval_hit/results_ordinal/full.csv\"\n",
    "\n",
    "with open(path) as f1:\n",
    "    reader = csv.DictReader(f1)\n",
    "    data = [x for x in reader]\n"
   ]
  },
  {
   "cell_type": "code",
   "execution_count": 14,
   "metadata": {},
   "outputs": [],
   "source": [
    "# choice_mapping = {1: \"yes\", 2: \"maybe\", 3: \"no\"}\n",
    "def parse_hit_data(data, choice_mapping = {1: 1, 2: 0, 3: 0}): \n",
    "    hit_data = []\n",
    "    for row in data:\n",
    "        qid = row['Input.qid']\n",
    "        is_distractor = json.loads(row['Input.is_distractor'])\n",
    "        question_type = json.loads(row['Input.question_type'])\n",
    "        choice_idx = int(row['Answer.radio-input'])\n",
    "        choice = choice_mapping[choice_idx]\n",
    "        df_row = {\"qid\": json.loads(qid), \"is_distractor\": is_distractor, \"question_type\": question_type, \"choice\": choice}\n",
    "        hit_data.append(df_row)\n",
    "    df = pd.DataFrame(hit_data)\n",
    "    df['choice'] *= 100\n",
    "    return df "
   ]
  },
  {
   "cell_type": "code",
   "execution_count": 24,
   "metadata": {},
   "outputs": [
    {
     "name": "stdout",
     "output_type": "stream",
     "text": [
      "type U has 4 rows\n",
      "type M/B has 4 rows\n",
      "type M/A has 6 rows\n",
      "type A/P has 14 rows\n",
      "type A/C has 24 rows\n",
      "type skip has 12 rows\n",
      "type A/K has 42 rows\n",
      "type A/L has 70 rows\n",
      "type A/N has 4 rows\n",
      "type A/G has 12 rows\n",
      "type A/D has 4 rows\n",
      "type A/T has 10 rows\n",
      "type A/M has 30 rows\n"
     ]
    },
    {
     "name": "stderr",
     "output_type": "stream",
     "text": [
      "<ipython-input-24-b800c02a2d6b>:10: SettingWithCopyWarning: \n",
      "A value is trying to be set on a copy of a slice from a DataFrame.\n",
      "Try using .loc[row_indexer,col_indexer] = value instead\n",
      "\n",
      "See the caveats in the documentation: https://pandas.pydata.org/pandas-docs/stable/user_guide/indexing.html#returning-a-view-versus-a-copy\n",
      "  hit_df_pred['amb_type'] = hit_df_pred.apply(lambda row: lookup_question_type(row), axis=1)\n",
      "<ipython-input-24-b800c02a2d6b>:11: SettingWithCopyWarning: \n",
      "A value is trying to be set on a copy of a slice from a DataFrame.\n",
      "Try using .loc[row_indexer,col_indexer] = value instead\n",
      "\n",
      "See the caveats in the documentation: https://pandas.pydata.org/pandas-docs/stable/user_guide/indexing.html#returning-a-view-versus-a-copy\n",
      "  hit_df_ann['amb_type'] = hit_df_ann.apply(lambda row: lookup_question_type(row), axis=1)\n"
     ]
    }
   ],
   "source": [
    "hit_df = parse_hit_data(data)\n",
    "df_to_plot = parse_hit_data(data)\n",
    "\n",
    "def lookup_question_type(row):\n",
    "    qid = row[\"qid\"].split(\"_\")[0]\n",
    "    return question_id_to_type[qid]\n",
    "# add a question type column to the dataframe \n",
    "hit_df_pred = hit_df[hit_df['question_type'] == \"pred\"]\n",
    "hit_df_ann = hit_df[hit_df['question_type'] == \"ann\"]\n",
    "hit_df_pred['amb_type'] = hit_df_pred.apply(lambda row: lookup_question_type(row), axis=1)\n",
    "hit_df_ann['amb_type'] = hit_df_ann.apply(lambda row: lookup_question_type(row), axis=1)\n",
    "\n",
    "# diff_df = hit_df[hit_df['is_distractor'] == False] - hit_df[hit_df['is_distractor'] == True]\n",
    "# break df out into separate df for each question type\n",
    "# new df per question type \n",
    "new_dfs = {t:None for t in question_type_to_id.keys()}\n",
    "for i, question_type in enumerate(question_type_to_id.keys()):\n",
    "    hit_df_pred['amb_type'].head()\n",
    "    new_dfs[question_type] = hit_df_pred[hit_df_pred['amb_type'].str.contains(question_type)]\n",
    "    print(f\"type {question_type} has {len(new_dfs[question_type])} rows\")\n"
   ]
  },
  {
   "cell_type": "code",
   "execution_count": 31,
   "metadata": {},
   "outputs": [
    {
     "name": "stdout",
     "output_type": "stream",
     "text": [
      "  amb_type  precision    recall        f1\n",
      "0        U   0.866667  0.918155  0.849927\n",
      "1      M/B   0.916667  0.958333  0.927273\n",
      "2      M/A   0.804167  0.850000  0.752980\n",
      "3      A/P   0.810714  0.832209  0.776913\n",
      "4      A/C   0.773880  0.783520  0.720035\n"
     ]
    }
   ],
   "source": [
    "from text_cluster_search import get_scores\n",
    "\n",
    "# get clustering results \n",
    "with open(\"results_test/short/pred_clusters.json\") as pf, open(\"results_test/short/ann_clusters.json\") as af:\n",
    "    pred_clusters, ann_clusters = json.load(pf), json.load(af)\n",
    "\n",
    "# get scores by question type \n",
    "scores_by_type = []\n",
    "for question_type in question_type_to_id.keys():\n",
    "    ids_for_qt = [x for x in question_type_to_id[question_type] if x in pred_clusters.keys()]\n",
    "    not_ids_for_qt = [x for x in question_type_to_id[question_type] if x not in pred_clusters.keys()]\n",
    "    # print(not_ids_for_qt)\n",
    "    pred_clusters_for_qt = {x: pred_clusters[x] for x in ids_for_qt}\n",
    "    ann_clusters_for_qt = {x: ann_clusters[x] for x in ids_for_qt}\n",
    "    # print(question_type)\n",
    "    scores = get_scores(pred_clusters_for_qt, ann_clusters_for_qt)\n",
    "    scores_by_type.append({\"amb_type\": question_type, \"precision\": scores[1], \"recall\": scores[2], \"f1\": scores[0]})\n",
    "    # print(scores)\n",
    "\n",
    "scores_df = pd.DataFrame(scores_by_type)\n",
    "print(scores_df.head())\n"
   ]
  },
  {
   "cell_type": "code",
   "execution_count": 32,
   "metadata": {},
   "outputs": [
    {
     "data": {
      "image/png": "[encoded data removed]",
      "text/plain": [
       "<Figure size 360x360 with 2 Axes>"
      ]
     },
     "metadata": {
      "needs_background": "light"
     },
     "output_type": "display_data"
    }
   ],
   "source": [
    "import pathlib\n",
    "fig, ax = plt.subplots(2,1, figsize=(5,5))\n",
    "\n",
    "\n",
    "subset = ['A/L', \"A/K\", \"A/M\", \"A/C\", \"A/G\", \"A/P\", \"A/D\"]\n",
    "\n",
    "hit_df_pred = hit_df_pred[hit_df_pred['amb_type'].isin(subset)]\n",
    "hit_df_ann = hit_df_ann[hit_df_ann['amb_type'].isin(subset)]\n",
    "scores_df = scores_df[scores_df['amb_type'].isin(subset)]\n",
    "\n",
    "sns.barplot(data = hit_df_pred, x = \"amb_type\", y = \"choice\", hue = \"is_distractor\", ax = ax[0])\n",
    "sns.despine()\n",
    "\n",
    "ax[0].set_ylabel(\"% correct\")\n",
    "ax[0].set_xlabel(\"Ambiguity Type\")\n",
    "handles, labels = ax[0].get_legend_handles_labels()\n",
    "labels = [\"Actual\", \"Distractor\"]\n",
    "ax[0].legend(handles=handles, labels=labels, frameon=False, loc=9, ncol=2, handlelength=1.0, columnspacing=1.0)\n",
    "\n",
    "sns.barplot(data = scores_df, x = \"amb_type\", y = \"f1\", ax = ax[1])\n",
    "\n",
    "plt.tight_layout()\n",
    "# plt.savefig(\"/Users/Elias/papers/vqa-ambiguity-2022/figures/human_eval.pdf\")"
   ]
  },
  {
   "cell_type": "code",
   "execution_count": 33,
   "metadata": {},
   "outputs": [
    {
     "data": {
      "image/png": "[encoded data removed]",
      "text/plain": [
       "<Figure size 360x288 with 2 Axes>"
      ]
     },
     "metadata": {
      "needs_background": "light"
     },
     "output_type": "display_data"
    }
   ],
   "source": [
    "import pathlib\n",
    "fig, ax = plt.subplots(2,1, figsize=(5,4), sharex=False, sharey=True)\n",
    "\n",
    "sns.barplot(data = df_to_plot, x = \"question_type\", y = \"choice\", hue = \"is_distractor\", ax = ax[0], order = [\"orig\", \"ann\", \"pred\"])\n",
    "sns.despine()\n",
    "\n",
    "ax[0].set_title(\"% Acceptable by Question Type\")\n",
    "ax[0].set_xlabel(\"Question Type\")\n",
    "handles, labels = ax[0].get_legend_handles_labels()\n",
    "labels = [\"Actual\", \"Distractor\"]\n",
    "ax[0].legend(handles=handles, labels=labels, frameon=False, loc=9, ncol=2, handlelength=1.0, columnspacing=1.0)\n",
    "bar_lookup = {\"orig\": \"VQA2.0\", \"ann\": \"Human\", \"pred\": \"Model\"}\n",
    "ax[0].set_xticklabels([bar_lookup[x.get_text()] for x in ax[0].get_xticklabels()])\n",
    "ax[0].set_ylabel(\"\")\n",
    "\n",
    "\n",
    "subset = ['A/L', \"A/K\", \"A/M\", \"A/C\"]\n",
    "amb_lookup = {\"A/L\": \"location\", \"A/K\": \"kind\", \"A/M\": \"manner\", \"A/C\": \"cause\", \"A/G\": \"goal\", \"A/P\": \"purpose\", \"A/D\": \"direction\"}\n",
    "\n",
    "hit_df_pred = hit_df_pred[hit_df_pred['amb_type'].isin(subset)]\n",
    "scores_df = scores_df[scores_df['amb_type'].isin(subset)]\n",
    "\n",
    "sns.barplot(data = hit_df_pred, x = \"amb_type\", y = \"choice\", hue = \"is_distractor\", ax = ax[1], order = subset)\n",
    "sns.despine()\n",
    "\n",
    "ax[1].set_title(\"% Acceptable by Ambiguity Type (Model Questions)\")\n",
    "ax[1].set_xlabel(\"Ambiguity Type\")\n",
    "ax[1].set_xticklabels([amb_lookup[x.get_text()] for x in ax[1].get_xticklabels()])\n",
    "\n",
    "ax[1].get_legend().remove()\n",
    "ax[1].set_ylabel(\"\")\n",
    "\n",
    "plt.tight_layout()\n",
    "plt.savefig(\"/home/estengel//papers/vqa-ambiguity-2022/figures/human_eval.pdf\")"
   ]
  },
  {
   "cell_type": "code",
   "execution_count": 34,
   "metadata": {},
   "outputs": [
    {
     "data": {
      "image/png": "[encoded data removed]",
      "text/plain": [
       "<Figure size 360x360 with 2 Axes>"
      ]
     },
     "metadata": {
      "needs_background": "light"
     },
     "output_type": "display_data"
    }
   ],
   "source": [
    "import pathlib\n",
    "fig, ax = plt.subplots(2,1, figsize=(5,5), sharex=False, sharey=True)\n",
    "\n",
    "# df_to_plot['choice'] *= 100\n",
    "sns.barplot(data = df_to_plot, x = \"question_type\", y = \"choice\", hue = \"is_distractor\", ax = ax[0], order = [\"orig\", \"ann\", \"pred\"])\n",
    "sns.despine()\n",
    "\n",
    "ax[0].set_title(\"% Acceptable by Question Type\")\n",
    "ax[0].set_xlabel(\"Question Type\")\n",
    "handles, labels = ax[0].get_legend_handles_labels()\n",
    "labels = [\"Actual\", \"Distractor\"]\n",
    "ax[0].legend(handles=handles, labels=labels, frameon=False, loc=9, ncol=2, handlelength=1.0, columnspacing=1.0)\n",
    "bar_lookup = {\"orig\": \"VQA2.0\", \"ann\": \"Human\", \"pred\": \"Model\"}\n",
    "ax[0].set_xticklabels([bar_lookup[x.get_text()] for x in ax[0].get_xticklabels()])\n",
    "ax[0].set_ylabel(\"\")\n",
    "\n",
    "\n",
    "subset = ['A/L', \"A/K\", \"A/M\", \"A/C\"]\n",
    "amb_lookup = {\"A/L\": \"location\", \"A/K\": \"kind\", \"A/M\": \"manner\", \"A/C\": \"cause\", \"A/G\": \"goal\", \"A/P\": \"purpose\", \"A/D\": \"direction\"}\n",
    "\n",
    "hit_df_ann = hit_df_ann[hit_df_ann['amb_type'].isin(subset)]\n",
    "scores_df = scores_df[scores_df['amb_type'].isin(subset)]\n",
    "\n",
    "# hit_df_ann['choice'] *= 100\n",
    "sns.barplot(data = hit_df_ann, x = \"amb_type\", y = \"choice\", hue = \"is_distractor\", ax = ax[1], order = subset)\n",
    "sns.despine()\n",
    "\n",
    "ax[1].set_title(\"% Acceptable by Ambiguity Type (Annotator Questions)\")\n",
    "ax[1].set_xlabel(\"Ambiguity Type\")\n",
    "ax[1].set_xticklabels([amb_lookup[x.get_text()] for x in ax[1].get_xticklabels()])\n",
    "\n",
    "ax[1].get_legend().remove()\n",
    "ax[1].set_ylabel(\"\")\n",
    "\n",
    "plt.tight_layout()\n",
    "# plt.savefig(\"/home/estengel//papers/vqa-ambiguity-2022/figures/human_eval.pdf\")"
   ]
  },
  {
   "cell_type": "code",
   "execution_count": null,
   "metadata": {},
   "outputs": [],
   "source": [
    "from statsmodels.stats.contingency_tables import mcnemar\n",
    "def get_table(choice1, choice2):\n",
    "    # ----------- table -------------------\n",
    "    #               ann 1\n",
    "    #           |-------------|-----------|------------|\n",
    "    #           |             |  one      |  zero      |\n",
    "    #           |-------------|-----------|------------|\n",
    "    # ann 2     |  one        |           |            |\n",
    "    #           |zero         |           |            |\n",
    "    #           |-------------|-----------|------------|\n",
    "\n",
    "    one_one = np.sum(choice1 * choice2)\n",
    "    one_zero = np.sum(choice1 * (1-choice2))\n",
    "    zero_one = np.sum((1-choice1)* choice2)\n",
    "    zero_zero = np.sum((1-choice1) * (1-choice2))\n",
    "\n",
    "\n",
    "    table_arr = np.zeros((2,2))\n",
    "\n",
    "    table_arr[0,0] = one_one\n",
    "    table_arr[1,0] = one_zero\n",
    "    table_arr[0,1] = zero_one\n",
    "    table_arr[1,1] = zero_zero\n",
    "    return table_arr\n",
    "\n",
    "def do_mcnemar(choice1, choice2):\n",
    "    table_arr = get_table(choice1, choice2)\n",
    "    mac = mcnemar(table_arr, exact=True, correction=False)\n",
    "    return mac.pvalue, mac.statistic"
   ]
  },
  {
   "cell_type": "code",
   "execution_count": null,
   "metadata": {},
   "outputs": [],
   "source": [
    "from itertools import product\n",
    "import scipy \n",
    "from statsmodels.stats.proportion import proportions_ztest\n",
    "is_distractor_choices = [True, False]\n",
    "amb_type_choices = subset\n",
    "\n",
    "poss_combos = [x for x in product(is_distractor_choices, amb_type_choices)]\n",
    "\n",
    "done = []\n",
    "for id1, qt1 in poss_combos:\n",
    "    for id2, qt2 in poss_combos:\n",
    "        if id1 == id2 and qt1 == qt2: \n",
    "            continue\n",
    "        if id1 != id2 and qt1 != qt2: \n",
    "            # don't need to compare across conditions for different question types\n",
    "            continue\n",
    "        \n",
    "        tup = sorted([str(x) for x in [id1, qt1, id2, qt2]])\n",
    "        if tup in done:\n",
    "            continue\n",
    "        done.append(tup)\n",
    "\n",
    "        d1 = hit_df[hit_df['is_distractor'] == id1][hit_df['amb_type'] == qt1]\n",
    "        d2 = hit_df[hit_df['is_distractor'] == id2][hit_df['amb_type'] == qt2]\n",
    "        d1 = d1['choice'].values\n",
    "        d2 = d2['choice'].values\n",
    "        # TODO (elias): once the last assignment is submitted, this can be cut \n",
    "        min_len = min(len(d1), len(d2))\n",
    "        d1 = d1[:min_len]\n",
    "        d2 = d2[:min_len]\n",
    "        test = \"mcnemar\"\n",
    "        # mcnemar only appropriate when items are paired, in this case only for the same ambiguity type\n",
    "        if qt1 == qt2:\n",
    "            p_value, stat = do_mcnemar(d1, d2)\n",
    "        # otherwise, use 2-proportion z test\n",
    "        else:\n",
    "            test = \"2prop\"\n",
    "            count1 = np.sum(d1)\n",
    "            count2 = np.sum(d2)\n",
    "            n1 = len(d1)\n",
    "            n2 = len(d2)\n",
    "            stat, p_value = proportions_ztest([count1, count2], [n1, n2])\n",
    "            # stat, p_value = scipy.stats.fisher_exact(get_table(d1, d2))\n",
    "            # if np.isnan(stat):\n",
    "                # print(get_table(d1, d2))\n",
    "                # break\n",
    "            # print(f\"test: {test}, amb_type 1: {qt1}, is_distractor_1: {id1}, amb_type 2: {qt2}, is_distractor 2: {id2}, stat: {stat:.2f} p_value: {p_value:.3f}\")\n",
    "        if p_value < 0.05:\n",
    "            print(f\"test: {test}, amb_type 1: {qt1}, is_distractor_1: {id1}, amb_type 2: {qt2}, is_distractor 2: {id2}, stat: {stat:.2f} p_value: {p_value:.3f}\")\n",
    "\n"
   ]
  },
  {
   "cell_type": "code",
   "execution_count": null,
   "metadata": {},
   "outputs": [],
   "source": [
    "print(len())"
   ]
  }
 ],
 "metadata": {
  "kernelspec": {
   "display_name": "Python 3.8.12 ('cert')",
   "language": "python",
   "name": "python3"
  },
  "language_info": {
   "codemirror_mode": {
    "name": "ipython",
    "version": 3
   },
   "file_extension": ".py",
   "mimetype": "text/x-python",
   "name": "python",
   "nbconvert_exporter": "python",
   "pygments_lexer": "ipython3",
   "version": "3.8.12"
  },
  "orig_nbformat": 4,
  "vscode": {
   "interpreter": {
    "hash": "a71203a0affc7207a6dfd2214cf786ae35ec96fb0be57392a936686760a696bf"
   }
  }
 },
 "nbformat": 4,
 "nbformat_minor": 2
}
