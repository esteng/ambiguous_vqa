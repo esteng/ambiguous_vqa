{
 "cells": [
  {
   "cell_type": "code",
   "execution_count": 1,
   "metadata": {},
   "outputs": [],
   "source": [
    "import csv \n",
    "import pandas as pd \n",
    "import numpy as np \n"
   ]
  },
  {
   "cell_type": "code",
   "execution_count": 16,
   "metadata": {},
   "outputs": [
    {
     "name": "stderr",
     "output_type": "stream",
     "text": [
      "<ipython-input-16-e7a525341d21>:21: FutureWarning: In future versions `DataFrame.to_latex` is expected to utilise the base implementation of `Styler.to_latex` for formatting and rendering. The arguments signature may therefore change. It is recommended instead to use `DataFrame.style.to_latex` which also contains additional functionality.\n",
      "  table = df.to_latex(columns = columns,\n"
     ]
    },
    {
     "ename": "KeyError",
     "evalue": "\"['BERT'] not in index\"",
     "output_type": "error",
     "traceback": [
      "\u001b[0;31m---------------------------------------------------------------------------\u001b[0m",
      "\u001b[0;31mKeyError\u001b[0m                                  Traceback (most recent call last)",
      "\u001b[1;32m/home/estengel/annotator_uncertainty/analysis/plots/gen_plots.ipynb Cell 2\u001b[0m in \u001b[0;36m<module>\u001b[0;34m\u001b[0m\n\u001b[1;32m     <a href='vscode-notebook-cell://ssh-remote%2Bblab/home/estengel/annotator_uncertainty/analysis/plots/gen_plots.ipynb#ch0000001vscode-remote?line=18'>19</a>\u001b[0m \u001b[39m# print(df.head())\u001b[39;00m\n\u001b[1;32m     <a href='vscode-notebook-cell://ssh-remote%2Bblab/home/estengel/annotator_uncertainty/analysis/plots/gen_plots.ipynb#ch0000001vscode-remote?line=19'>20</a>\u001b[0m columns \u001b[39m=\u001b[39m [\u001b[39m\"\u001b[39m\u001b[39mModel\u001b[39m\u001b[39m\"\u001b[39m, \u001b[39m\"\u001b[39m\u001b[39mBLEU-4\u001b[39m\u001b[39m\"\u001b[39m, \u001b[39m\"\u001b[39m\u001b[39mBLEU-3\u001b[39m\u001b[39m\"\u001b[39m, \u001b[39m\"\u001b[39m\u001b[39mBLEU-2\u001b[39m\u001b[39m\"\u001b[39m, \u001b[39m\"\u001b[39m\u001b[39mBLEU-1\u001b[39m\u001b[39m\"\u001b[39m, \u001b[39m\"\u001b[39m\u001b[39mCIDEr\u001b[39m\u001b[39m\"\u001b[39m, \u001b[39m\"\u001b[39m\u001b[39mROUGE-L\u001b[39m\u001b[39m\"\u001b[39m, \u001b[39m\"\u001b[39m\u001b[39mMETEOR\u001b[39m\u001b[39m\"\u001b[39m, \u001b[39m\"\u001b[39m\u001b[39mBERT\u001b[39m\u001b[39m\"\u001b[39m]\n\u001b[0;32m---> <a href='vscode-notebook-cell://ssh-remote%2Bblab/home/estengel/annotator_uncertainty/analysis/plots/gen_plots.ipynb#ch0000001vscode-remote?line=20'>21</a>\u001b[0m table \u001b[39m=\u001b[39m df\u001b[39m.\u001b[39;49mto_latex(columns \u001b[39m=\u001b[39;49m columns,\n\u001b[1;32m     <a href='vscode-notebook-cell://ssh-remote%2Bblab/home/estengel/annotator_uncertainty/analysis/plots/gen_plots.ipynb#ch0000001vscode-remote?line=21'>22</a>\u001b[0m                     na_rep \u001b[39m=\u001b[39;49m \u001b[39m\"\u001b[39;49m\u001b[39mN/A\u001b[39;49m\u001b[39m\"\u001b[39;49m,\n\u001b[1;32m     <a href='vscode-notebook-cell://ssh-remote%2Bblab/home/estengel/annotator_uncertainty/analysis/plots/gen_plots.ipynb#ch0000001vscode-remote?line=22'>23</a>\u001b[0m                     column_format\u001b[39m=\u001b[39;49m\u001b[39m\"\u001b[39;49m\u001b[39mc\u001b[39;49m\u001b[39m\"\u001b[39;49m\u001b[39m*\u001b[39;49m\u001b[39mlen\u001b[39;49m(columns),\n\u001b[1;32m     <a href='vscode-notebook-cell://ssh-remote%2Bblab/home/estengel/annotator_uncertainty/analysis/plots/gen_plots.ipynb#ch0000001vscode-remote?line=23'>24</a>\u001b[0m                     index\u001b[39m=\u001b[39;49m\u001b[39mFalse\u001b[39;49;00m)\n\u001b[1;32m     <a href='vscode-notebook-cell://ssh-remote%2Bblab/home/estengel/annotator_uncertainty/analysis/plots/gen_plots.ipynb#ch0000001vscode-remote?line=25'>26</a>\u001b[0m \u001b[39mprint\u001b[39m(table)\n",
      "File \u001b[0;32m/brtx/601-nvme1/estengel/miniconda3/envs/cert/lib/python3.8/site-packages/pandas/core/generic.py:3348\u001b[0m, in \u001b[0;36mNDFrame.to_latex\u001b[0;34m(self, buf, columns, col_space, header, index, na_rep, formatters, float_format, sparsify, index_names, bold_rows, column_format, longtable, escape, encoding, decimal, multicolumn, multicolumn_format, multirow, caption, label, position)\u001b[0m\n\u001b[1;32m   3345\u001b[0m     multirow \u001b[39m=\u001b[39m config\u001b[39m.\u001b[39mget_option(\u001b[39m\"\u001b[39m\u001b[39mdisplay.latex.multirow\u001b[39m\u001b[39m\"\u001b[39m)\n\u001b[1;32m   3347\u001b[0m \u001b[39mself\u001b[39m \u001b[39m=\u001b[39m cast(\u001b[39m\"\u001b[39m\u001b[39mDataFrame\u001b[39m\u001b[39m\"\u001b[39m, \u001b[39mself\u001b[39m)\n\u001b[0;32m-> 3348\u001b[0m formatter \u001b[39m=\u001b[39m DataFrameFormatter(\n\u001b[1;32m   3349\u001b[0m     \u001b[39mself\u001b[39;49m,\n\u001b[1;32m   3350\u001b[0m     columns\u001b[39m=\u001b[39;49mcolumns,\n\u001b[1;32m   3351\u001b[0m     col_space\u001b[39m=\u001b[39;49mcol_space,\n\u001b[1;32m   3352\u001b[0m     na_rep\u001b[39m=\u001b[39;49mna_rep,\n\u001b[1;32m   3353\u001b[0m     header\u001b[39m=\u001b[39;49mheader,\n\u001b[1;32m   3354\u001b[0m     index\u001b[39m=\u001b[39;49mindex,\n\u001b[1;32m   3355\u001b[0m     formatters\u001b[39m=\u001b[39;49mformatters,\n\u001b[1;32m   3356\u001b[0m     float_format\u001b[39m=\u001b[39;49mfloat_format,\n\u001b[1;32m   3357\u001b[0m     bold_rows\u001b[39m=\u001b[39;49mbold_rows,\n\u001b[1;32m   3358\u001b[0m     sparsify\u001b[39m=\u001b[39;49msparsify,\n\u001b[1;32m   3359\u001b[0m     index_names\u001b[39m=\u001b[39;49mindex_names,\n\u001b[1;32m   3360\u001b[0m     escape\u001b[39m=\u001b[39;49mescape,\n\u001b[1;32m   3361\u001b[0m     decimal\u001b[39m=\u001b[39;49mdecimal,\n\u001b[1;32m   3362\u001b[0m )\n\u001b[1;32m   3363\u001b[0m \u001b[39mreturn\u001b[39;00m DataFrameRenderer(formatter)\u001b[39m.\u001b[39mto_latex(\n\u001b[1;32m   3364\u001b[0m     buf\u001b[39m=\u001b[39mbuf,\n\u001b[1;32m   3365\u001b[0m     column_format\u001b[39m=\u001b[39mcolumn_format,\n\u001b[0;32m   (...)\u001b[0m\n\u001b[1;32m   3373\u001b[0m     position\u001b[39m=\u001b[39mposition,\n\u001b[1;32m   3374\u001b[0m )\n",
      "File \u001b[0;32m/brtx/601-nvme1/estengel/miniconda3/envs/cert/lib/python3.8/site-packages/pandas/io/formats/format.py:582\u001b[0m, in \u001b[0;36mDataFrameFormatter.__init__\u001b[0;34m(self, frame, columns, col_space, header, index, na_rep, formatters, justify, float_format, sparsify, index_names, max_rows, min_rows, max_cols, show_dimensions, decimal, bold_rows, escape)\u001b[0m\n\u001b[1;32m    560\u001b[0m \u001b[39mdef\u001b[39;00m \u001b[39m__init__\u001b[39m(\n\u001b[1;32m    561\u001b[0m     \u001b[39mself\u001b[39m,\n\u001b[1;32m    562\u001b[0m     frame: DataFrame,\n\u001b[0;32m   (...)\u001b[0m\n\u001b[1;32m    579\u001b[0m     escape: \u001b[39mbool\u001b[39m \u001b[39m=\u001b[39m \u001b[39mTrue\u001b[39;00m,\n\u001b[1;32m    580\u001b[0m ):\n\u001b[1;32m    581\u001b[0m     \u001b[39mself\u001b[39m\u001b[39m.\u001b[39mframe \u001b[39m=\u001b[39m frame\n\u001b[0;32m--> 582\u001b[0m     \u001b[39mself\u001b[39m\u001b[39m.\u001b[39mcolumns \u001b[39m=\u001b[39m \u001b[39mself\u001b[39;49m\u001b[39m.\u001b[39;49m_initialize_columns(columns)\n\u001b[1;32m    583\u001b[0m     \u001b[39mself\u001b[39m\u001b[39m.\u001b[39mcol_space \u001b[39m=\u001b[39m \u001b[39mself\u001b[39m\u001b[39m.\u001b[39m_initialize_colspace(col_space)\n\u001b[1;32m    584\u001b[0m     \u001b[39mself\u001b[39m\u001b[39m.\u001b[39mheader \u001b[39m=\u001b[39m header\n",
      "File \u001b[0;32m/brtx/601-nvme1/estengel/miniconda3/envs/cert/lib/python3.8/site-packages/pandas/io/formats/format.py:688\u001b[0m, in \u001b[0;36mDataFrameFormatter._initialize_columns\u001b[0;34m(self, columns)\u001b[0m\n\u001b[1;32m    686\u001b[0m \u001b[39mif\u001b[39;00m columns \u001b[39mis\u001b[39;00m \u001b[39mnot\u001b[39;00m \u001b[39mNone\u001b[39;00m:\n\u001b[1;32m    687\u001b[0m     cols \u001b[39m=\u001b[39m ensure_index(columns)\n\u001b[0;32m--> 688\u001b[0m     \u001b[39mself\u001b[39m\u001b[39m.\u001b[39mframe \u001b[39m=\u001b[39m \u001b[39mself\u001b[39;49m\u001b[39m.\u001b[39;49mframe[cols]\n\u001b[1;32m    689\u001b[0m     \u001b[39mreturn\u001b[39;00m cols\n\u001b[1;32m    690\u001b[0m \u001b[39melse\u001b[39;00m:\n",
      "File \u001b[0;32m/brtx/601-nvme1/estengel/miniconda3/envs/cert/lib/python3.8/site-packages/pandas/core/frame.py:3511\u001b[0m, in \u001b[0;36mDataFrame.__getitem__\u001b[0;34m(self, key)\u001b[0m\n\u001b[1;32m   3509\u001b[0m     \u001b[39mif\u001b[39;00m is_iterator(key):\n\u001b[1;32m   3510\u001b[0m         key \u001b[39m=\u001b[39m \u001b[39mlist\u001b[39m(key)\n\u001b[0;32m-> 3511\u001b[0m     indexer \u001b[39m=\u001b[39m \u001b[39mself\u001b[39;49m\u001b[39m.\u001b[39;49mcolumns\u001b[39m.\u001b[39;49m_get_indexer_strict(key, \u001b[39m\"\u001b[39;49m\u001b[39mcolumns\u001b[39;49m\u001b[39m\"\u001b[39;49m)[\u001b[39m1\u001b[39m]\n\u001b[1;32m   3513\u001b[0m \u001b[39m# take() does not accept boolean indexers\u001b[39;00m\n\u001b[1;32m   3514\u001b[0m \u001b[39mif\u001b[39;00m \u001b[39mgetattr\u001b[39m(indexer, \u001b[39m\"\u001b[39m\u001b[39mdtype\u001b[39m\u001b[39m\"\u001b[39m, \u001b[39mNone\u001b[39;00m) \u001b[39m==\u001b[39m \u001b[39mbool\u001b[39m:\n",
      "File \u001b[0;32m/brtx/601-nvme1/estengel/miniconda3/envs/cert/lib/python3.8/site-packages/pandas/core/indexes/base.py:5782\u001b[0m, in \u001b[0;36mIndex._get_indexer_strict\u001b[0;34m(self, key, axis_name)\u001b[0m\n\u001b[1;32m   5779\u001b[0m \u001b[39melse\u001b[39;00m:\n\u001b[1;32m   5780\u001b[0m     keyarr, indexer, new_indexer \u001b[39m=\u001b[39m \u001b[39mself\u001b[39m\u001b[39m.\u001b[39m_reindex_non_unique(keyarr)\n\u001b[0;32m-> 5782\u001b[0m \u001b[39mself\u001b[39;49m\u001b[39m.\u001b[39;49m_raise_if_missing(keyarr, indexer, axis_name)\n\u001b[1;32m   5784\u001b[0m keyarr \u001b[39m=\u001b[39m \u001b[39mself\u001b[39m\u001b[39m.\u001b[39mtake(indexer)\n\u001b[1;32m   5785\u001b[0m \u001b[39mif\u001b[39;00m \u001b[39misinstance\u001b[39m(key, Index):\n\u001b[1;32m   5786\u001b[0m     \u001b[39m# GH 42790 - Preserve name from an Index\u001b[39;00m\n",
      "File \u001b[0;32m/brtx/601-nvme1/estengel/miniconda3/envs/cert/lib/python3.8/site-packages/pandas/core/indexes/base.py:5845\u001b[0m, in \u001b[0;36mIndex._raise_if_missing\u001b[0;34m(self, key, indexer, axis_name)\u001b[0m\n\u001b[1;32m   5842\u001b[0m     \u001b[39mraise\u001b[39;00m \u001b[39mKeyError\u001b[39;00m(\u001b[39mf\u001b[39m\u001b[39m\"\u001b[39m\u001b[39mNone of [\u001b[39m\u001b[39m{\u001b[39;00mkey\u001b[39m}\u001b[39;00m\u001b[39m] are in the [\u001b[39m\u001b[39m{\u001b[39;00maxis_name\u001b[39m}\u001b[39;00m\u001b[39m]\u001b[39m\u001b[39m\"\u001b[39m)\n\u001b[1;32m   5844\u001b[0m not_found \u001b[39m=\u001b[39m \u001b[39mlist\u001b[39m(ensure_index(key)[missing_mask\u001b[39m.\u001b[39mnonzero()[\u001b[39m0\u001b[39m]]\u001b[39m.\u001b[39munique())\n\u001b[0;32m-> 5845\u001b[0m \u001b[39mraise\u001b[39;00m \u001b[39mKeyError\u001b[39;00m(\u001b[39mf\u001b[39m\u001b[39m\"\u001b[39m\u001b[39m{\u001b[39;00mnot_found\u001b[39m}\u001b[39;00m\u001b[39m not in index\u001b[39m\u001b[39m\"\u001b[39m)\n",
      "\u001b[0;31mKeyError\u001b[0m: \"['BERT'] not in index\""
     ]
    }
   ],
   "source": [
    "\n",
    "\n",
    "def parse_model_name(model_name):\n",
    "    if model_name == \"iVQA (*train and test different)\":\n",
    "        return \"iVQA$^*$\"\n",
    "    if model_name == \"VILT+T5 -image, -constraint\":\n",
    "        return \"VT5-v\"\n",
    "    if model_name == \"VILT + T5 -answer, -constraint\":\n",
    "        return \"VT5-t\"\n",
    "    if model_name == \"VILT+T5, -constraint\":\n",
    "        return \"VT5\" \n",
    "    if model_name == \"VILT+T5 -image, +constraint\":\n",
    "        return \"VT5-v+c\"\n",
    "    if model_name == \"VILT + T5 -answer, +constraint\": \n",
    "        return \"VT5-t+c\" \n",
    "    if model_name == \"VILT+T5, +constraint\": \n",
    "        return \"VT5+c\"\n",
    "\n",
    "df = pd.read_csv(\"data/dev_gen_scores.csv\")\n",
    "df['Model'] = df['Model'].apply(parse_model_name)\n",
    "df['BERT'] = df['BERTScore']\n",
    "# print(df.head())\n",
    "columns = [\"Model\", \"BLEU-4\", \"BLEU-3\", \"BLEU-2\", \"BLEU-1\", \"CIDEr\", \"ROUGE-L\", \"METEOR\", \"BERT\"]\n",
    "table = df.to_latex(columns = columns,\n",
    "                    na_rep = \"N/A\",\n",
    "                    column_format=\"c\"*len(columns),\n",
    "                    index=False)\n",
    "\n",
    "print(table)"
   ]
  },
  {
   "cell_type": "code",
   "execution_count": null,
   "metadata": {},
   "outputs": [],
   "source": []
  }
 ],
 "metadata": {
  "kernelspec": {
   "display_name": "Python 3.8.12 ('cert')",
   "language": "python",
   "name": "python3"
  },
  "language_info": {
   "codemirror_mode": {
    "name": "ipython",
    "version": 3
   },
   "file_extension": ".py",
   "mimetype": "text/x-python",
   "name": "python",
   "nbconvert_exporter": "python",
   "pygments_lexer": "ipython3",
   "version": "3.8.12"
  },
  "orig_nbformat": 4,
  "vscode": {
   "interpreter": {
    "hash": "a71203a0affc7207a6dfd2214cf786ae35ec96fb0be57392a936686760a696bf"
   }
  }
 },
 "nbformat": 4,
 "nbformat_minor": 2
}
