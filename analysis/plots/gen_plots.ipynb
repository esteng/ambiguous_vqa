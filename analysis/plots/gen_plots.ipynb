{
 "cells": [
  {
   "cell_type": "code",
   "execution_count": 1,
   "metadata": {},
   "outputs": [],
   "source": [
    "import csv \n",
    "import pandas as pd \n",
    "import numpy as np \n"
   ]
  },
  {
   "cell_type": "code",
   "execution_count": 4,
   "metadata": {},
   "outputs": [
    {
     "name": "stdout",
     "output_type": "stream",
     "text": [
      "\\begin{tabular}{ccccccccc}\n",
      "\\toprule\n",
      "   Model &  BLEU-1 &  BLEU-2 &  BLEU-3 &  BLEU-4 &  CIDEr &  ROUGE-L &  METEOR &  BERT \\\\\n",
      "\\midrule\n",
      "iVQA\\$\\textasciicircum *\\$ &    0.43 &    0.33 &    0.26 &    0.21 &   1.71 &     0.47 &    0.21 &   N/A \\\\\n",
      "   VT5-v &    0.47 &    0.31 &    0.22 &    0.16 &   1.05 &     0.42 &    0.41 &  0.93 \\\\\n",
      "   VT5-t &    0.39 &    0.21 &    0.14 &    0.10 &   0.48 &     0.29 &    0.30 &  0.91 \\\\\n",
      "     VT5 &    0.53 &    0.37 &    0.28 &    0.22 &   1.51 &     0.46 &    0.47 &  0.94 \\\\\n",
      " VT5-v+c &    0.47 &    0.30 &    0.21 &    0.15 &   1.33 &     0.43 &    0.45 &  0.93 \\\\\n",
      " VT5-t+c &    0.42 &    0.25 &    0.17 &    0.12 &   0.95 &     0.34 &    0.38 &  0.92 \\\\\n",
      "   VT5+c &    0.53 &    0.37 &    0.27 &    0.21 &   1.73 &     0.47 &    0.50 &  0.94 \\\\\n",
      "\\bottomrule\n",
      "\\end{tabular}\n",
      "\n"
     ]
    },
    {
     "name": "stderr",
     "output_type": "stream",
     "text": [
      "<ipython-input-4-92e5d1d4ffed>:22: FutureWarning: In future versions `DataFrame.to_latex` is expected to utilise the base implementation of `Styler.to_latex` for formatting and rendering. The arguments signature may therefore change. It is recommended instead to use `DataFrame.style.to_latex` which also contains additional functionality.\n",
      "  table = df.to_latex(columns = columns,\n"
     ]
    }
   ],
   "source": [
    "\n",
    "\n",
    "def parse_model_name(model_name):\n",
    "    if model_name == \"iVQA (*train and test different)\":\n",
    "        return \"iVQA$^*$\"\n",
    "    if model_name == \"VILT+T5 -image, -constraint\":\n",
    "        return \"VT5-v\"\n",
    "    if model_name == \"VILT + T5 -answer, -constraint\":\n",
    "        return \"VT5-t\"\n",
    "    if model_name == \"VILT+T5, -constraint\":\n",
    "        return \"VT5\" \n",
    "    if model_name == \"VILT+T5 -image, +constraint\":\n",
    "        return \"VT5-v+c\"\n",
    "    if model_name == \"VILT + T5 -answer, +constraint\": \n",
    "        return \"VT5-t+c\" \n",
    "    if model_name == \"VILT+T5, +constraint\": \n",
    "        return \"VT5+c\"\n",
    "\n",
    "df = pd.read_csv(\"data/dev_gen_scores.csv\")\n",
    "df['Model'] = df['Model'].apply(parse_model_name)\n",
    "df['BERT'] = df['BERTScore']\n",
    "# print(df.head())\n",
    "columns = [\"Model\", \"BLEU-1\", \"BLEU-2\", \"BLEU-3\", \"BLEU-4\", \"CIDEr\", \"ROUGE-L\", \"METEOR\", \"BERT\"]\n",
    "table = df.to_latex(columns = columns,\n",
    "                    na_rep = \"N/A\",\n",
    "                    column_format=\"c\"*len(columns),\n",
    "                    index=False)\n",
    "\n",
    "print(table)"
   ]
  },
  {
   "cell_type": "code",
   "execution_count": 5,
   "metadata": {},
   "outputs": [
    {
     "name": "stdout",
     "output_type": "stream",
     "text": [
      "\\begin{tabular}{ccccccccc}\n",
      "\\toprule\n",
      "   Model &  BLEU-1 &  BLEU-2 &  BLEU-3 &  BLEU-4 &  CIDEr &  ROUGE-L &  METEOR &  BERT \\\\\n",
      "\\midrule\n",
      "iVQA\\$\\textasciicircum *\\$ &    0.43 &    0.33 &    0.26 &    0.21 &   1.71 &     0.47 &    0.21 &   N/A \\\\\n",
      "   VT5-v &    0.50 &    0.35 &    0.27 &    0.22 &   1.51 &     0.45 &    0.44 &  0.93 \\\\\n",
      "   VT5-t &    0.42 &    0.26 &    0.20 &    0.16 &   1.00 &     0.32 &    0.34 &  0.92 \\\\\n",
      "     VT5 &    0.55 &    0.41 &    0.33 &    0.27 &   1.98 &     0.48 &    0.49 &  0.94 \\\\\n",
      " VT5-v+c &    0.50 &    0.34 &    0.26 &    0.21 &   1.82 &     0.47 &    0.49 &  0.93 \\\\\n",
      " VT5-t+c &    0.45 &    0.29 &    0.22 &    0.18 &   1.51 &     0.38 &    0.42 &  0.92 \\\\\n",
      "   VT5+c &    0.56 &    0.40 &    0.31 &    0.26 &   2.21 &     0.50 &    0.53 &  0.94 \\\\\n",
      "\\bottomrule\n",
      "\\end{tabular}\n",
      "\n"
     ]
    },
    {
     "name": "stderr",
     "output_type": "stream",
     "text": [
      "<ipython-input-5-c6b312675b1b>:6: FutureWarning: In future versions `DataFrame.to_latex` is expected to utilise the base implementation of `Styler.to_latex` for formatting and rendering. The arguments signature may therefore change. It is recommended instead to use `DataFrame.style.to_latex` which also contains additional functionality.\n",
      "  table = df.to_latex(columns = columns,\n"
     ]
    }
   ],
   "source": [
    "\n",
    "\n",
    "df = pd.read_csv(\"data/test_gen_scores.csv\")\n",
    "df['Model'] = df['Model'].apply(parse_model_name)\n",
    "df['BERT'] = df['BERTScore']\n",
    "# print(df.head())\n",
    "columns = [\"Model\", \"BLEU-1\", \"BLEU-2\", \"BLEU-3\", \"BLEU-4\", \"CIDEr\", \"ROUGE-L\", \"METEOR\", \"BERT\"]\n",
    "table = df.to_latex(columns = columns,\n",
    "                    na_rep = \"N/A\",\n",
    "                    column_format=\"c\"*len(columns),\n",
    "                    index=False)\n",
    "\n",
    "print(table)"
   ]
  },
  {
   "cell_type": "code",
   "execution_count": null,
   "metadata": {},
   "outputs": [],
   "source": []
  }
 ],
 "metadata": {
  "kernelspec": {
   "display_name": "Python 3.8.12 ('cert')",
   "language": "python",
   "name": "python3"
  },
  "language_info": {
   "codemirror_mode": {
    "name": "ipython",
    "version": 3
   },
   "file_extension": ".py",
   "mimetype": "text/x-python",
   "name": "python",
   "nbconvert_exporter": "python",
   "pygments_lexer": "ipython3",
   "version": "3.8.12"
  },
  "orig_nbformat": 4,
  "vscode": {
   "interpreter": {
    "hash": "a71203a0affc7207a6dfd2214cf786ae35ec96fb0be57392a936686760a696bf"
   }
  }
 },
 "nbformat": 4,
 "nbformat_minor": 2
}
