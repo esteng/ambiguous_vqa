{
 "cells": [
  {
   "cell_type": "code",
   "execution_count": 1,
   "metadata": {},
   "outputs": [
    {
     "name": "stdout",
     "output_type": "stream",
     "text": [
      "test: 211\n",
      "dev: 30\n"
     ]
    }
   ],
   "source": [
    "import csv \n",
    "from collections import defaultdict \n",
    "\n",
    "with open(\"/home/estengel/annotator_uncertainty/hit3.0/results/cleaned_data/csv/test_set.csv\", \"r\") as f:\n",
    "    reader = csv.DictReader(f)\n",
    "    data = list(reader)\n",
    "    print(f\"test: {len(data)}\") \n",
    "with open(\"/home/estengel/annotator_uncertainty/hit3.0/results/cleaned_data/csv/dev_set.csv\", \"r\") as f:\n",
    "    reader = csv.DictReader(f)\n",
    "    dev_data = list(reader)\n",
    "    print(f\"dev: {len(dev_data)}\")\n",
    "    data += dev_data\n",
    "\n"
   ]
  },
  {
   "cell_type": "markdown",
   "metadata": {},
   "source": [
    "## Data stats\n",
    "- how many examples\n",
    "- how many answers "
   ]
  },
  {
   "cell_type": "code",
   "execution_count": 2,
   "metadata": {},
   "outputs": [
    {
     "name": "stdout",
     "output_type": "stream",
     "text": [
      "0 repeat examples []\n",
      "1820 answers in 241 examples, 629 questions\n",
      "min: 1, max: 9, mean: 2.8934817170111287\n"
     ]
    }
   ],
   "source": [
    "import json \n",
    "import numpy as np\n",
    "n_answers = []\n",
    "n_examples = 0\n",
    "n_questions = 0\n",
    "\n",
    "# how persistent is the repeat problem \n",
    "problem = []\n",
    "for row in data:\n",
    "    answer_groups = json.loads(row['Answer.answer_groups']) \n",
    "    groups_for_row = 0\n",
    "    answer_group_id_sets = []\n",
    "    # if row['Input.question_id'] in [\"250194002\", \"223458004\", '139390001', '170107002', \"176087007\", '25515000', '459848003'] :\n",
    "        # continue\n",
    "    for group in answer_groups:\n",
    "        group_ids = [x['id'] + \"_\" + x['content'] for x in group]\n",
    "        group_ids = set(group_ids)\n",
    "        answer_group_id_sets.append(group_ids)\n",
    "        groups_for_row += len(group_ids)\n",
    "        n_answers.append(len(group_ids))\n",
    "\n",
    "    for i, id_set1 in enumerate(answer_group_id_sets):\n",
    "        for j, id_set2 in enumerate(answer_group_id_sets):\n",
    "            if i != j and len(id_set1 & id_set2) > 0:\n",
    "                problem.append(row['Input.question_id']) \n",
    "\n",
    "    if groups_for_row > 10:\n",
    "        print(row['Input.question_id'])\n",
    "        print(groups_for_row)\n",
    "        print(row['Answer.answer_groups'])\n",
    "        for group in answer_groups:\n",
    "            group_ids = [x['id'] + \"_\"+ x['content'] for x in group]\n",
    "            group_ids = set(group_ids)\n",
    "            print(group_ids)\n",
    "        break \n",
    "    n_questions += len(answer_groups)\n",
    "\n",
    "    n_examples += 1\n",
    "\n",
    "problem = list(set(problem)) \n",
    "print(f\"{len(problem)} repeat examples {problem}\")\n",
    "total_n_answers = sum(n_answers)\n",
    "min_n_answers = min(n_answers)\n",
    "max_n_answers = max(n_answers)\n",
    "mean_n_answers = np.mean(n_answers)\n",
    "\n",
    "print(f\"{total_n_answers} answers in {n_examples} examples, {n_questions} questions\")\n",
    "print(f\"min: {min_n_answers}, max: {max_n_answers}, mean: {mean_n_answers}\")"
   ]
  },
  {
   "cell_type": "markdown",
   "metadata": {},
   "source": [
    "## How many in pilot were skipped vs non-skipped? \n",
    "\n"
   ]
  },
  {
   "cell_type": "code",
   "execution_count": null,
   "metadata": {},
   "outputs": [],
   "source": [
    "skipped = ['445745002', '447840008', '289583000', '265967000', '45836002', '466845001', '47729001', '107886009', '113962006', '12145002', '149739002', '16364001', '172475009', '174667001', '481820007', '217591002', '219173000', '227713000', '230655007', '254210022', '177837002', '261271005', '265051013', '270184001', '279073000', '279241000', '300571000', '303892002']\n",
    "unskipped = ['456109001', '460694000', '139390001', '165829001', '170107002', '176087007', '321960001', '385276000', '385276000', '25515000', '318850001', '459848003', '297043005', '405041002']\n",
    "\n",
    "with open(\"/home/estengel/annotator_uncertainty/hit3.0/csvs/for_mturk_pilot.csv\") as f1:\n",
    "    pilot_data = list(csv.DictReader(f1)) \n",
    "\n",
    "qid_list = [str(x) for x in json.loads(pilot_data[0]['questionIDList'])]\n",
    "\n",
    "skipped_count, unskipped_count = 0, 0\n",
    "for qid in qid_list:\n",
    "    if qid in skipped:\n",
    "        skipped_count += 1\n",
    "    elif qid in unskipped:\n",
    "        unskipped_count += 1\n",
    "    else:\n",
    "        print(qid)\n",
    "        raise Exception\n",
    "\n",
    "print(f\"{skipped_count} kskipped, {unskipped_count} unskipped\")\n"
   ]
  },
  {
   "cell_type": "markdown",
   "metadata": {},
   "source": [
    "## How many skipped in full annotation "
   ]
  },
  {
   "cell_type": "code",
   "execution_count": null,
   "metadata": {},
   "outputs": [],
   "source": [
    "from pathlib import Path\n",
    "\n",
    "path = Path(\"/home/estengel/annotator_uncertainty/hit3.0/results/mturk/\")\n",
    "all_csvs = path.glob(\"full_hit_round_*/*.csv\")\n",
    "\n",
    "\n",
    "n_skipped = 0\n",
    "n_annotated = 0\n",
    "for pp in all_csvs:\n",
    "    data = list(csv.DictReader(open(pp)))\n",
    "    for row in data:\n",
    "        is_skipped = json.loads(row['Answer.is_skip'])\n",
    "        if is_skipped:\n",
    "            n_skipped += 1\n",
    "        else:\n",
    "            n_annotated += 1\n",
    "print(f\"{n_skipped} skipped, {n_annotated} annotated\")\n"
   ]
  },
  {
   "cell_type": "code",
   "execution_count": null,
   "metadata": {},
   "outputs": [],
   "source": []
  }
 ],
 "metadata": {
  "kernelspec": {
   "display_name": "Python 3.8.12 ('cert')",
   "language": "python",
   "name": "python3"
  },
  "language_info": {
   "codemirror_mode": {
    "name": "ipython",
    "version": 3
   },
   "file_extension": ".py",
   "mimetype": "text/x-python",
   "name": "python",
   "nbconvert_exporter": "python",
   "pygments_lexer": "ipython3",
   "version": "3.8.12"
  },
  "orig_nbformat": 4,
  "vscode": {
   "interpreter": {
    "hash": "a71203a0affc7207a6dfd2214cf786ae35ec96fb0be57392a936686760a696bf"
   }
  }
 },
 "nbformat": 4,
 "nbformat_minor": 2
}
