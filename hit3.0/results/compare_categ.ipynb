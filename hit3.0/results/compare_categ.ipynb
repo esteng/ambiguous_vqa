{
 "cells": [
  {
   "cell_type": "code",
   "execution_count": 1,
   "metadata": {},
   "outputs": [],
   "source": [
    "from compare_categ import preprocess, read_csv, compare"
   ]
  },
  {
   "cell_type": "code",
   "execution_count": 2,
   "metadata": {},
   "outputs": [
    {
     "name": "stderr",
     "output_type": "stream",
     "text": [
      "<ipython-input-2-d71306b12d10>:6: DeprecationWarning: Importing display from IPython.core.display is deprecated since IPython 7.14, please import from IPython display\n",
      "  from IPython.core.display import Image, display\n"
     ]
    }
   ],
   "source": [
    "from collections import defaultdict\n",
    "import csv \n",
    "from csv import reader\n",
    "from scipy.optimize import linear_sum_assignment\n",
    "#from PIL import Image as im\n",
    "from IPython.core.display import Image, display\n",
    "from IPython.display import clear_output\n",
    "import requests\n",
    "from io import BytesIO\n",
    "import json \n",
    "import pickle as pkl \n"
   ]
  },
  {
   "cell_type": "code",
   "execution_count": 3,
   "metadata": {},
   "outputs": [],
   "source": [
    "def write(path, data):\n",
    "    with open(path, 'wb') as f:\n",
    "        pkl.dump(data, f)\n",
    "\n",
    "def read(path):\n",
    "    with open(path, 'rb') as f:\n",
    "        return pkl.load(f)"
   ]
  },
  {
   "cell_type": "code",
   "execution_count": 17,
   "metadata": {},
   "outputs": [
    {
     "name": "stdout",
     "output_type": "stream",
     "text": [
      "question: \"Which way is the traffic heading?\"\n",
      "groups: [{'In which way is the traffic heading?': ['to right']}, {'Which way is the traffic heading gepgraphically?': ['west']}]\n",
      "jgualla1 said: {'A/D', 'U'}\n",
      "esteng said: {'A/D'}\n"
     ]
    },
    {
     "data": {
      "text/html": [
       "<img src=\"https://cs.jhu.edu/~esteng/images_for_hit/COCO_train2014_000000352188.jpg\"/>"
      ],
      "text/plain": [
       "<IPython.core.display.Image object>"
      ]
     },
     "metadata": {},
     "output_type": "display_data"
    }
   ],
   "source": [
    "csv1 = \"categ/csv_input-Batch_1886_results.csv\"\n",
    "csv2 = \"categ/csv_input-Batch_1912_results.csv\"\n",
    "\n",
    "disagree_rows = compare(csv1, csv2)\n",
    "\n",
    "corrected = []\n",
    "remaining = []\n",
    "corrected_path = \"categ/corrected.pkl\"\n",
    "remaining_path = \"categ/remaining.pkl\"\n",
    "\n",
    "try:\n",
    "    corrected = read(corrected_path)\n",
    "    remaining = read(remaining_path)\n",
    "except FileNotFoundError:\n",
    "    pass \n",
    "\n",
    "\n",
    "for row1, row2 in disagree_rows:\n",
    "    ans1 = preprocess(row1['Answer.skip_reason']) \n",
    "    ann1 = row1['Turkle.Username']\n",
    "    ans2 = preprocess(row2['Answer.skip_reason'])\n",
    "    ann2 = row2['Turkle.Username']\n",
    "     \n",
    "    groups = []\n",
    "    new_questions = json.loads(row1['Answer.answer_questions'])\n",
    "    for i, g in enumerate(json.loads(row1['Answer.answer_groups'])):\n",
    "        group = []\n",
    "        new_question = new_questions[i]\n",
    "        for x in g:\n",
    "            group.append(x['content'])\n",
    "        groups.append({new_question: group})\n",
    "    print(f\"question: {row1['Input.questionStr']}\")\n",
    "    print(f\"groups: {groups}\")\n",
    "\n",
    "    print(f\"{ann1} said: {ans1}\")\n",
    "    print(f\"{ann2} said: {ans2}\")\n",
    "\n",
    "    image_url = row1['Input.imgUrl'].strip('\"')\n",
    "    display(Image(url=image_url))\n",
    "\n",
    "    ans = input(\"Which ann is correct? 1, 2, or 3 (neither)\")\n",
    "    ans = ans.strip()\n",
    "    if ans == \"1\":\n",
    "        corrected.append(row1)\n",
    "    elif ans == \"2\": \n",
    "        corrected.append(row2)\n",
    "    elif ans == \"\":\n",
    "        remaining.append((row1, row2))\n",
    "    else: \n",
    "        edited_row = row1.copy()\n",
    "        edited_row['Ansswer.skip_reason'] = ans\n",
    "        corrected.append(edited_row)\n",
    "\n",
    "    write(corrected_path, corrected)\n",
    "    write(remaining_path, remaining)\n",
    "    clear_output(wait=True)\n"
   ]
  },
  {
   "cell_type": "code",
   "execution_count": 5,
   "metadata": {},
   "outputs": [
    {
     "name": "stdout",
     "output_type": "stream",
     "text": [
      "145\n"
     ]
    }
   ],
   "source": [
    "corrected = read(\"categ/corrected.pkl\")\n",
    "\n",
    "print(len(corrected))"
   ]
  },
  {
   "cell_type": "code",
   "execution_count": 6,
   "metadata": {},
   "outputs": [
    {
     "name": "stdout",
     "output_type": "stream",
     "text": [
      "agreed on 51.19% of cases (151/295)\n"
     ]
    }
   ],
   "source": [
    "csv1 = \"categ/csv_input-Batch_1886_results.csv\"\n",
    "csv2 = \"categ/csv_input-Batch_1912_results.csv\"\n",
    "\n",
    "disagree_rows = compare(csv1, csv2)"
   ]
  },
  {
   "cell_type": "code",
   "execution_count": 7,
   "metadata": {},
   "outputs": [
    {
     "name": "stdout",
     "output_type": "stream",
     "text": [
      "144\n"
     ]
    }
   ],
   "source": [
    "import copy \n",
    "data1, data2 = read_csv(csv1), read_csv(csv2)\n",
    "\n",
    "corrected_by_qid = {r['Input.questionId']: r for r in corrected}\n",
    "\n",
    "clean_csv_data = copy.deepcopy(data1)\n",
    "for i in range(len(data1)):\n",
    "    r1 = data1[i]\n",
    "    r2 = data2[i]\n",
    "    clean_r = clean_csv_data[i]\n",
    "\n",
    "    clean_tup = []\n",
    "    if r1['Input.questionId'] in corrected_by_qid.keys():\n",
    "        clean_tup.append(json.loads(corrected_by_qid[r1['Input.questionId']]['Answer.skip_reason']))\n",
    "    else:\n",
    "        clean_tup.append(r1['Answer.skip_reason'])\n",
    "    clean_tup.append(json.loads(r1['Answer.skip_reason']))\n",
    "    clean_tup.append(json.loads(r2['Answer.skip_reason']))\n",
    "    clean_r['Answer.skip_reason'] = json.dumps(clean_tup)\n",
    "\n",
    "import csv \n",
    "with open(\"categ/csv_clean.csv\", \"w\") as f1:\n",
    "    writer = csv.DictWriter(f1, fieldnames=clean_csv_data[0].keys())\n",
    "    writer.writeheader()\n",
    "    writer.writerows(clean_csv_data)\n"
   ]
  },
  {
   "cell_type": "code",
   "execution_count": 9,
   "metadata": {},
   "outputs": [
    {
     "data": {
      "text/plain": [
       "'\"A/M.A/G\"'"
      ]
     },
     "execution_count": 9,
     "metadata": {},
     "output_type": "execute_result"
    }
   ],
   "source": [
    "\n",
    "corrected[0]['Answer.skip_reason']"
   ]
  },
  {
   "cell_type": "code",
   "execution_count": null,
   "metadata": {},
   "outputs": [],
   "source": []
  }
 ],
 "metadata": {
  "interpreter": {
   "hash": "a71203a0affc7207a6dfd2214cf786ae35ec96fb0be57392a936686760a696bf"
  },
  "kernelspec": {
   "display_name": "Python 3.8.12 ('cert')",
   "language": "python",
   "name": "python3"
  },
  "language_info": {
   "codemirror_mode": {
    "name": "ipython",
    "version": 3
   },
   "file_extension": ".py",
   "mimetype": "text/x-python",
   "name": "python",
   "nbconvert_exporter": "python",
   "pygments_lexer": "ipython3",
   "version": "3.8.12"
  },
  "orig_nbformat": 4
 },
 "nbformat": 4,
 "nbformat_minor": 2
}
