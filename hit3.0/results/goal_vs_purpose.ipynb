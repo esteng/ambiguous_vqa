{
 "cells": [
  {
   "cell_type": "code",
   "execution_count": null,
   "metadata": {},
   "outputs": [],
   "source": [
    "\n",
    "from compare_categ import preprocess, read_csv, compare\n",
    "from collections import defaultdict\n",
    "import csv \n",
    "from csv import reader\n",
    "from scipy.optimize import linear_sum_assignment\n",
    "#from PIL import Image as im\n",
    "from IPython.core.display import Image, display\n",
    "from IPython.display import clear_output\n",
    "import requests\n",
    "from io import BytesIO\n",
    "import json \n",
    "import pickle as pkl \n"
   ]
  },
  {
   "cell_type": "code",
   "execution_count": null,
   "metadata": {},
   "outputs": [],
   "source": [
    "def write(path, data):\n",
    "    with open(path, 'wb') as f:\n",
    "        pkl.dump(data, f)"
   ]
  },
  {
   "cell_type": "markdown",
   "metadata": {},
   "source": [
    "## Round 1:"
   ]
  },
  {
   "cell_type": "code",
   "execution_count": null,
   "metadata": {},
   "outputs": [],
   "source": [
    "data = read_csv(\"categ/csv_clean.csv\")\n",
    "\n",
    "\n",
    "\n",
    "annotated = []\n",
    "annotated_path = \"categ/purpose_goal_annotated.pkl\"\n",
    "for row in data:\n",
    "    reason, r1, r2= json.loads(row['Answer.skip_reason'])\n",
    "\n",
    "    if \"reason\" in reason or \"~\" in reason or \"A/D\" in reason:\n",
    "        groups = []\n",
    "        new_questions = json.loads(row['Answer.answer_questions'])\n",
    "        for i, g in enumerate(json.loads(row['Answer.answer_groups'])):\n",
    "            group = []\n",
    "            new_question = new_questions[i]\n",
    "            for x in g:\n",
    "                group.append(x['content'])\n",
    "            groups.append({new_question: group})\n",
    "        print(f\"question: {row['Input.questionStr']}\")\n",
    "        print(f\"groups: {groups}\")\n",
    "        print(f\"reason: {reason}\")\n",
    "        image_url = row['Input.imgUrl'].strip('\"')\n",
    "        display(Image(url=image_url))\n",
    "        ans = input(\"New class: A/P, A/G, A/C, skip?\")\n",
    "        ans = ans.strip()\n",
    "        row['Answer.skip_reason'] = json.dumps([ans, r1, r2])\n",
    "        annotated.append(row)\n",
    "        write(annotated_path, annotated)\n",
    "     # else:\n",
    "    #     clear_output(wait=True)"
   ]
  },
  {
   "cell_type": "code",
   "execution_count": null,
   "metadata": {},
   "outputs": [],
   "source": [
    "\n",
    "# display only\n",
    "with open(\"categ/purpose_goal_annotated.pkl\", \"rb\") as f:\n",
    "    data = pkl.load(f)\n",
    "\n",
    "\n",
    "for row in data: \n",
    "    reason, r1, r2= json.loads(row['Answer.skip_reason'])\n",
    "\n",
    "    groups = []\n",
    "    new_questions = json.loads(row['Answer.answer_questions'])\n",
    "    for i, g in enumerate(json.loads(row['Answer.answer_groups'])):\n",
    "        group = []\n",
    "        new_question = new_questions[i]\n",
    "        for x in g:\n",
    "            group.append(x['content'])\n",
    "        groups.append({new_question: group})\n",
    "    print(f\"question: {row['Input.questionStr']}\")\n",
    "    print(f\"groups: {groups}\")\n",
    "    print(f\"reason: {reason}\")\n",
    "    image_url = row['Input.imgUrl'].strip('\"')\n",
    "    display(Image(url=image_url))\n",
    "    ans = input(\"Continue?\") \n",
    "    clear_output(wait=True)\n"
   ]
  },
  {
   "cell_type": "markdown",
   "metadata": {},
   "source": [
    "## Round 2 "
   ]
  },
  {
   "cell_type": "code",
   "execution_count": null,
   "metadata": {},
   "outputs": [],
   "source": [
    "\n",
    "with open(\"categ/purpose_goal_annotated.pkl\", \"rb\") as f:\n",
    "    data = pkl.load(f)\n",
    "\n",
    "\n",
    "annotated = []\n",
    "annotated_path = \"categ/purpose_goal_annotated_round_2.pkl\"\n",
    "for row in data:\n",
    "    reason, r1, r2= json.loads(row['Answer.skip_reason'])\n",
    "\n",
    "    if \"skip\" in reason or \"~\" in reason:\n",
    "        continue\n",
    "    else:\n",
    "        # A/G: goal\n",
    "        # A/P: purpose\n",
    "        # A/C: cause \n",
    "        # A/N: manner \n",
    "        groups = []\n",
    "        new_questions = json.loads(row['Answer.answer_questions'])\n",
    "        for i, g in enumerate(json.loads(row['Answer.answer_groups'])):\n",
    "            group = []\n",
    "            new_question = new_questions[i]\n",
    "            for x in g:\n",
    "                group.append(x['content'])\n",
    "            groups.append({new_question: group})\n",
    "        print(f\"question: {row['Input.questionStr']}\")\n",
    "        print(f\"groups: {groups}\")\n",
    "        print(f\"reason: {reason}\")\n",
    "        image_url = row['Input.imgUrl'].strip('\"')\n",
    "        display(Image(url=image_url))\n",
    "        ans = input(\"New class: A/P, A/G, A/C, A/N skip?\")\n",
    "        ans = ans.strip()\n",
    "        row['Answer.skip_reason'] = json.dumps([ans, r1, r2])\n",
    "        annotated.append(row)\n",
    "        write(annotated_path, annotated)\n",
    "     # else:\n",
    "    #     clear_output(wait=True)"
   ]
  },
  {
   "cell_type": "code",
   "execution_count": 9,
   "metadata": {},
   "outputs": [],
   "source": [
    "# merge and save \n",
    "with open(\"categ/purpose_goal_annotated.pkl\", \"rb\") as f:\n",
    "    data_round_1 = pkl.load(f)\n",
    "with open(\"categ/purpose_goal_annotated_round_2.pkl\", \"rb\") as f:\n",
    "    data_round_2 = pkl.load(f)\n",
    "\n",
    "round_2_keys = [row['Input.question_id'] for row in data_round_2]\n",
    "combined = []\n",
    "\n",
    "for row in data_round_1:\n",
    "    if row['Input.question_id'] in round_2_keys:\n",
    "        continue\n",
    "    combined.append(row)\n",
    "for row in data_round_2:\n",
    "    combined.append(row)\n",
    "\n",
    "csv_path = \"categ/purpose_goal_annotated.csv\"\n",
    "with open(csv_path, \"w\") as f1:\n",
    "    writer = csv.DictWriter(f1, fieldnames=combined[0].keys())\n",
    "    writer.writeheader()\n",
    "    writer.writerows(combined)"
   ]
  },
  {
   "cell_type": "code",
   "execution_count": null,
   "metadata": {},
   "outputs": [],
   "source": []
  }
 ],
 "metadata": {
  "interpreter": {
   "hash": "a71203a0affc7207a6dfd2214cf786ae35ec96fb0be57392a936686760a696bf"
  },
  "kernelspec": {
   "display_name": "Python 3.8.12 ('cert')",
   "language": "python",
   "name": "python3"
  },
  "language_info": {
   "codemirror_mode": {
    "name": "ipython",
    "version": 3
   },
   "file_extension": ".py",
   "mimetype": "text/x-python",
   "name": "python",
   "nbconvert_exporter": "python",
   "pygments_lexer": "ipython3",
   "version": "3.8.12"
  },
  "orig_nbformat": 4
 },
 "nbformat": 4,
 "nbformat_minor": 2
}
