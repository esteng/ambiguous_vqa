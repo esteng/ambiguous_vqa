{
 "cells": [
  {
   "cell_type": "code",
   "execution_count": 1,
   "metadata": {},
   "outputs": [],
   "source": [
    "from transformers import AutoTokenizer, AutoModelForSeq2SeqLM\n",
    "\n",
    "import os \n",
    "\n",
    "os.environ.update({\"ALLENNLP_CACHE_ROOT\": \"/brtx/603-nvme2/estengel/annotator_uncertainty/vqa/\"})"
   ]
  },
  {
   "cell_type": "code",
   "execution_count": 2,
   "metadata": {},
   "outputs": [],
   "source": [
    "tokenizer = AutoTokenizer.from_pretrained(\"bigscience/T0pp\")\n",
    "model = AutoModelForSeq2SeqLM.from_pretrained(\"bigscience/T0pp\")\n"
   ]
  },
  {
   "cell_type": "code",
   "execution_count": 4,
   "metadata": {},
   "outputs": [],
   "source": [
    "import json \n",
    "\n",
    "data_path = \"../../hit3.0/results/json_data/dev.jsonl\"\n",
    "with open(data_path) as f1:\n",
    "    data = [json.loads(line) for line in f1]\n"
   ]
  },
  {
   "cell_type": "code",
   "execution_count": 25,
   "metadata": {},
   "outputs": [],
   "source": [
    "prompt = \"Rephrase the following question to match the answer.\\nQuestion: {question}\\nAnswer: {answer}\\nNew Question: \"\n",
    "\n",
    "all_prompts = []\n",
    "for example in data:\n",
    "    old_question = example['original_question']\n",
    "    for annotation in example[\"annotations\"]:\n",
    "\n",
    "        clusters_and_questions = zip(annotation['new_clusters'], annotation['new_questions'])\n",
    "        for c, q in clusters_and_questions:\n",
    "            for answer_dict in c:\n",
    "                answer = answer_dict['content']\n",
    "                filled_prompt = prompt.format(question=old_question, answer=answer)\n",
    "                all_prompts.append(filled_prompt)\n"
   ]
  },
  {
   "cell_type": "code",
   "execution_count": 26,
   "metadata": {},
   "outputs": [
    {
     "name": "stdout",
     "output_type": "stream",
     "text": [
      "Rephrase the following question to match the answer.\n",
      "Question: What are the pizzas on?\n",
      "Answer: plates\n",
      "New Question: \n",
      "['<pad> The pizzas are on what?</s>']\n",
      "\n",
      "Rephrase the following question to match the answer.\n",
      "Question: What are the pizzas on?\n",
      "Answer: plate\n",
      "New Question: \n",
      "['<pad> The pizzas are on a _.</s>']\n",
      "\n",
      "Rephrase the following question to match the answer.\n",
      "Question: What are the pizzas on?\n",
      "Answer: metal pan\n",
      "New Question: \n",
      "['<pad> The pizzas are on what?</s>']\n",
      "\n",
      "Rephrase the following question to match the answer.\n",
      "Question: What are the pizzas on?\n",
      "Answer: tray\n",
      "New Question: \n",
      "['<pad> The pizzas are on a what?</s>']\n",
      "\n",
      "Rephrase the following question to match the answer.\n",
      "Question: What are the pizzas on?\n",
      "Answer: pan\n",
      "New Question: \n",
      "['<pad> The pizzas are on what?</s>']\n",
      "\n",
      "Rephrase the following question to match the answer.\n",
      "Question: What are the pizzas on?\n",
      "Answer: tray\n",
      "New Question: \n",
      "['<pad> The pizzas are on a what?</s>']\n",
      "\n",
      "Rephrase the following question to match the answer.\n",
      "Question: What are the pizzas on?\n",
      "Answer: pan\n",
      "New Question: \n"
     ]
    }
   ],
   "source": [
    "for prompt in all_prompts:\n",
    "    print(prompt)\n",
    "    tokenized_prompt = tokenizer(prompt, return_tensors=\"pt\")\n",
    "    new_question = model.generate(**tokenized_prompt, do_sample=True, max_length=50, temperature=0.0001)\n",
    "    print(tokenizer.batch_decode(new_question))\n",
    "    print()"
   ]
  },
  {
   "cell_type": "code",
   "execution_count": null,
   "metadata": {},
   "outputs": [],
   "source": []
  }
 ],
 "metadata": {
  "interpreter": {
   "hash": "a71203a0affc7207a6dfd2214cf786ae35ec96fb0be57392a936686760a696bf"
  },
  "kernelspec": {
   "display_name": "Python 3.8.12 ('cert')",
   "language": "python",
   "name": "python3"
  },
  "language_info": {
   "codemirror_mode": {
    "name": "ipython",
    "version": 3
   },
   "file_extension": ".py",
   "mimetype": "text/x-python",
   "name": "python",
   "nbconvert_exporter": "python",
   "pygments_lexer": "ipython3",
   "version": "3.8.12"
  },
  "orig_nbformat": 4
 },
 "nbformat": 4,
 "nbformat_minor": 2
}
