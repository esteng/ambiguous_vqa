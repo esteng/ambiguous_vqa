{
 "cells": [
  {
   "cell_type": "code",
   "execution_count": 1,
   "metadata": {},
   "outputs": [],
   "source": [
    "import torch \n",
    "import numpy as np \n",
    "import pathlib\n",
    "import json "
   ]
  },
  {
   "cell_type": "code",
   "execution_count": 19,
   "metadata": {},
   "outputs": [],
   "source": [
    "\n",
    "def load_questions_and_annotations(path):\n",
    "    path = pathlib.Path(path) \n",
    "    question_path = path.joinpath(\"questions.json\")\n",
    "    annotation_path = path.joinpath(\"annotations.json\")\n",
    "    print(f\"loading from {path}\")\n",
    "    with open(question_path) as qf, open(annotation_path) as af:\n",
    "        questions = json.load(qf)\n",
    "        annotations = json.load(af)\n",
    "    return questions, annotations\n",
    "\n",
    "def load_training_vectors(path):\n",
    "    path = pathlib.Path(path)\n",
    "    vectors = path.glob(\"*.pt\")\n",
    "    return vectors\n",
    "\n",
    "\n",
    "def lookup_question_and_annotation(questions, annotations, question_id):\n",
    "    for i, (quest, ann) in enumerate(zip(questions['questions'], annotations['annotations'])): \n",
    "        if str(quest['question_id']) == str(question_id):\n",
    "            return quest, ann\n",
    "    return -1, -1 \n",
    "\n"
   ]
  },
  {
   "cell_type": "code",
   "execution_count": 6,
   "metadata": {},
   "outputs": [
    {
     "name": "stdout",
     "output_type": "stream",
     "text": [
      "loading from /brtx/603-nvme2/estengel/annotator_uncertainty/vqa/train_anns\n",
      "loading from /home/estengel/annotator_uncertainty/models/test_fixtures/data/real_vqa\n"
     ]
    }
   ],
   "source": [
    "training_qs, training_anns = load_questions_and_annotations(\"/brtx/603-nvme2/estengel/annotator_uncertainty/vqa/train_anns\") \n",
    "testing_qs, testing_anns = load_questions_and_annotations(\"/home/estengel/annotator_uncertainty/models/test_fixtures/data/real_vqa\")"
   ]
  },
  {
   "cell_type": "code",
   "execution_count": 7,
   "metadata": {},
   "outputs": [
    {
     "name": "stderr",
     "output_type": "stream",
     "text": [
      "100%|██████████| 43757/43757 [01:51<00:00, 392.20it/s]\n"
     ]
    }
   ],
   "source": [
    "from tqdm import tqdm \n",
    "best_idxs = []\n",
    "best_sims = []\n",
    "\n",
    "import os \n",
    "os.environ['CUDA_VISIBLE_DEVICES'] = '1'\n",
    "\n",
    "train_paths = [x for x in load_training_vectors(\"/brtx/602-nvme2/estengel/annotator_uncertainty/vqa/precomputed_retrieval/\")]\n",
    "test_paths = [x for x in load_training_vectors(\"/home/estengel/annotator_uncertainty/models/test_fixtures/data/real_vqa/precomputed/\")]\n",
    "\n",
    "# train_subset = train_paths[400000:600000]\n",
    "train_vectors = [torch.load(x, map_location=\"cpu\").reshape(1, -1) for x in tqdm(train_subset)]\n",
    "# test_vectors = [torch.load(x, map_location=\"cpu\").reshape(1, -1) for x in test_paths]\n",
    "# train_vectors = [torch.load(x, map_location=\"cpu\").reshape(1, -1) for x in load_training_vectors(\"/brtx/602-nvme2/estengel/annotator_uncertainty/vqa/precomputed_retrieval/\")]\n",
    "# test_vectors = [torch.load(x, map_location=\"cpu\").reshape(1, -1) for x in load_training_vectors(\"/home/estengel/annotator_uncertainty/models/test_fixtures/data/real_vqa/precomputed/\")]\n",
    "\n",
    "train_matrix = torch.cat(train_vectors, dim = 0)\n",
    "torch.save(train_matrix, \"/brtx/602-nvme2/estengel/annotator_uncertainty/vqa/precomputed_retrieval/shards/train_matrix_shard_2.pt\")\n",
    "# test_matrix = torch.cat(test_vectors, dim = 0)\n",
    "# print(train_matrix.shape)\n",
    "# print(test_matrix.shape)\n",
    "\n",
    "\n",
    "\n",
    "# for i, vp in enumerate(test_vectors):\n",
    "#     print(f\"{i} of {len(test_vectors)}\")\n",
    "#     vec = torch.load(vp).reshape(-1)\n",
    "#     best_sim = -1\n",
    "#     best_idx = -1 \n",
    "\n",
    "#     for j, tp in tqdm(enumerate(train_vectors), total=len(train_vectors)): \n",
    "#         tec = torch.load(tp).reshape(-1)\n",
    "#         sim = torch.nn.CosineSimilarity(dim=0)(vec, tec)\n",
    "#         if sim > best_sim:\n",
    "#             best_sim = sim\n",
    "#             best_idx = j\n",
    "#     best_idxs.append(best_idx)\n",
    "#     best_sims.append(best_sim)\n",
    "    # print(vp, vec.shape)"
   ]
  },
  {
   "cell_type": "code",
   "execution_count": 8,
   "metadata": {},
   "outputs": [
    {
     "name": "stdout",
     "output_type": "stream",
     "text": [
      "shard 0\n",
      "shard 1\n",
      "shard 2\n"
     ]
    }
   ],
   "source": [
    "print(\"shard 0\")\n",
    "shard0 = torch.load(\"/brtx/602-nvme2/estengel/annotator_uncertainty/vqa/precomputed_retrieval/shards/train_matrix_shard_0.pt\")\n",
    "print(\"shard 1\")\n",
    "shard1 = torch.load(\"/brtx/602-nvme2/estengel/annotator_uncertainty/vqa/precomputed_retrieval/shards/train_matrix_shard_1.pt\")\n",
    "print(\"shard 2\")\n",
    "shard2 = torch.load(\"/brtx/602-nvme2/estengel/annotator_uncertainty/vqa/precomputed_retrieval/shards/train_matrix_shard_2.pt\")"
   ]
  },
  {
   "cell_type": "code",
   "execution_count": 9,
   "metadata": {},
   "outputs": [],
   "source": [
    "train_matrix = torch.cat([shard0, shard1, shard2], dim=0)"
   ]
  },
  {
   "cell_type": "code",
   "execution_count": 11,
   "metadata": {},
   "outputs": [],
   "source": [
    "test_vectors = [torch.load(x, map_location=\"cpu\").reshape(1, -1) for x in load_training_vectors(\"/home/estengel/annotator_uncertainty/models/test_fixtures/data/real_vqa/precomputed/\")]\n",
    "test_matrix = torch.cat(test_vectors, dim = 0)"
   ]
  },
  {
   "cell_type": "code",
   "execution_count": 12,
   "metadata": {},
   "outputs": [
    {
     "data": {
      "text/plain": [
       "torch.Size([2, 443757])"
      ]
     },
     "execution_count": 12,
     "metadata": {},
     "output_type": "execute_result"
    }
   ],
   "source": [
    "\n",
    "import torch\n",
    "\n",
    "def sim_matrix(a, b, eps=1e-8):\n",
    "    \"\"\"\n",
    "    added eps for numerical stability\n",
    "    \"\"\"\n",
    "    a_n, b_n = a.norm(dim=1)[:, None], b.norm(dim=1)[:, None]\n",
    "    a_norm = a / torch.max(a_n, eps * torch.ones_like(a_n))\n",
    "    b_norm = b / torch.max(b_n, eps * torch.ones_like(b_n))\n",
    "    sim_mt = torch.mm(a_norm, b_norm.transpose(0, 1))\n",
    "    return sim_mt\n",
    "\n",
    "sim = sim_matrix(test_matrix, train_matrix)\n",
    "\n"
   ]
  },
  {
   "cell_type": "code",
   "execution_count": 21,
   "metadata": {},
   "outputs": [
    {
     "name": "stdout",
     "output_type": "stream",
     "text": [
      "loading from /brtx/603-nvme2/estengel/annotator_uncertainty/vqa/filtered\n",
      "-1\n",
      "-1\n",
      "{'image_id': 77055, 'question': 'What color is the bus?', 'question_id': 77055015}\n",
      "{'answer_type': 'other', 'multiple_choice_answer': 'white', 'answers': [{'answer': 'white', 'answer_confidence': 'yes', 'answer_id': 1}, {'answer': 'black and white', 'answer_confidence': 'yes', 'answer_id': 2}, {'answer': 'white', 'answer_confidence': 'maybe', 'answer_id': 3}, {'answer': 'white', 'answer_confidence': 'yes', 'answer_id': 4}, {'answer': 'white', 'answer_confidence': 'yes', 'answer_id': 5}, {'answer': 'white', 'answer_confidence': 'yes', 'answer_id': 6}, {'answer': 'white and blue', 'answer_confidence': 'maybe', 'answer_id': 7}, {'answer': 'white and green', 'answer_confidence': 'yes', 'answer_id': 8}, {'answer': 'white', 'answer_confidence': 'yes', 'answer_id': 9}, {'answer': 'white', 'answer_confidence': 'yes', 'answer_id': 10}], 'image_id': 77055, 'question_type': 'what color is the', 'question_id': 77055015}\n"
     ]
    }
   ],
   "source": [
    "\n",
    "filtered_training_qs, filtered_training_anns = load_questions_and_annotations(\"/brtx/603-nvme2/estengel/annotator_uncertainty/vqa/filtered\")\n",
    "\n",
    "top_idxs = sim.argmax(dim=-1)\n",
    "test_closest_train_examples = [train_paths[i] for i in top_idxs]\n",
    "\n",
    "for filename in test_closest_train_examples:\n",
    "    base = pathlib.Path(filename).stem\n",
    "    img_id, question_id, __ = base.split(\"_\")\n",
    "    question, annotation = lookup_question_and_annotation(filtered_training_qs, filtered_training_anns, question_id)\n",
    "    print(question)\n",
    "    print(annotation)"
   ]
  },
  {
   "cell_type": "code",
   "execution_count": null,
   "metadata": {},
   "outputs": [],
   "source": []
  }
 ],
 "metadata": {
  "interpreter": {
   "hash": "a71203a0affc7207a6dfd2214cf786ae35ec96fb0be57392a936686760a696bf"
  },
  "kernelspec": {
   "display_name": "Python 3.8.12 ('cert')",
   "language": "python",
   "name": "python3"
  },
  "language_info": {
   "codemirror_mode": {
    "name": "ipython",
    "version": 3
   },
   "file_extension": ".py",
   "mimetype": "text/x-python",
   "name": "python",
   "nbconvert_exporter": "python",
   "pygments_lexer": "ipython3",
   "version": "3.8.12"
  },
  "orig_nbformat": 4
 },
 "nbformat": 4,
 "nbformat_minor": 2
}
